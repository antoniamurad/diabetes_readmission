{
 "cells": [
  {
   "cell_type": "markdown",
   "id": "2350517580c7971f",
   "metadata": {
    "collapsed": false
   },
   "source": [
    "#### Group 2 - Diabetes readmission prediction"
   ]
  },
  {
   "cell_type": "markdown",
   "id": "26ccd722",
   "metadata": {},
   "source": [
    "### Summary:\n",
    "1. Loading\n",
    "\n",
    "2. Data cleaning\n",
    "    \n",
    "    2.1 Standardizing data\n",
    "\n",
    "    2.2 Inspecting data\n",
    "\n",
    "    2.3 Dealing with missing values\n",
    "    \n",
    "    2.4 Dealing with outliers\n",
    "    \n",
    "    2.5 Encoding columns\n",
    "    \n",
    "    2.6 Dropping columns\n",
    "\n",
    "3. Exploratory data analysis\n",
    "\n",
    "    3.1 General\n",
    "\n",
    "    3.2 Post modelling\n",
    "\n",
    "4. Prepare for modelling\n",
    "\n",
    "    4.1 Checks of prepared data\n",
    "\n",
    "    4.2 Scaling\n",
    "    \n",
    "    4.3 Splitting dataset\n",
    "\n",
    "    4.4 Balancing\n",
    "\n",
    "5. Modelling\n",
    "\n",
    "    5.1 Running models considering the diag columns\n",
    "\n",
    "    5.2 Running models without the diag columns\n",
    "\n",
    "    5.3 Running models considering feature selection based on correlation matrices and diag columns\n",
    "\n",
    "    5.4 Running models considering feature selection based on correlation matrices without diag columns\n",
    "\n",
    "\n",
    "6. Final considerations\n",
    "\n",
    "7. Sources\n"
   ]
  },
  {
   "cell_type": "markdown",
   "id": "74d55c38",
   "metadata": {},
   "source": [
    "## 1. Loading"
   ]
  },
  {
   "cell_type": "markdown",
   "id": "1147629c",
   "metadata": {},
   "source": [
    "Import libraries"
   ]
  },
  {
   "cell_type": "code",
   "execution_count": 71,
   "id": "initial_id",
   "metadata": {
    "ExecuteTime": {
     "end_time": "2024-02-17T08:45:50.635115900Z",
     "start_time": "2024-02-17T08:45:49.944625800Z"
    },
    "collapsed": true
   },
   "outputs": [],
   "source": [
    "import pandas as pd\n",
    "import numpy as np\n",
    "import matplotlib.pyplot as plt\n",
    "import seaborn as sns\n",
    "\n",
    "from sklearn.preprocessing import StandardScaler\n",
    "from sklearn.model_selection import train_test_split, GridSearchCV\n",
    "from sklearn.decomposition import PCA\n",
    "from sklearn.ensemble import RandomForestClassifier\n",
    "from sklearn.metrics import accuracy_score, classification_report, confusion_matrix\n",
    "from sklearn.feature_selection import SelectFromModel\n",
    "from sklearn.linear_model import LogisticRegression\n",
    "\n",
    "from imblearn.over_sampling import SMOTE\n",
    "from collections import Counter\n",
    "\n",
    "from xgboost import XGBClassifier"
   ]
  },
  {
   "cell_type": "markdown",
   "id": "a2764ad3abc74d40",
   "metadata": {
    "collapsed": false
   },
   "source": [
    "Load data"
   ]
  },
  {
   "cell_type": "code",
   "execution_count": 7,
   "id": "347326f643356a55",
   "metadata": {
    "ExecuteTime": {
     "end_time": "2024-02-17T08:45:50.871963900Z",
     "start_time": "2024-02-17T08:45:49.981949500Z"
    },
    "collapsed": false
   },
   "outputs": [],
   "source": [
    "data = pd.read_csv(\"diabetic_readmission_data.csv\")"
   ]
  },
  {
   "cell_type": "markdown",
   "id": "3e7723a9eccc6ad7",
   "metadata": {
    "collapsed": false
   },
   "source": [
    "## 2. Data cleaning"
   ]
  },
  {
   "cell_type": "markdown",
   "id": "8e7c91b2e98c6ed0",
   "metadata": {
    "collapsed": false
   },
   "source": [
    "### 2.1 Standardizing data"
   ]
  },
  {
   "cell_type": "markdown",
   "id": "b6d78b7018208486",
   "metadata": {
    "collapsed": false
   },
   "source": [
    "Correct data types"
   ]
  },
  {
   "cell_type": "code",
   "execution_count": 8,
   "id": "52d11d61b23b23c",
   "metadata": {
    "ExecuteTime": {
     "end_time": "2024-02-17T08:45:51.009673800Z",
     "start_time": "2024-02-17T08:45:50.762499500Z"
    },
    "collapsed": false
   },
   "outputs": [
    {
     "name": "stdout",
     "output_type": "stream",
     "text": [
      "<class 'pandas.core.frame.DataFrame'>\n",
      "RangeIndex: 101766 entries, 0 to 101765\n",
      "Data columns (total 50 columns):\n",
      " #   Column                    Non-Null Count   Dtype   \n",
      "---  ------                    --------------   -----   \n",
      " 0   encounter_id              101766 non-null  int64   \n",
      " 1   patient_nbr               101766 non-null  int64   \n",
      " 2   race                      101766 non-null  object  \n",
      " 3   gender                    101766 non-null  object  \n",
      " 4   age                       101766 non-null  object  \n",
      " 5   weight                    101766 non-null  object  \n",
      " 6   admission_type_id         101766 non-null  category\n",
      " 7   discharge_disposition_id  101766 non-null  category\n",
      " 8   admission_source_id       101766 non-null  category\n",
      " 9   time_in_hospital          101766 non-null  int64   \n",
      " 10  payer_code                101766 non-null  object  \n",
      " 11  medical_specialty         101766 non-null  object  \n",
      " 12  num_lab_procedures        101766 non-null  int64   \n",
      " 13  num_procedures            101766 non-null  int64   \n",
      " 14  num_medications           101766 non-null  int64   \n",
      " 15  number_outpatient         101766 non-null  int64   \n",
      " 16  number_emergency          101766 non-null  int64   \n",
      " 17  number_inpatient          101766 non-null  int64   \n",
      " 18  diag_1                    101766 non-null  object  \n",
      " 19  diag_2                    101766 non-null  object  \n",
      " 20  diag_3                    101766 non-null  object  \n",
      " 21  number_diagnoses          101766 non-null  int64   \n",
      " 22  max_glu_serum             5346 non-null    object  \n",
      " 23  A1Cresult                 17018 non-null   object  \n",
      " 24  metformin                 101766 non-null  object  \n",
      " 25  repaglinide               101766 non-null  object  \n",
      " 26  nateglinide               101766 non-null  object  \n",
      " 27  chlorpropamide            101766 non-null  object  \n",
      " 28  glimepiride               101766 non-null  object  \n",
      " 29  acetohexamide             101766 non-null  object  \n",
      " 30  glipizide                 101766 non-null  object  \n",
      " 31  glyburide                 101766 non-null  object  \n",
      " 32  tolbutamide               101766 non-null  object  \n",
      " 33  pioglitazone              101766 non-null  object  \n",
      " 34  rosiglitazone             101766 non-null  object  \n",
      " 35  acarbose                  101766 non-null  object  \n",
      " 36  miglitol                  101766 non-null  object  \n",
      " 37  troglitazone              101766 non-null  object  \n",
      " 38  tolazamide                101766 non-null  object  \n",
      " 39  examide                   101766 non-null  object  \n",
      " 40  citoglipton               101766 non-null  object  \n",
      " 41  insulin                   101766 non-null  object  \n",
      " 42  glyburide-metformin       101766 non-null  object  \n",
      " 43  glipizide-metformin       101766 non-null  object  \n",
      " 44  glimepiride-pioglitazone  101766 non-null  object  \n",
      " 45  metformin-rosiglitazone   101766 non-null  object  \n",
      " 46  metformin-pioglitazone    101766 non-null  object  \n",
      " 47  change                    101766 non-null  object  \n",
      " 48  diabetesMed               101766 non-null  object  \n",
      " 49  readmitted                101766 non-null  object  \n",
      "dtypes: category(3), int64(10), object(37)\n",
      "memory usage: 36.8+ MB\n"
     ]
    }
   ],
   "source": [
    "data[[\"admission_type_id\", \"admission_source_id\", \"discharge_disposition_id\"]] = data[[\"admission_type_id\", \"admission_source_id\", \"discharge_disposition_id\"]].astype('category')\n",
    "data.info()"
   ]
  },
  {
   "cell_type": "markdown",
   "id": "f7ba33f8",
   "metadata": {},
   "source": [
    "Transforming \"?\" into NaN values"
   ]
  },
  {
   "cell_type": "code",
   "execution_count": 9,
   "id": "bacfb569",
   "metadata": {},
   "outputs": [],
   "source": [
    "data.replace('?', np.nan, inplace=True)"
   ]
  },
  {
   "cell_type": "markdown",
   "id": "ee059188",
   "metadata": {},
   "source": [
    "### 2.2 Inspecting data"
   ]
  },
  {
   "cell_type": "code",
   "execution_count": 10,
   "id": "9cece5e6e41bd279",
   "metadata": {
    "ExecuteTime": {
     "end_time": "2024-02-17T08:45:50.871963900Z",
     "start_time": "2024-02-17T08:45:50.588821600Z"
    },
    "collapsed": false
   },
   "outputs": [
    {
     "data": {
      "text/html": [
       "<div>\n",
       "<style scoped>\n",
       "    .dataframe tbody tr th:only-of-type {\n",
       "        vertical-align: middle;\n",
       "    }\n",
       "\n",
       "    .dataframe tbody tr th {\n",
       "        vertical-align: top;\n",
       "    }\n",
       "\n",
       "    .dataframe thead th {\n",
       "        text-align: right;\n",
       "    }\n",
       "</style>\n",
       "<table border=\"1\" class=\"dataframe\">\n",
       "  <thead>\n",
       "    <tr style=\"text-align: right;\">\n",
       "      <th></th>\n",
       "      <th>encounter_id</th>\n",
       "      <th>patient_nbr</th>\n",
       "      <th>race</th>\n",
       "      <th>gender</th>\n",
       "      <th>age</th>\n",
       "      <th>weight</th>\n",
       "      <th>admission_type_id</th>\n",
       "      <th>discharge_disposition_id</th>\n",
       "      <th>admission_source_id</th>\n",
       "      <th>time_in_hospital</th>\n",
       "      <th>payer_code</th>\n",
       "      <th>medical_specialty</th>\n",
       "      <th>num_lab_procedures</th>\n",
       "      <th>num_procedures</th>\n",
       "      <th>num_medications</th>\n",
       "      <th>number_outpatient</th>\n",
       "      <th>number_emergency</th>\n",
       "      <th>number_inpatient</th>\n",
       "      <th>diag_1</th>\n",
       "      <th>diag_2</th>\n",
       "      <th>diag_3</th>\n",
       "      <th>number_diagnoses</th>\n",
       "      <th>max_glu_serum</th>\n",
       "      <th>A1Cresult</th>\n",
       "      <th>metformin</th>\n",
       "      <th>repaglinide</th>\n",
       "      <th>nateglinide</th>\n",
       "      <th>chlorpropamide</th>\n",
       "      <th>glimepiride</th>\n",
       "      <th>acetohexamide</th>\n",
       "      <th>glipizide</th>\n",
       "      <th>glyburide</th>\n",
       "      <th>tolbutamide</th>\n",
       "      <th>pioglitazone</th>\n",
       "      <th>rosiglitazone</th>\n",
       "      <th>acarbose</th>\n",
       "      <th>miglitol</th>\n",
       "      <th>troglitazone</th>\n",
       "      <th>tolazamide</th>\n",
       "      <th>examide</th>\n",
       "      <th>citoglipton</th>\n",
       "      <th>insulin</th>\n",
       "      <th>glyburide-metformin</th>\n",
       "      <th>glipizide-metformin</th>\n",
       "      <th>glimepiride-pioglitazone</th>\n",
       "      <th>metformin-rosiglitazone</th>\n",
       "      <th>metformin-pioglitazone</th>\n",
       "      <th>change</th>\n",
       "      <th>diabetesMed</th>\n",
       "      <th>readmitted</th>\n",
       "    </tr>\n",
       "  </thead>\n",
       "  <tbody>\n",
       "    <tr>\n",
       "      <th>0</th>\n",
       "      <td>2278392</td>\n",
       "      <td>8222157</td>\n",
       "      <td>Caucasian</td>\n",
       "      <td>Female</td>\n",
       "      <td>[0-10)</td>\n",
       "      <td>NaN</td>\n",
       "      <td>6</td>\n",
       "      <td>25</td>\n",
       "      <td>1</td>\n",
       "      <td>1</td>\n",
       "      <td>NaN</td>\n",
       "      <td>Pediatrics-Endocrinology</td>\n",
       "      <td>41</td>\n",
       "      <td>0</td>\n",
       "      <td>1</td>\n",
       "      <td>0</td>\n",
       "      <td>0</td>\n",
       "      <td>0</td>\n",
       "      <td>250.83</td>\n",
       "      <td>NaN</td>\n",
       "      <td>NaN</td>\n",
       "      <td>1</td>\n",
       "      <td>NaN</td>\n",
       "      <td>NaN</td>\n",
       "      <td>No</td>\n",
       "      <td>No</td>\n",
       "      <td>No</td>\n",
       "      <td>No</td>\n",
       "      <td>No</td>\n",
       "      <td>No</td>\n",
       "      <td>No</td>\n",
       "      <td>No</td>\n",
       "      <td>No</td>\n",
       "      <td>No</td>\n",
       "      <td>No</td>\n",
       "      <td>No</td>\n",
       "      <td>No</td>\n",
       "      <td>No</td>\n",
       "      <td>No</td>\n",
       "      <td>No</td>\n",
       "      <td>No</td>\n",
       "      <td>No</td>\n",
       "      <td>No</td>\n",
       "      <td>No</td>\n",
       "      <td>No</td>\n",
       "      <td>No</td>\n",
       "      <td>No</td>\n",
       "      <td>No</td>\n",
       "      <td>No</td>\n",
       "      <td>NO</td>\n",
       "    </tr>\n",
       "    <tr>\n",
       "      <th>1</th>\n",
       "      <td>149190</td>\n",
       "      <td>55629189</td>\n",
       "      <td>Caucasian</td>\n",
       "      <td>Female</td>\n",
       "      <td>[10-20)</td>\n",
       "      <td>NaN</td>\n",
       "      <td>1</td>\n",
       "      <td>1</td>\n",
       "      <td>7</td>\n",
       "      <td>3</td>\n",
       "      <td>NaN</td>\n",
       "      <td>NaN</td>\n",
       "      <td>59</td>\n",
       "      <td>0</td>\n",
       "      <td>18</td>\n",
       "      <td>0</td>\n",
       "      <td>0</td>\n",
       "      <td>0</td>\n",
       "      <td>276</td>\n",
       "      <td>250.01</td>\n",
       "      <td>255</td>\n",
       "      <td>9</td>\n",
       "      <td>NaN</td>\n",
       "      <td>NaN</td>\n",
       "      <td>No</td>\n",
       "      <td>No</td>\n",
       "      <td>No</td>\n",
       "      <td>No</td>\n",
       "      <td>No</td>\n",
       "      <td>No</td>\n",
       "      <td>No</td>\n",
       "      <td>No</td>\n",
       "      <td>No</td>\n",
       "      <td>No</td>\n",
       "      <td>No</td>\n",
       "      <td>No</td>\n",
       "      <td>No</td>\n",
       "      <td>No</td>\n",
       "      <td>No</td>\n",
       "      <td>No</td>\n",
       "      <td>No</td>\n",
       "      <td>Up</td>\n",
       "      <td>No</td>\n",
       "      <td>No</td>\n",
       "      <td>No</td>\n",
       "      <td>No</td>\n",
       "      <td>No</td>\n",
       "      <td>Ch</td>\n",
       "      <td>Yes</td>\n",
       "      <td>&gt;30</td>\n",
       "    </tr>\n",
       "    <tr>\n",
       "      <th>2</th>\n",
       "      <td>64410</td>\n",
       "      <td>86047875</td>\n",
       "      <td>AfricanAmerican</td>\n",
       "      <td>Female</td>\n",
       "      <td>[20-30)</td>\n",
       "      <td>NaN</td>\n",
       "      <td>1</td>\n",
       "      <td>1</td>\n",
       "      <td>7</td>\n",
       "      <td>2</td>\n",
       "      <td>NaN</td>\n",
       "      <td>NaN</td>\n",
       "      <td>11</td>\n",
       "      <td>5</td>\n",
       "      <td>13</td>\n",
       "      <td>2</td>\n",
       "      <td>0</td>\n",
       "      <td>1</td>\n",
       "      <td>648</td>\n",
       "      <td>250</td>\n",
       "      <td>V27</td>\n",
       "      <td>6</td>\n",
       "      <td>NaN</td>\n",
       "      <td>NaN</td>\n",
       "      <td>No</td>\n",
       "      <td>No</td>\n",
       "      <td>No</td>\n",
       "      <td>No</td>\n",
       "      <td>No</td>\n",
       "      <td>No</td>\n",
       "      <td>Steady</td>\n",
       "      <td>No</td>\n",
       "      <td>No</td>\n",
       "      <td>No</td>\n",
       "      <td>No</td>\n",
       "      <td>No</td>\n",
       "      <td>No</td>\n",
       "      <td>No</td>\n",
       "      <td>No</td>\n",
       "      <td>No</td>\n",
       "      <td>No</td>\n",
       "      <td>No</td>\n",
       "      <td>No</td>\n",
       "      <td>No</td>\n",
       "      <td>No</td>\n",
       "      <td>No</td>\n",
       "      <td>No</td>\n",
       "      <td>No</td>\n",
       "      <td>Yes</td>\n",
       "      <td>NO</td>\n",
       "    </tr>\n",
       "    <tr>\n",
       "      <th>3</th>\n",
       "      <td>500364</td>\n",
       "      <td>82442376</td>\n",
       "      <td>Caucasian</td>\n",
       "      <td>Male</td>\n",
       "      <td>[30-40)</td>\n",
       "      <td>NaN</td>\n",
       "      <td>1</td>\n",
       "      <td>1</td>\n",
       "      <td>7</td>\n",
       "      <td>2</td>\n",
       "      <td>NaN</td>\n",
       "      <td>NaN</td>\n",
       "      <td>44</td>\n",
       "      <td>1</td>\n",
       "      <td>16</td>\n",
       "      <td>0</td>\n",
       "      <td>0</td>\n",
       "      <td>0</td>\n",
       "      <td>8</td>\n",
       "      <td>250.43</td>\n",
       "      <td>403</td>\n",
       "      <td>7</td>\n",
       "      <td>NaN</td>\n",
       "      <td>NaN</td>\n",
       "      <td>No</td>\n",
       "      <td>No</td>\n",
       "      <td>No</td>\n",
       "      <td>No</td>\n",
       "      <td>No</td>\n",
       "      <td>No</td>\n",
       "      <td>No</td>\n",
       "      <td>No</td>\n",
       "      <td>No</td>\n",
       "      <td>No</td>\n",
       "      <td>No</td>\n",
       "      <td>No</td>\n",
       "      <td>No</td>\n",
       "      <td>No</td>\n",
       "      <td>No</td>\n",
       "      <td>No</td>\n",
       "      <td>No</td>\n",
       "      <td>Up</td>\n",
       "      <td>No</td>\n",
       "      <td>No</td>\n",
       "      <td>No</td>\n",
       "      <td>No</td>\n",
       "      <td>No</td>\n",
       "      <td>Ch</td>\n",
       "      <td>Yes</td>\n",
       "      <td>NO</td>\n",
       "    </tr>\n",
       "    <tr>\n",
       "      <th>4</th>\n",
       "      <td>16680</td>\n",
       "      <td>42519267</td>\n",
       "      <td>Caucasian</td>\n",
       "      <td>Male</td>\n",
       "      <td>[40-50)</td>\n",
       "      <td>NaN</td>\n",
       "      <td>1</td>\n",
       "      <td>1</td>\n",
       "      <td>7</td>\n",
       "      <td>1</td>\n",
       "      <td>NaN</td>\n",
       "      <td>NaN</td>\n",
       "      <td>51</td>\n",
       "      <td>0</td>\n",
       "      <td>8</td>\n",
       "      <td>0</td>\n",
       "      <td>0</td>\n",
       "      <td>0</td>\n",
       "      <td>197</td>\n",
       "      <td>157</td>\n",
       "      <td>250</td>\n",
       "      <td>5</td>\n",
       "      <td>NaN</td>\n",
       "      <td>NaN</td>\n",
       "      <td>No</td>\n",
       "      <td>No</td>\n",
       "      <td>No</td>\n",
       "      <td>No</td>\n",
       "      <td>No</td>\n",
       "      <td>No</td>\n",
       "      <td>Steady</td>\n",
       "      <td>No</td>\n",
       "      <td>No</td>\n",
       "      <td>No</td>\n",
       "      <td>No</td>\n",
       "      <td>No</td>\n",
       "      <td>No</td>\n",
       "      <td>No</td>\n",
       "      <td>No</td>\n",
       "      <td>No</td>\n",
       "      <td>No</td>\n",
       "      <td>Steady</td>\n",
       "      <td>No</td>\n",
       "      <td>No</td>\n",
       "      <td>No</td>\n",
       "      <td>No</td>\n",
       "      <td>No</td>\n",
       "      <td>Ch</td>\n",
       "      <td>Yes</td>\n",
       "      <td>NO</td>\n",
       "    </tr>\n",
       "    <tr>\n",
       "      <th>5</th>\n",
       "      <td>35754</td>\n",
       "      <td>82637451</td>\n",
       "      <td>Caucasian</td>\n",
       "      <td>Male</td>\n",
       "      <td>[50-60)</td>\n",
       "      <td>NaN</td>\n",
       "      <td>2</td>\n",
       "      <td>1</td>\n",
       "      <td>2</td>\n",
       "      <td>3</td>\n",
       "      <td>NaN</td>\n",
       "      <td>NaN</td>\n",
       "      <td>31</td>\n",
       "      <td>6</td>\n",
       "      <td>16</td>\n",
       "      <td>0</td>\n",
       "      <td>0</td>\n",
       "      <td>0</td>\n",
       "      <td>414</td>\n",
       "      <td>411</td>\n",
       "      <td>250</td>\n",
       "      <td>9</td>\n",
       "      <td>NaN</td>\n",
       "      <td>NaN</td>\n",
       "      <td>No</td>\n",
       "      <td>No</td>\n",
       "      <td>No</td>\n",
       "      <td>No</td>\n",
       "      <td>No</td>\n",
       "      <td>No</td>\n",
       "      <td>No</td>\n",
       "      <td>No</td>\n",
       "      <td>No</td>\n",
       "      <td>No</td>\n",
       "      <td>No</td>\n",
       "      <td>No</td>\n",
       "      <td>No</td>\n",
       "      <td>No</td>\n",
       "      <td>No</td>\n",
       "      <td>No</td>\n",
       "      <td>No</td>\n",
       "      <td>Steady</td>\n",
       "      <td>No</td>\n",
       "      <td>No</td>\n",
       "      <td>No</td>\n",
       "      <td>No</td>\n",
       "      <td>No</td>\n",
       "      <td>No</td>\n",
       "      <td>Yes</td>\n",
       "      <td>&gt;30</td>\n",
       "    </tr>\n",
       "    <tr>\n",
       "      <th>6</th>\n",
       "      <td>55842</td>\n",
       "      <td>84259809</td>\n",
       "      <td>Caucasian</td>\n",
       "      <td>Male</td>\n",
       "      <td>[60-70)</td>\n",
       "      <td>NaN</td>\n",
       "      <td>3</td>\n",
       "      <td>1</td>\n",
       "      <td>2</td>\n",
       "      <td>4</td>\n",
       "      <td>NaN</td>\n",
       "      <td>NaN</td>\n",
       "      <td>70</td>\n",
       "      <td>1</td>\n",
       "      <td>21</td>\n",
       "      <td>0</td>\n",
       "      <td>0</td>\n",
       "      <td>0</td>\n",
       "      <td>414</td>\n",
       "      <td>411</td>\n",
       "      <td>V45</td>\n",
       "      <td>7</td>\n",
       "      <td>NaN</td>\n",
       "      <td>NaN</td>\n",
       "      <td>Steady</td>\n",
       "      <td>No</td>\n",
       "      <td>No</td>\n",
       "      <td>No</td>\n",
       "      <td>Steady</td>\n",
       "      <td>No</td>\n",
       "      <td>No</td>\n",
       "      <td>No</td>\n",
       "      <td>No</td>\n",
       "      <td>No</td>\n",
       "      <td>No</td>\n",
       "      <td>No</td>\n",
       "      <td>No</td>\n",
       "      <td>No</td>\n",
       "      <td>No</td>\n",
       "      <td>No</td>\n",
       "      <td>No</td>\n",
       "      <td>Steady</td>\n",
       "      <td>No</td>\n",
       "      <td>No</td>\n",
       "      <td>No</td>\n",
       "      <td>No</td>\n",
       "      <td>No</td>\n",
       "      <td>Ch</td>\n",
       "      <td>Yes</td>\n",
       "      <td>NO</td>\n",
       "    </tr>\n",
       "    <tr>\n",
       "      <th>7</th>\n",
       "      <td>63768</td>\n",
       "      <td>114882984</td>\n",
       "      <td>Caucasian</td>\n",
       "      <td>Male</td>\n",
       "      <td>[70-80)</td>\n",
       "      <td>NaN</td>\n",
       "      <td>1</td>\n",
       "      <td>1</td>\n",
       "      <td>7</td>\n",
       "      <td>5</td>\n",
       "      <td>NaN</td>\n",
       "      <td>NaN</td>\n",
       "      <td>73</td>\n",
       "      <td>0</td>\n",
       "      <td>12</td>\n",
       "      <td>0</td>\n",
       "      <td>0</td>\n",
       "      <td>0</td>\n",
       "      <td>428</td>\n",
       "      <td>492</td>\n",
       "      <td>250</td>\n",
       "      <td>8</td>\n",
       "      <td>NaN</td>\n",
       "      <td>NaN</td>\n",
       "      <td>No</td>\n",
       "      <td>No</td>\n",
       "      <td>No</td>\n",
       "      <td>No</td>\n",
       "      <td>No</td>\n",
       "      <td>No</td>\n",
       "      <td>No</td>\n",
       "      <td>Steady</td>\n",
       "      <td>No</td>\n",
       "      <td>No</td>\n",
       "      <td>No</td>\n",
       "      <td>No</td>\n",
       "      <td>No</td>\n",
       "      <td>No</td>\n",
       "      <td>No</td>\n",
       "      <td>No</td>\n",
       "      <td>No</td>\n",
       "      <td>No</td>\n",
       "      <td>No</td>\n",
       "      <td>No</td>\n",
       "      <td>No</td>\n",
       "      <td>No</td>\n",
       "      <td>No</td>\n",
       "      <td>No</td>\n",
       "      <td>Yes</td>\n",
       "      <td>&gt;30</td>\n",
       "    </tr>\n",
       "    <tr>\n",
       "      <th>8</th>\n",
       "      <td>12522</td>\n",
       "      <td>48330783</td>\n",
       "      <td>Caucasian</td>\n",
       "      <td>Female</td>\n",
       "      <td>[80-90)</td>\n",
       "      <td>NaN</td>\n",
       "      <td>2</td>\n",
       "      <td>1</td>\n",
       "      <td>4</td>\n",
       "      <td>13</td>\n",
       "      <td>NaN</td>\n",
       "      <td>NaN</td>\n",
       "      <td>68</td>\n",
       "      <td>2</td>\n",
       "      <td>28</td>\n",
       "      <td>0</td>\n",
       "      <td>0</td>\n",
       "      <td>0</td>\n",
       "      <td>398</td>\n",
       "      <td>427</td>\n",
       "      <td>38</td>\n",
       "      <td>8</td>\n",
       "      <td>NaN</td>\n",
       "      <td>NaN</td>\n",
       "      <td>No</td>\n",
       "      <td>No</td>\n",
       "      <td>No</td>\n",
       "      <td>No</td>\n",
       "      <td>No</td>\n",
       "      <td>No</td>\n",
       "      <td>Steady</td>\n",
       "      <td>No</td>\n",
       "      <td>No</td>\n",
       "      <td>No</td>\n",
       "      <td>No</td>\n",
       "      <td>No</td>\n",
       "      <td>No</td>\n",
       "      <td>No</td>\n",
       "      <td>No</td>\n",
       "      <td>No</td>\n",
       "      <td>No</td>\n",
       "      <td>Steady</td>\n",
       "      <td>No</td>\n",
       "      <td>No</td>\n",
       "      <td>No</td>\n",
       "      <td>No</td>\n",
       "      <td>No</td>\n",
       "      <td>Ch</td>\n",
       "      <td>Yes</td>\n",
       "      <td>NO</td>\n",
       "    </tr>\n",
       "    <tr>\n",
       "      <th>9</th>\n",
       "      <td>15738</td>\n",
       "      <td>63555939</td>\n",
       "      <td>Caucasian</td>\n",
       "      <td>Female</td>\n",
       "      <td>[90-100)</td>\n",
       "      <td>NaN</td>\n",
       "      <td>3</td>\n",
       "      <td>3</td>\n",
       "      <td>4</td>\n",
       "      <td>12</td>\n",
       "      <td>NaN</td>\n",
       "      <td>InternalMedicine</td>\n",
       "      <td>33</td>\n",
       "      <td>3</td>\n",
       "      <td>18</td>\n",
       "      <td>0</td>\n",
       "      <td>0</td>\n",
       "      <td>0</td>\n",
       "      <td>434</td>\n",
       "      <td>198</td>\n",
       "      <td>486</td>\n",
       "      <td>8</td>\n",
       "      <td>NaN</td>\n",
       "      <td>NaN</td>\n",
       "      <td>No</td>\n",
       "      <td>No</td>\n",
       "      <td>No</td>\n",
       "      <td>No</td>\n",
       "      <td>No</td>\n",
       "      <td>No</td>\n",
       "      <td>No</td>\n",
       "      <td>No</td>\n",
       "      <td>No</td>\n",
       "      <td>No</td>\n",
       "      <td>Steady</td>\n",
       "      <td>No</td>\n",
       "      <td>No</td>\n",
       "      <td>No</td>\n",
       "      <td>No</td>\n",
       "      <td>No</td>\n",
       "      <td>No</td>\n",
       "      <td>Steady</td>\n",
       "      <td>No</td>\n",
       "      <td>No</td>\n",
       "      <td>No</td>\n",
       "      <td>No</td>\n",
       "      <td>No</td>\n",
       "      <td>Ch</td>\n",
       "      <td>Yes</td>\n",
       "      <td>NO</td>\n",
       "    </tr>\n",
       "  </tbody>\n",
       "</table>\n",
       "</div>"
      ],
      "text/plain": [
       "   encounter_id  patient_nbr             race  gender       age weight  \\\n",
       "0       2278392      8222157        Caucasian  Female    [0-10)    NaN   \n",
       "1        149190     55629189        Caucasian  Female   [10-20)    NaN   \n",
       "2         64410     86047875  AfricanAmerican  Female   [20-30)    NaN   \n",
       "3        500364     82442376        Caucasian    Male   [30-40)    NaN   \n",
       "4         16680     42519267        Caucasian    Male   [40-50)    NaN   \n",
       "5         35754     82637451        Caucasian    Male   [50-60)    NaN   \n",
       "6         55842     84259809        Caucasian    Male   [60-70)    NaN   \n",
       "7         63768    114882984        Caucasian    Male   [70-80)    NaN   \n",
       "8         12522     48330783        Caucasian  Female   [80-90)    NaN   \n",
       "9         15738     63555939        Caucasian  Female  [90-100)    NaN   \n",
       "\n",
       "  admission_type_id discharge_disposition_id admission_source_id  \\\n",
       "0                 6                       25                   1   \n",
       "1                 1                        1                   7   \n",
       "2                 1                        1                   7   \n",
       "3                 1                        1                   7   \n",
       "4                 1                        1                   7   \n",
       "5                 2                        1                   2   \n",
       "6                 3                        1                   2   \n",
       "7                 1                        1                   7   \n",
       "8                 2                        1                   4   \n",
       "9                 3                        3                   4   \n",
       "\n",
       "   time_in_hospital payer_code         medical_specialty  num_lab_procedures  \\\n",
       "0                 1        NaN  Pediatrics-Endocrinology                  41   \n",
       "1                 3        NaN                       NaN                  59   \n",
       "2                 2        NaN                       NaN                  11   \n",
       "3                 2        NaN                       NaN                  44   \n",
       "4                 1        NaN                       NaN                  51   \n",
       "5                 3        NaN                       NaN                  31   \n",
       "6                 4        NaN                       NaN                  70   \n",
       "7                 5        NaN                       NaN                  73   \n",
       "8                13        NaN                       NaN                  68   \n",
       "9                12        NaN          InternalMedicine                  33   \n",
       "\n",
       "   num_procedures  num_medications  number_outpatient  number_emergency  \\\n",
       "0               0                1                  0                 0   \n",
       "1               0               18                  0                 0   \n",
       "2               5               13                  2                 0   \n",
       "3               1               16                  0                 0   \n",
       "4               0                8                  0                 0   \n",
       "5               6               16                  0                 0   \n",
       "6               1               21                  0                 0   \n",
       "7               0               12                  0                 0   \n",
       "8               2               28                  0                 0   \n",
       "9               3               18                  0                 0   \n",
       "\n",
       "   number_inpatient  diag_1  diag_2 diag_3  number_diagnoses max_glu_serum  \\\n",
       "0                 0  250.83     NaN    NaN                 1           NaN   \n",
       "1                 0     276  250.01    255                 9           NaN   \n",
       "2                 1     648     250    V27                 6           NaN   \n",
       "3                 0       8  250.43    403                 7           NaN   \n",
       "4                 0     197     157    250                 5           NaN   \n",
       "5                 0     414     411    250                 9           NaN   \n",
       "6                 0     414     411    V45                 7           NaN   \n",
       "7                 0     428     492    250                 8           NaN   \n",
       "8                 0     398     427     38                 8           NaN   \n",
       "9                 0     434     198    486                 8           NaN   \n",
       "\n",
       "  A1Cresult metformin repaglinide nateglinide chlorpropamide glimepiride  \\\n",
       "0       NaN        No          No          No             No          No   \n",
       "1       NaN        No          No          No             No          No   \n",
       "2       NaN        No          No          No             No          No   \n",
       "3       NaN        No          No          No             No          No   \n",
       "4       NaN        No          No          No             No          No   \n",
       "5       NaN        No          No          No             No          No   \n",
       "6       NaN    Steady          No          No             No      Steady   \n",
       "7       NaN        No          No          No             No          No   \n",
       "8       NaN        No          No          No             No          No   \n",
       "9       NaN        No          No          No             No          No   \n",
       "\n",
       "  acetohexamide glipizide glyburide tolbutamide pioglitazone rosiglitazone  \\\n",
       "0            No        No        No          No           No            No   \n",
       "1            No        No        No          No           No            No   \n",
       "2            No    Steady        No          No           No            No   \n",
       "3            No        No        No          No           No            No   \n",
       "4            No    Steady        No          No           No            No   \n",
       "5            No        No        No          No           No            No   \n",
       "6            No        No        No          No           No            No   \n",
       "7            No        No    Steady          No           No            No   \n",
       "8            No    Steady        No          No           No            No   \n",
       "9            No        No        No          No           No        Steady   \n",
       "\n",
       "  acarbose miglitol troglitazone tolazamide examide citoglipton insulin  \\\n",
       "0       No       No           No         No      No          No      No   \n",
       "1       No       No           No         No      No          No      Up   \n",
       "2       No       No           No         No      No          No      No   \n",
       "3       No       No           No         No      No          No      Up   \n",
       "4       No       No           No         No      No          No  Steady   \n",
       "5       No       No           No         No      No          No  Steady   \n",
       "6       No       No           No         No      No          No  Steady   \n",
       "7       No       No           No         No      No          No      No   \n",
       "8       No       No           No         No      No          No  Steady   \n",
       "9       No       No           No         No      No          No  Steady   \n",
       "\n",
       "  glyburide-metformin glipizide-metformin glimepiride-pioglitazone  \\\n",
       "0                  No                  No                       No   \n",
       "1                  No                  No                       No   \n",
       "2                  No                  No                       No   \n",
       "3                  No                  No                       No   \n",
       "4                  No                  No                       No   \n",
       "5                  No                  No                       No   \n",
       "6                  No                  No                       No   \n",
       "7                  No                  No                       No   \n",
       "8                  No                  No                       No   \n",
       "9                  No                  No                       No   \n",
       "\n",
       "  metformin-rosiglitazone metformin-pioglitazone change diabetesMed readmitted  \n",
       "0                      No                     No     No          No         NO  \n",
       "1                      No                     No     Ch         Yes        >30  \n",
       "2                      No                     No     No         Yes         NO  \n",
       "3                      No                     No     Ch         Yes         NO  \n",
       "4                      No                     No     Ch         Yes         NO  \n",
       "5                      No                     No     No         Yes        >30  \n",
       "6                      No                     No     Ch         Yes         NO  \n",
       "7                      No                     No     No         Yes        >30  \n",
       "8                      No                     No     Ch         Yes         NO  \n",
       "9                      No                     No     Ch         Yes         NO  "
      ]
     },
     "execution_count": 10,
     "metadata": {},
     "output_type": "execute_result"
    }
   ],
   "source": [
    "# Change settings for maximum number of columns to be displayed \n",
    "pd.set_option('display.max_columns', None)\n",
    "\n",
    "\n",
    "# Take a glance at the first rows\n",
    "data.head(10)"
   ]
  },
  {
   "cell_type": "code",
   "execution_count": 11,
   "id": "480310b0578433a3",
   "metadata": {
    "ExecuteTime": {
     "end_time": "2024-02-17T08:45:50.871963900Z",
     "start_time": "2024-02-17T08:45:50.609117800Z"
    },
    "collapsed": false
   },
   "outputs": [
    {
     "data": {
      "text/plain": [
       "(101766, 50)"
      ]
     },
     "execution_count": 11,
     "metadata": {},
     "output_type": "execute_result"
    }
   ],
   "source": [
    "#Number of rows and columns\n",
    "data.shape"
   ]
  },
  {
   "cell_type": "code",
   "execution_count": 12,
   "id": "12c83c308d19c519",
   "metadata": {
    "ExecuteTime": {
     "end_time": "2024-02-17T08:45:50.988396200Z",
     "start_time": "2024-02-17T08:45:50.619381900Z"
    },
    "collapsed": false
   },
   "outputs": [
    {
     "name": "stdout",
     "output_type": "stream",
     "text": [
      "<class 'pandas.core.frame.DataFrame'>\n",
      "RangeIndex: 101766 entries, 0 to 101765\n",
      "Data columns (total 50 columns):\n",
      " #   Column                    Non-Null Count   Dtype   \n",
      "---  ------                    --------------   -----   \n",
      " 0   encounter_id              101766 non-null  int64   \n",
      " 1   patient_nbr               101766 non-null  int64   \n",
      " 2   race                      99493 non-null   object  \n",
      " 3   gender                    101766 non-null  object  \n",
      " 4   age                       101766 non-null  object  \n",
      " 5   weight                    3197 non-null    object  \n",
      " 6   admission_type_id         101766 non-null  category\n",
      " 7   discharge_disposition_id  101766 non-null  category\n",
      " 8   admission_source_id       101766 non-null  category\n",
      " 9   time_in_hospital          101766 non-null  int64   \n",
      " 10  payer_code                61510 non-null   object  \n",
      " 11  medical_specialty         51817 non-null   object  \n",
      " 12  num_lab_procedures        101766 non-null  int64   \n",
      " 13  num_procedures            101766 non-null  int64   \n",
      " 14  num_medications           101766 non-null  int64   \n",
      " 15  number_outpatient         101766 non-null  int64   \n",
      " 16  number_emergency          101766 non-null  int64   \n",
      " 17  number_inpatient          101766 non-null  int64   \n",
      " 18  diag_1                    101745 non-null  object  \n",
      " 19  diag_2                    101408 non-null  object  \n",
      " 20  diag_3                    100343 non-null  object  \n",
      " 21  number_diagnoses          101766 non-null  int64   \n",
      " 22  max_glu_serum             5346 non-null    object  \n",
      " 23  A1Cresult                 17018 non-null   object  \n",
      " 24  metformin                 101766 non-null  object  \n",
      " 25  repaglinide               101766 non-null  object  \n",
      " 26  nateglinide               101766 non-null  object  \n",
      " 27  chlorpropamide            101766 non-null  object  \n",
      " 28  glimepiride               101766 non-null  object  \n",
      " 29  acetohexamide             101766 non-null  object  \n",
      " 30  glipizide                 101766 non-null  object  \n",
      " 31  glyburide                 101766 non-null  object  \n",
      " 32  tolbutamide               101766 non-null  object  \n",
      " 33  pioglitazone              101766 non-null  object  \n",
      " 34  rosiglitazone             101766 non-null  object  \n",
      " 35  acarbose                  101766 non-null  object  \n",
      " 36  miglitol                  101766 non-null  object  \n",
      " 37  troglitazone              101766 non-null  object  \n",
      " 38  tolazamide                101766 non-null  object  \n",
      " 39  examide                   101766 non-null  object  \n",
      " 40  citoglipton               101766 non-null  object  \n",
      " 41  insulin                   101766 non-null  object  \n",
      " 42  glyburide-metformin       101766 non-null  object  \n",
      " 43  glipizide-metformin       101766 non-null  object  \n",
      " 44  glimepiride-pioglitazone  101766 non-null  object  \n",
      " 45  metformin-rosiglitazone   101766 non-null  object  \n",
      " 46  metformin-pioglitazone    101766 non-null  object  \n",
      " 47  change                    101766 non-null  object  \n",
      " 48  diabetesMed               101766 non-null  object  \n",
      " 49  readmitted                101766 non-null  object  \n",
      "dtypes: category(3), int64(10), object(37)\n",
      "memory usage: 36.8+ MB\n"
     ]
    }
   ],
   "source": [
    "#Info on columns\n",
    "data.info()"
   ]
  },
  {
   "cell_type": "markdown",
   "id": "7c67b322",
   "metadata": {},
   "source": [
    "Since \"weight\" category is not defined and we can't see the values due to the NaNs, we will be filtering the not NaN values to check the data type"
   ]
  },
  {
   "cell_type": "code",
   "execution_count": 13,
   "id": "41e3801b",
   "metadata": {},
   "outputs": [
    {
     "data": {
      "text/plain": [
       "weight\n",
       "True     98569\n",
       "False     3197\n",
       "Name: count, dtype: int64"
      ]
     },
     "execution_count": 13,
     "metadata": {},
     "output_type": "execute_result"
    }
   ],
   "source": [
    "data['weight'].isna().value_counts()"
   ]
  },
  {
   "cell_type": "code",
   "execution_count": 14,
   "id": "4cb782f1",
   "metadata": {},
   "outputs": [],
   "source": [
    "weightnotnan = data.loc[~data['weight'].isna(), :]"
   ]
  },
  {
   "cell_type": "code",
   "execution_count": 15,
   "id": "42c79efa",
   "metadata": {},
   "outputs": [
    {
     "data": {
      "text/html": [
       "<div>\n",
       "<style scoped>\n",
       "    .dataframe tbody tr th:only-of-type {\n",
       "        vertical-align: middle;\n",
       "    }\n",
       "\n",
       "    .dataframe tbody tr th {\n",
       "        vertical-align: top;\n",
       "    }\n",
       "\n",
       "    .dataframe thead th {\n",
       "        text-align: right;\n",
       "    }\n",
       "</style>\n",
       "<table border=\"1\" class=\"dataframe\">\n",
       "  <thead>\n",
       "    <tr style=\"text-align: right;\">\n",
       "      <th></th>\n",
       "      <th>encounter_id</th>\n",
       "      <th>patient_nbr</th>\n",
       "      <th>race</th>\n",
       "      <th>gender</th>\n",
       "      <th>age</th>\n",
       "      <th>weight</th>\n",
       "      <th>admission_type_id</th>\n",
       "      <th>discharge_disposition_id</th>\n",
       "      <th>admission_source_id</th>\n",
       "      <th>time_in_hospital</th>\n",
       "      <th>payer_code</th>\n",
       "      <th>medical_specialty</th>\n",
       "      <th>num_lab_procedures</th>\n",
       "      <th>num_procedures</th>\n",
       "      <th>num_medications</th>\n",
       "      <th>number_outpatient</th>\n",
       "      <th>number_emergency</th>\n",
       "      <th>number_inpatient</th>\n",
       "      <th>diag_1</th>\n",
       "      <th>diag_2</th>\n",
       "      <th>diag_3</th>\n",
       "      <th>number_diagnoses</th>\n",
       "      <th>max_glu_serum</th>\n",
       "      <th>A1Cresult</th>\n",
       "      <th>metformin</th>\n",
       "      <th>repaglinide</th>\n",
       "      <th>nateglinide</th>\n",
       "      <th>chlorpropamide</th>\n",
       "      <th>glimepiride</th>\n",
       "      <th>acetohexamide</th>\n",
       "      <th>glipizide</th>\n",
       "      <th>glyburide</th>\n",
       "      <th>tolbutamide</th>\n",
       "      <th>pioglitazone</th>\n",
       "      <th>rosiglitazone</th>\n",
       "      <th>acarbose</th>\n",
       "      <th>miglitol</th>\n",
       "      <th>troglitazone</th>\n",
       "      <th>tolazamide</th>\n",
       "      <th>examide</th>\n",
       "      <th>citoglipton</th>\n",
       "      <th>insulin</th>\n",
       "      <th>glyburide-metformin</th>\n",
       "      <th>glipizide-metformin</th>\n",
       "      <th>glimepiride-pioglitazone</th>\n",
       "      <th>metformin-rosiglitazone</th>\n",
       "      <th>metformin-pioglitazone</th>\n",
       "      <th>change</th>\n",
       "      <th>diabetesMed</th>\n",
       "      <th>readmitted</th>\n",
       "    </tr>\n",
       "  </thead>\n",
       "  <tbody>\n",
       "    <tr>\n",
       "      <th>1102</th>\n",
       "      <td>8042082</td>\n",
       "      <td>94466574</td>\n",
       "      <td>Caucasian</td>\n",
       "      <td>Male</td>\n",
       "      <td>[50-60)</td>\n",
       "      <td>[75-100)</td>\n",
       "      <td>6</td>\n",
       "      <td>1</td>\n",
       "      <td>17</td>\n",
       "      <td>2</td>\n",
       "      <td>NaN</td>\n",
       "      <td>Cardiology</td>\n",
       "      <td>68</td>\n",
       "      <td>3</td>\n",
       "      <td>15</td>\n",
       "      <td>0</td>\n",
       "      <td>0</td>\n",
       "      <td>0</td>\n",
       "      <td>786</td>\n",
       "      <td>250</td>\n",
       "      <td>401</td>\n",
       "      <td>6</td>\n",
       "      <td>NaN</td>\n",
       "      <td>NaN</td>\n",
       "      <td>No</td>\n",
       "      <td>No</td>\n",
       "      <td>No</td>\n",
       "      <td>No</td>\n",
       "      <td>No</td>\n",
       "      <td>No</td>\n",
       "      <td>No</td>\n",
       "      <td>No</td>\n",
       "      <td>No</td>\n",
       "      <td>No</td>\n",
       "      <td>No</td>\n",
       "      <td>No</td>\n",
       "      <td>No</td>\n",
       "      <td>No</td>\n",
       "      <td>No</td>\n",
       "      <td>No</td>\n",
       "      <td>No</td>\n",
       "      <td>Steady</td>\n",
       "      <td>No</td>\n",
       "      <td>No</td>\n",
       "      <td>No</td>\n",
       "      <td>No</td>\n",
       "      <td>No</td>\n",
       "      <td>No</td>\n",
       "      <td>Yes</td>\n",
       "      <td>&gt;30</td>\n",
       "    </tr>\n",
       "    <tr>\n",
       "      <th>1108</th>\n",
       "      <td>8057670</td>\n",
       "      <td>96198543</td>\n",
       "      <td>NaN</td>\n",
       "      <td>Female</td>\n",
       "      <td>[80-90)</td>\n",
       "      <td>[50-75)</td>\n",
       "      <td>6</td>\n",
       "      <td>5</td>\n",
       "      <td>17</td>\n",
       "      <td>9</td>\n",
       "      <td>NaN</td>\n",
       "      <td>NaN</td>\n",
       "      <td>74</td>\n",
       "      <td>5</td>\n",
       "      <td>27</td>\n",
       "      <td>0</td>\n",
       "      <td>0</td>\n",
       "      <td>0</td>\n",
       "      <td>414</td>\n",
       "      <td>424</td>\n",
       "      <td>599</td>\n",
       "      <td>7</td>\n",
       "      <td>NaN</td>\n",
       "      <td>NaN</td>\n",
       "      <td>No</td>\n",
       "      <td>No</td>\n",
       "      <td>No</td>\n",
       "      <td>No</td>\n",
       "      <td>Steady</td>\n",
       "      <td>No</td>\n",
       "      <td>No</td>\n",
       "      <td>No</td>\n",
       "      <td>No</td>\n",
       "      <td>No</td>\n",
       "      <td>No</td>\n",
       "      <td>No</td>\n",
       "      <td>No</td>\n",
       "      <td>No</td>\n",
       "      <td>No</td>\n",
       "      <td>No</td>\n",
       "      <td>No</td>\n",
       "      <td>Steady</td>\n",
       "      <td>No</td>\n",
       "      <td>No</td>\n",
       "      <td>No</td>\n",
       "      <td>No</td>\n",
       "      <td>No</td>\n",
       "      <td>Ch</td>\n",
       "      <td>Yes</td>\n",
       "      <td>&gt;30</td>\n",
       "    </tr>\n",
       "    <tr>\n",
       "      <th>1132</th>\n",
       "      <td>8235036</td>\n",
       "      <td>79874631</td>\n",
       "      <td>Caucasian</td>\n",
       "      <td>Female</td>\n",
       "      <td>[60-70)</td>\n",
       "      <td>[0-25)</td>\n",
       "      <td>6</td>\n",
       "      <td>1</td>\n",
       "      <td>17</td>\n",
       "      <td>5</td>\n",
       "      <td>NaN</td>\n",
       "      <td>Cardiology</td>\n",
       "      <td>71</td>\n",
       "      <td>5</td>\n",
       "      <td>23</td>\n",
       "      <td>0</td>\n",
       "      <td>0</td>\n",
       "      <td>0</td>\n",
       "      <td>414</td>\n",
       "      <td>998</td>\n",
       "      <td>285</td>\n",
       "      <td>7</td>\n",
       "      <td>NaN</td>\n",
       "      <td>NaN</td>\n",
       "      <td>Steady</td>\n",
       "      <td>No</td>\n",
       "      <td>No</td>\n",
       "      <td>No</td>\n",
       "      <td>No</td>\n",
       "      <td>No</td>\n",
       "      <td>No</td>\n",
       "      <td>No</td>\n",
       "      <td>No</td>\n",
       "      <td>No</td>\n",
       "      <td>No</td>\n",
       "      <td>No</td>\n",
       "      <td>No</td>\n",
       "      <td>No</td>\n",
       "      <td>No</td>\n",
       "      <td>No</td>\n",
       "      <td>No</td>\n",
       "      <td>Steady</td>\n",
       "      <td>No</td>\n",
       "      <td>No</td>\n",
       "      <td>No</td>\n",
       "      <td>No</td>\n",
       "      <td>No</td>\n",
       "      <td>Ch</td>\n",
       "      <td>Yes</td>\n",
       "      <td>&gt;30</td>\n",
       "    </tr>\n",
       "    <tr>\n",
       "      <th>1136</th>\n",
       "      <td>8274126</td>\n",
       "      <td>90421380</td>\n",
       "      <td>Caucasian</td>\n",
       "      <td>Female</td>\n",
       "      <td>[40-50)</td>\n",
       "      <td>[75-100)</td>\n",
       "      <td>6</td>\n",
       "      <td>1</td>\n",
       "      <td>17</td>\n",
       "      <td>3</td>\n",
       "      <td>NaN</td>\n",
       "      <td>NaN</td>\n",
       "      <td>56</td>\n",
       "      <td>3</td>\n",
       "      <td>15</td>\n",
       "      <td>0</td>\n",
       "      <td>0</td>\n",
       "      <td>0</td>\n",
       "      <td>218</td>\n",
       "      <td>112</td>\n",
       "      <td>620</td>\n",
       "      <td>5</td>\n",
       "      <td>NaN</td>\n",
       "      <td>NaN</td>\n",
       "      <td>No</td>\n",
       "      <td>No</td>\n",
       "      <td>No</td>\n",
       "      <td>No</td>\n",
       "      <td>No</td>\n",
       "      <td>No</td>\n",
       "      <td>No</td>\n",
       "      <td>No</td>\n",
       "      <td>No</td>\n",
       "      <td>Steady</td>\n",
       "      <td>No</td>\n",
       "      <td>No</td>\n",
       "      <td>No</td>\n",
       "      <td>No</td>\n",
       "      <td>No</td>\n",
       "      <td>No</td>\n",
       "      <td>No</td>\n",
       "      <td>Steady</td>\n",
       "      <td>No</td>\n",
       "      <td>No</td>\n",
       "      <td>No</td>\n",
       "      <td>No</td>\n",
       "      <td>No</td>\n",
       "      <td>Ch</td>\n",
       "      <td>Yes</td>\n",
       "      <td>NO</td>\n",
       "    </tr>\n",
       "    <tr>\n",
       "      <th>1190</th>\n",
       "      <td>8421486</td>\n",
       "      <td>55628172</td>\n",
       "      <td>Caucasian</td>\n",
       "      <td>Female</td>\n",
       "      <td>[70-80)</td>\n",
       "      <td>[75-100)</td>\n",
       "      <td>6</td>\n",
       "      <td>6</td>\n",
       "      <td>17</td>\n",
       "      <td>11</td>\n",
       "      <td>NaN</td>\n",
       "      <td>InternalMedicine</td>\n",
       "      <td>78</td>\n",
       "      <td>0</td>\n",
       "      <td>18</td>\n",
       "      <td>0</td>\n",
       "      <td>0</td>\n",
       "      <td>1</td>\n",
       "      <td>410</td>\n",
       "      <td>427</td>\n",
       "      <td>296</td>\n",
       "      <td>7</td>\n",
       "      <td>NaN</td>\n",
       "      <td>NaN</td>\n",
       "      <td>No</td>\n",
       "      <td>No</td>\n",
       "      <td>No</td>\n",
       "      <td>No</td>\n",
       "      <td>No</td>\n",
       "      <td>No</td>\n",
       "      <td>No</td>\n",
       "      <td>No</td>\n",
       "      <td>No</td>\n",
       "      <td>No</td>\n",
       "      <td>Steady</td>\n",
       "      <td>No</td>\n",
       "      <td>No</td>\n",
       "      <td>No</td>\n",
       "      <td>No</td>\n",
       "      <td>No</td>\n",
       "      <td>No</td>\n",
       "      <td>Steady</td>\n",
       "      <td>No</td>\n",
       "      <td>No</td>\n",
       "      <td>No</td>\n",
       "      <td>No</td>\n",
       "      <td>No</td>\n",
       "      <td>Ch</td>\n",
       "      <td>Yes</td>\n",
       "      <td>NO</td>\n",
       "    </tr>\n",
       "  </tbody>\n",
       "</table>\n",
       "</div>"
      ],
      "text/plain": [
       "      encounter_id  patient_nbr       race  gender      age    weight  \\\n",
       "1102       8042082     94466574  Caucasian    Male  [50-60)  [75-100)   \n",
       "1108       8057670     96198543        NaN  Female  [80-90)   [50-75)   \n",
       "1132       8235036     79874631  Caucasian  Female  [60-70)    [0-25)   \n",
       "1136       8274126     90421380  Caucasian  Female  [40-50)  [75-100)   \n",
       "1190       8421486     55628172  Caucasian  Female  [70-80)  [75-100)   \n",
       "\n",
       "     admission_type_id discharge_disposition_id admission_source_id  \\\n",
       "1102                 6                        1                  17   \n",
       "1108                 6                        5                  17   \n",
       "1132                 6                        1                  17   \n",
       "1136                 6                        1                  17   \n",
       "1190                 6                        6                  17   \n",
       "\n",
       "      time_in_hospital payer_code medical_specialty  num_lab_procedures  \\\n",
       "1102                 2        NaN        Cardiology                  68   \n",
       "1108                 9        NaN               NaN                  74   \n",
       "1132                 5        NaN        Cardiology                  71   \n",
       "1136                 3        NaN               NaN                  56   \n",
       "1190                11        NaN  InternalMedicine                  78   \n",
       "\n",
       "      num_procedures  num_medications  number_outpatient  number_emergency  \\\n",
       "1102               3               15                  0                 0   \n",
       "1108               5               27                  0                 0   \n",
       "1132               5               23                  0                 0   \n",
       "1136               3               15                  0                 0   \n",
       "1190               0               18                  0                 0   \n",
       "\n",
       "      number_inpatient diag_1 diag_2 diag_3  number_diagnoses max_glu_serum  \\\n",
       "1102                 0    786    250    401                 6           NaN   \n",
       "1108                 0    414    424    599                 7           NaN   \n",
       "1132                 0    414    998    285                 7           NaN   \n",
       "1136                 0    218    112    620                 5           NaN   \n",
       "1190                 1    410    427    296                 7           NaN   \n",
       "\n",
       "     A1Cresult metformin repaglinide nateglinide chlorpropamide glimepiride  \\\n",
       "1102       NaN        No          No          No             No          No   \n",
       "1108       NaN        No          No          No             No      Steady   \n",
       "1132       NaN    Steady          No          No             No          No   \n",
       "1136       NaN        No          No          No             No          No   \n",
       "1190       NaN        No          No          No             No          No   \n",
       "\n",
       "     acetohexamide glipizide glyburide tolbutamide pioglitazone rosiglitazone  \\\n",
       "1102            No        No        No          No           No            No   \n",
       "1108            No        No        No          No           No            No   \n",
       "1132            No        No        No          No           No            No   \n",
       "1136            No        No        No          No       Steady            No   \n",
       "1190            No        No        No          No           No        Steady   \n",
       "\n",
       "     acarbose miglitol troglitazone tolazamide examide citoglipton insulin  \\\n",
       "1102       No       No           No         No      No          No  Steady   \n",
       "1108       No       No           No         No      No          No  Steady   \n",
       "1132       No       No           No         No      No          No  Steady   \n",
       "1136       No       No           No         No      No          No  Steady   \n",
       "1190       No       No           No         No      No          No  Steady   \n",
       "\n",
       "     glyburide-metformin glipizide-metformin glimepiride-pioglitazone  \\\n",
       "1102                  No                  No                       No   \n",
       "1108                  No                  No                       No   \n",
       "1132                  No                  No                       No   \n",
       "1136                  No                  No                       No   \n",
       "1190                  No                  No                       No   \n",
       "\n",
       "     metformin-rosiglitazone metformin-pioglitazone change diabetesMed  \\\n",
       "1102                      No                     No     No         Yes   \n",
       "1108                      No                     No     Ch         Yes   \n",
       "1132                      No                     No     Ch         Yes   \n",
       "1136                      No                     No     Ch         Yes   \n",
       "1190                      No                     No     Ch         Yes   \n",
       "\n",
       "     readmitted  \n",
       "1102        >30  \n",
       "1108        >30  \n",
       "1132        >30  \n",
       "1136         NO  \n",
       "1190         NO  "
      ]
     },
     "execution_count": 15,
     "metadata": {},
     "output_type": "execute_result"
    }
   ],
   "source": [
    "weightnotnan.head(5)"
   ]
  },
  {
   "cell_type": "markdown",
   "id": "047c8016",
   "metadata": {},
   "source": [
    "Checking \"payer_code\", \"max_glu_serum\" and \"A1Cresult\" because in the head we only see NaNs"
   ]
  },
  {
   "cell_type": "code",
   "execution_count": 16,
   "id": "f745f14c",
   "metadata": {},
   "outputs": [
    {
     "data": {
      "text/plain": [
       "array([nan, 'MC', 'MD', 'HM', 'UN', 'BC', 'SP', 'CP', 'SI', 'DM', 'CM',\n",
       "       'CH', 'PO', 'WC', 'OT', 'OG', 'MP', 'FR'], dtype=object)"
      ]
     },
     "execution_count": 16,
     "metadata": {},
     "output_type": "execute_result"
    }
   ],
   "source": [
    "data['payer_code'].unique()"
   ]
  },
  {
   "cell_type": "code",
   "execution_count": 17,
   "id": "3bce915a",
   "metadata": {},
   "outputs": [
    {
     "data": {
      "text/plain": [
       "array([nan, '>300', 'Norm', '>200'], dtype=object)"
      ]
     },
     "execution_count": 17,
     "metadata": {},
     "output_type": "execute_result"
    }
   ],
   "source": [
    "data['max_glu_serum'].unique()"
   ]
  },
  {
   "cell_type": "code",
   "execution_count": 18,
   "id": "ef818b32",
   "metadata": {},
   "outputs": [
    {
     "data": {
      "text/plain": [
       "array([nan, '>7', '>8', 'Norm'], dtype=object)"
      ]
     },
     "execution_count": 18,
     "metadata": {},
     "output_type": "execute_result"
    }
   ],
   "source": [
    "data['A1Cresult'].unique()"
   ]
  },
  {
   "cell_type": "markdown",
   "id": "bbdaaa2c",
   "metadata": {},
   "source": [
    "Checking if \"insulin\", \"change\" and \"diabetedMed\" are boolean or not"
   ]
  },
  {
   "cell_type": "code",
   "execution_count": 19,
   "id": "866a2ce4",
   "metadata": {},
   "outputs": [
    {
     "data": {
      "text/plain": [
       "array(['No', 'Up', 'Steady', 'Down'], dtype=object)"
      ]
     },
     "execution_count": 19,
     "metadata": {},
     "output_type": "execute_result"
    }
   ],
   "source": [
    "data['insulin'].unique()"
   ]
  },
  {
   "cell_type": "code",
   "execution_count": 20,
   "id": "17cd5f03",
   "metadata": {},
   "outputs": [
    {
     "data": {
      "text/plain": [
       "array(['No', 'Ch'], dtype=object)"
      ]
     },
     "execution_count": 20,
     "metadata": {},
     "output_type": "execute_result"
    }
   ],
   "source": [
    "data['change'].unique()"
   ]
  },
  {
   "cell_type": "code",
   "execution_count": 21,
   "id": "8b41d99d",
   "metadata": {},
   "outputs": [
    {
     "data": {
      "text/plain": [
       "array(['No', 'Yes'], dtype=object)"
      ]
     },
     "execution_count": 21,
     "metadata": {},
     "output_type": "execute_result"
    }
   ],
   "source": [
    "data['diabetesMed'].unique()"
   ]
  },
  {
   "cell_type": "markdown",
   "id": "b25fe7bf",
   "metadata": {},
   "source": [
    "(10) Numerical: encounter_id, patient_nbr, time_in_hospital, num_lab_procedures, num_procedures, num_medications, number_outpatient, number_emergency, number_inpatient, number_diagnoses\n",
    "\n",
    "(28) Categorical: race, gender, age, weight, admission_type_id, discharge_disposition_id, admission_source_id, payer_code, medical_specialty, diag_1, diag_2, diag_3, max_glu_serum, A1CResult, insulin, metformin, repaglinide, nateglinide, chlorpropamide, glimepiride, acetohexamide, glipizide, glyburide, tolbutamide, pioglitazone, rosiglitazone, acarbose, miglitol, troglitazone, tolazamide, ezamide, citoglipton, glyburide-metformin, glipizide-metformin, glimepiride-pioglitazone, metformin-rosiglitazone, metformin-pioglitazone, readmitted\n",
    "\n",
    "(2) Boolean/binary: change, diabeterMed"
   ]
  },
  {
   "cell_type": "markdown",
   "id": "427bc700",
   "metadata": {},
   "source": [
    "Analysing duplicate patient IDs - We realised we have multiple patients being readmitted and duplicate patient IDs"
   ]
  },
  {
   "cell_type": "code",
   "execution_count": 22,
   "id": "508b74819271f709",
   "metadata": {
    "ExecuteTime": {
     "end_time": "2024-02-17T08:45:51.510409300Z",
     "start_time": "2024-02-17T08:45:51.401695200Z"
    },
    "collapsed": false
   },
   "outputs": [
    {
     "name": "stdout",
     "output_type": "stream",
     "text": [
      "Number of data points in the data set: 101766\n",
      "Number of unique encounters: 101766\n",
      "Number of unique patients: 71518\n",
      "Average encounters per patient: 1.4229424760200229\n"
     ]
    }
   ],
   "source": [
    "number_datapoints = len(data)\n",
    "unique_patients = data['patient_nbr'].nunique()\n",
    "unique_encounters = data['encounter_id'].nunique()\n",
    "encounters_per_patient = unique_encounters/unique_patients\n",
    "\n",
    "print(f\"Number of data points in the data set: {number_datapoints}\")\n",
    "print(f\"Number of unique encounters: {unique_encounters}\")\n",
    "print(f\"Number of unique patients: {unique_patients}\")\n",
    "print(f\"Average encounters per patient: {encounters_per_patient}\")"
   ]
  },
  {
   "cell_type": "markdown",
   "id": "946efc67f3175d1f",
   "metadata": {
    "collapsed": false
   },
   "source": [
    "Analyze number of patients vs. encounters"
   ]
  },
  {
   "cell_type": "code",
   "execution_count": 23,
   "id": "a97c7f777e35f886",
   "metadata": {
    "ExecuteTime": {
     "end_time": "2024-02-17T08:45:51.526163800Z",
     "start_time": "2024-02-17T08:45:51.427125700Z"
    },
    "collapsed": false
   },
   "outputs": [
    {
     "name": "stdout",
     "output_type": "stream",
     "text": [
      "The highest number of encounters per patient is 40\n",
      "These are the encounters for this patient:\n"
     ]
    },
    {
     "data": {
      "text/html": [
       "<div>\n",
       "<style scoped>\n",
       "    .dataframe tbody tr th:only-of-type {\n",
       "        vertical-align: middle;\n",
       "    }\n",
       "\n",
       "    .dataframe tbody tr th {\n",
       "        vertical-align: top;\n",
       "    }\n",
       "\n",
       "    .dataframe thead th {\n",
       "        text-align: right;\n",
       "    }\n",
       "</style>\n",
       "<table border=\"1\" class=\"dataframe\">\n",
       "  <thead>\n",
       "    <tr style=\"text-align: right;\">\n",
       "      <th></th>\n",
       "      <th>encounter_id</th>\n",
       "      <th>patient_nbr</th>\n",
       "      <th>race</th>\n",
       "      <th>gender</th>\n",
       "      <th>age</th>\n",
       "      <th>weight</th>\n",
       "      <th>admission_type_id</th>\n",
       "      <th>discharge_disposition_id</th>\n",
       "      <th>admission_source_id</th>\n",
       "      <th>time_in_hospital</th>\n",
       "      <th>payer_code</th>\n",
       "      <th>medical_specialty</th>\n",
       "      <th>num_lab_procedures</th>\n",
       "      <th>num_procedures</th>\n",
       "      <th>num_medications</th>\n",
       "      <th>number_outpatient</th>\n",
       "      <th>number_emergency</th>\n",
       "      <th>number_inpatient</th>\n",
       "      <th>diag_1</th>\n",
       "      <th>diag_2</th>\n",
       "      <th>diag_3</th>\n",
       "      <th>number_diagnoses</th>\n",
       "      <th>max_glu_serum</th>\n",
       "      <th>A1Cresult</th>\n",
       "      <th>metformin</th>\n",
       "      <th>repaglinide</th>\n",
       "      <th>nateglinide</th>\n",
       "      <th>chlorpropamide</th>\n",
       "      <th>glimepiride</th>\n",
       "      <th>acetohexamide</th>\n",
       "      <th>glipizide</th>\n",
       "      <th>glyburide</th>\n",
       "      <th>tolbutamide</th>\n",
       "      <th>pioglitazone</th>\n",
       "      <th>rosiglitazone</th>\n",
       "      <th>acarbose</th>\n",
       "      <th>miglitol</th>\n",
       "      <th>troglitazone</th>\n",
       "      <th>tolazamide</th>\n",
       "      <th>examide</th>\n",
       "      <th>citoglipton</th>\n",
       "      <th>insulin</th>\n",
       "      <th>glyburide-metformin</th>\n",
       "      <th>glipizide-metformin</th>\n",
       "      <th>glimepiride-pioglitazone</th>\n",
       "      <th>metformin-rosiglitazone</th>\n",
       "      <th>metformin-pioglitazone</th>\n",
       "      <th>change</th>\n",
       "      <th>diabetesMed</th>\n",
       "      <th>readmitted</th>\n",
       "    </tr>\n",
       "  </thead>\n",
       "  <tbody>\n",
       "    <tr>\n",
       "      <th>38307</th>\n",
       "      <td>119039172</td>\n",
       "      <td>88785891</td>\n",
       "      <td>Caucasian</td>\n",
       "      <td>Female</td>\n",
       "      <td>[20-30)</td>\n",
       "      <td>NaN</td>\n",
       "      <td>1</td>\n",
       "      <td>1</td>\n",
       "      <td>7</td>\n",
       "      <td>1</td>\n",
       "      <td>OG</td>\n",
       "      <td>Emergency/Trauma</td>\n",
       "      <td>32</td>\n",
       "      <td>0</td>\n",
       "      <td>10</td>\n",
       "      <td>0</td>\n",
       "      <td>0</td>\n",
       "      <td>0</td>\n",
       "      <td>250.13</td>\n",
       "      <td>244</td>\n",
       "      <td>490</td>\n",
       "      <td>3</td>\n",
       "      <td>NaN</td>\n",
       "      <td>NaN</td>\n",
       "      <td>No</td>\n",
       "      <td>No</td>\n",
       "      <td>No</td>\n",
       "      <td>No</td>\n",
       "      <td>No</td>\n",
       "      <td>No</td>\n",
       "      <td>No</td>\n",
       "      <td>No</td>\n",
       "      <td>No</td>\n",
       "      <td>No</td>\n",
       "      <td>No</td>\n",
       "      <td>No</td>\n",
       "      <td>No</td>\n",
       "      <td>No</td>\n",
       "      <td>No</td>\n",
       "      <td>No</td>\n",
       "      <td>No</td>\n",
       "      <td>Up</td>\n",
       "      <td>No</td>\n",
       "      <td>No</td>\n",
       "      <td>No</td>\n",
       "      <td>No</td>\n",
       "      <td>No</td>\n",
       "      <td>Ch</td>\n",
       "      <td>Yes</td>\n",
       "      <td>&gt;30</td>\n",
       "    </tr>\n",
       "    <tr>\n",
       "      <th>40252</th>\n",
       "      <td>125094312</td>\n",
       "      <td>88785891</td>\n",
       "      <td>Caucasian</td>\n",
       "      <td>Female</td>\n",
       "      <td>[20-30)</td>\n",
       "      <td>NaN</td>\n",
       "      <td>1</td>\n",
       "      <td>1</td>\n",
       "      <td>7</td>\n",
       "      <td>1</td>\n",
       "      <td>BC</td>\n",
       "      <td>Emergency/Trauma</td>\n",
       "      <td>10</td>\n",
       "      <td>0</td>\n",
       "      <td>10</td>\n",
       "      <td>1</td>\n",
       "      <td>0</td>\n",
       "      <td>2</td>\n",
       "      <td>250.11</td>\n",
       "      <td>244</td>\n",
       "      <td>NaN</td>\n",
       "      <td>2</td>\n",
       "      <td>NaN</td>\n",
       "      <td>NaN</td>\n",
       "      <td>No</td>\n",
       "      <td>No</td>\n",
       "      <td>No</td>\n",
       "      <td>No</td>\n",
       "      <td>No</td>\n",
       "      <td>No</td>\n",
       "      <td>No</td>\n",
       "      <td>No</td>\n",
       "      <td>No</td>\n",
       "      <td>No</td>\n",
       "      <td>No</td>\n",
       "      <td>No</td>\n",
       "      <td>No</td>\n",
       "      <td>No</td>\n",
       "      <td>No</td>\n",
       "      <td>No</td>\n",
       "      <td>No</td>\n",
       "      <td>Down</td>\n",
       "      <td>No</td>\n",
       "      <td>No</td>\n",
       "      <td>No</td>\n",
       "      <td>No</td>\n",
       "      <td>No</td>\n",
       "      <td>Ch</td>\n",
       "      <td>Yes</td>\n",
       "      <td>&lt;30</td>\n",
       "    </tr>\n",
       "    <tr>\n",
       "      <th>40661</th>\n",
       "      <td>126171582</td>\n",
       "      <td>88785891</td>\n",
       "      <td>Caucasian</td>\n",
       "      <td>Female</td>\n",
       "      <td>[20-30)</td>\n",
       "      <td>NaN</td>\n",
       "      <td>1</td>\n",
       "      <td>1</td>\n",
       "      <td>7</td>\n",
       "      <td>5</td>\n",
       "      <td>BC</td>\n",
       "      <td>Emergency/Trauma</td>\n",
       "      <td>35</td>\n",
       "      <td>0</td>\n",
       "      <td>15</td>\n",
       "      <td>1</td>\n",
       "      <td>0</td>\n",
       "      <td>3</td>\n",
       "      <td>250.13</td>\n",
       "      <td>536</td>\n",
       "      <td>V58</td>\n",
       "      <td>6</td>\n",
       "      <td>NaN</td>\n",
       "      <td>NaN</td>\n",
       "      <td>No</td>\n",
       "      <td>No</td>\n",
       "      <td>No</td>\n",
       "      <td>No</td>\n",
       "      <td>No</td>\n",
       "      <td>No</td>\n",
       "      <td>No</td>\n",
       "      <td>No</td>\n",
       "      <td>No</td>\n",
       "      <td>No</td>\n",
       "      <td>No</td>\n",
       "      <td>No</td>\n",
       "      <td>No</td>\n",
       "      <td>No</td>\n",
       "      <td>No</td>\n",
       "      <td>No</td>\n",
       "      <td>No</td>\n",
       "      <td>Up</td>\n",
       "      <td>No</td>\n",
       "      <td>No</td>\n",
       "      <td>No</td>\n",
       "      <td>No</td>\n",
       "      <td>No</td>\n",
       "      <td>Ch</td>\n",
       "      <td>Yes</td>\n",
       "      <td>&gt;30</td>\n",
       "    </tr>\n",
       "  </tbody>\n",
       "</table>\n",
       "</div>"
      ],
      "text/plain": [
       "       encounter_id  patient_nbr       race  gender      age weight  \\\n",
       "38307     119039172     88785891  Caucasian  Female  [20-30)    NaN   \n",
       "40252     125094312     88785891  Caucasian  Female  [20-30)    NaN   \n",
       "40661     126171582     88785891  Caucasian  Female  [20-30)    NaN   \n",
       "\n",
       "      admission_type_id discharge_disposition_id admission_source_id  \\\n",
       "38307                 1                        1                   7   \n",
       "40252                 1                        1                   7   \n",
       "40661                 1                        1                   7   \n",
       "\n",
       "       time_in_hospital payer_code medical_specialty  num_lab_procedures  \\\n",
       "38307                 1         OG  Emergency/Trauma                  32   \n",
       "40252                 1         BC  Emergency/Trauma                  10   \n",
       "40661                 5         BC  Emergency/Trauma                  35   \n",
       "\n",
       "       num_procedures  num_medications  number_outpatient  number_emergency  \\\n",
       "38307               0               10                  0                 0   \n",
       "40252               0               10                  1                 0   \n",
       "40661               0               15                  1                 0   \n",
       "\n",
       "       number_inpatient  diag_1 diag_2 diag_3  number_diagnoses max_glu_serum  \\\n",
       "38307                 0  250.13    244    490                 3           NaN   \n",
       "40252                 2  250.11    244    NaN                 2           NaN   \n",
       "40661                 3  250.13    536    V58                 6           NaN   \n",
       "\n",
       "      A1Cresult metformin repaglinide nateglinide chlorpropamide glimepiride  \\\n",
       "38307       NaN        No          No          No             No          No   \n",
       "40252       NaN        No          No          No             No          No   \n",
       "40661       NaN        No          No          No             No          No   \n",
       "\n",
       "      acetohexamide glipizide glyburide tolbutamide pioglitazone  \\\n",
       "38307            No        No        No          No           No   \n",
       "40252            No        No        No          No           No   \n",
       "40661            No        No        No          No           No   \n",
       "\n",
       "      rosiglitazone acarbose miglitol troglitazone tolazamide examide  \\\n",
       "38307            No       No       No           No         No      No   \n",
       "40252            No       No       No           No         No      No   \n",
       "40661            No       No       No           No         No      No   \n",
       "\n",
       "      citoglipton insulin glyburide-metformin glipizide-metformin  \\\n",
       "38307          No      Up                  No                  No   \n",
       "40252          No    Down                  No                  No   \n",
       "40661          No      Up                  No                  No   \n",
       "\n",
       "      glimepiride-pioglitazone metformin-rosiglitazone metformin-pioglitazone  \\\n",
       "38307                       No                      No                     No   \n",
       "40252                       No                      No                     No   \n",
       "40661                       No                      No                     No   \n",
       "\n",
       "      change diabetesMed readmitted  \n",
       "38307     Ch         Yes        >30  \n",
       "40252     Ch         Yes        <30  \n",
       "40661     Ch         Yes        >30  "
      ]
     },
     "execution_count": 23,
     "metadata": {},
     "output_type": "execute_result"
    }
   ],
   "source": [
    "#Closer look into one patient with high number of encounters to check that data is not an incorrect copy\n",
    "value_counts = data['patient_nbr'].value_counts()  \n",
    "highest_duplicate_value = value_counts.index[0] \n",
    "patient_most_encounters = data.loc[data['patient_nbr'] == highest_duplicate_value, :]\n",
    "num_most_encounters = len(patient_most_encounters)\n",
    "\n",
    "print(f\"The highest number of encounters per patient is {num_most_encounters}\")\n",
    "print(\"These are the encounters for this patient:\")\n",
    "patient_most_encounters.head(3)"
   ]
  },
  {
   "cell_type": "markdown",
   "id": "9afee6d2b34f4778",
   "metadata": {
    "collapsed": false
   },
   "source": [
    "As this data shows since the rows do not contain the same data, the rows for this patient with the highest number of encounters are not mistakenly copies / duplicates of the same encounter. We come to this conclusion since the values differ between encounters. Therefore, the data seems reliable and we keep all encounters, acknowledging that more weight is given to patients with a high number of encounters."
   ]
  },
  {
   "cell_type": "markdown",
   "id": "ec092d2ccdf8b590",
   "metadata": {
    "collapsed": false
   },
   "source": [
    "Almost half of the patients in the data set are readmitted. Specifically, ~35% are readmitted after more than 30 days, and ~11% are readmitted after less than 30 days. We have a class rarity on the latest and we will have to later try applying an oversamplying technique."
   ]
  },
  {
   "cell_type": "markdown",
   "id": "94b99d58",
   "metadata": {},
   "source": [
    "### 2.3 Dealing with missing values"
   ]
  },
  {
   "cell_type": "code",
   "execution_count": 24,
   "id": "fc93cf7af1633f3f",
   "metadata": {
    "ExecuteTime": {
     "end_time": "2024-02-17T08:45:51.387715100Z",
     "start_time": "2024-02-17T08:45:50.972629800Z"
    },
    "collapsed": false
   },
   "outputs": [
    {
     "name": "stdout",
     "output_type": "stream",
     "text": [
      "                          Absolute  Relative (in %)\n",
      "encounter_id                     0         0.000000\n",
      "patient_nbr                      0         0.000000\n",
      "race                          2273         2.233555\n",
      "gender                           0         0.000000\n",
      "age                              0         0.000000\n",
      "weight                       98569        96.858479\n",
      "admission_type_id                0         0.000000\n",
      "discharge_disposition_id         0         0.000000\n",
      "admission_source_id              0         0.000000\n",
      "time_in_hospital                 0         0.000000\n",
      "payer_code                   40256        39.557416\n",
      "medical_specialty            49949        49.082208\n",
      "num_lab_procedures               0         0.000000\n",
      "num_procedures                   0         0.000000\n",
      "num_medications                  0         0.000000\n",
      "number_outpatient                0         0.000000\n",
      "number_emergency                 0         0.000000\n",
      "number_inpatient                 0         0.000000\n",
      "diag_1                          21         0.020636\n",
      "diag_2                         358         0.351787\n",
      "diag_3                        1423         1.398306\n",
      "number_diagnoses                 0         0.000000\n",
      "max_glu_serum                96420        94.746772\n",
      "A1Cresult                    84748        83.277322\n",
      "metformin                        0         0.000000\n",
      "repaglinide                      0         0.000000\n",
      "nateglinide                      0         0.000000\n",
      "chlorpropamide                   0         0.000000\n",
      "glimepiride                      0         0.000000\n",
      "acetohexamide                    0         0.000000\n",
      "glipizide                        0         0.000000\n",
      "glyburide                        0         0.000000\n",
      "tolbutamide                      0         0.000000\n",
      "pioglitazone                     0         0.000000\n",
      "rosiglitazone                    0         0.000000\n",
      "acarbose                         0         0.000000\n",
      "miglitol                         0         0.000000\n",
      "troglitazone                     0         0.000000\n",
      "tolazamide                       0         0.000000\n",
      "examide                          0         0.000000\n",
      "citoglipton                      0         0.000000\n",
      "insulin                          0         0.000000\n",
      "glyburide-metformin              0         0.000000\n",
      "glipizide-metformin              0         0.000000\n",
      "glimepiride-pioglitazone         0         0.000000\n",
      "metformin-rosiglitazone          0         0.000000\n",
      "metformin-pioglitazone           0         0.000000\n",
      "change                           0         0.000000\n",
      "diabetesMed                      0         0.000000\n",
      "readmitted                       0         0.000000\n"
     ]
    }
   ],
   "source": [
    "#Count number of null values in absolute and relative terms (considering NaN can be expressed by question mark)\n",
    "null_counts_absolute = data.isnull().sum()\n",
    "null_counts_relative = (data.isnull().sum() / len(data)) * 100\n",
    "null_counts = pd.DataFrame({'Absolute': null_counts_absolute, 'Relative (in %)': null_counts_relative})\n",
    "\n",
    "print(null_counts)"
   ]
  },
  {
   "cell_type": "markdown",
   "id": "aa813450",
   "metadata": {},
   "source": [
    "9 columns have missing values out of the 50, which is not that bad!"
   ]
  },
  {
   "cell_type": "markdown",
   "id": "8ce16f20",
   "metadata": {},
   "source": [
    "The ones considered for dropping due to missing values are max_glu_serum, A1CResult and weight since they have very high ratio of missingness. Payer_code also has a lot of missing values and doesn't seem to have importance to the target."
   ]
  },
  {
   "cell_type": "markdown",
   "id": "5057af06848ab349",
   "metadata": {
    "collapsed": false
   },
   "source": [
    "Save all cleaned data in a new DataFrame"
   ]
  },
  {
   "cell_type": "code",
   "execution_count": 25,
   "id": "af11b3a4892a02cc",
   "metadata": {
    "ExecuteTime": {
     "end_time": "2024-02-17T08:45:54.132831Z",
     "start_time": "2024-02-17T08:45:53.987901500Z"
    },
    "collapsed": false
   },
   "outputs": [],
   "source": [
    "data_prepared = data.copy()"
   ]
  },
  {
   "cell_type": "markdown",
   "id": "358e0fd5",
   "metadata": {},
   "source": [
    "Race: impute with mode since there's only 2% missing"
   ]
  },
  {
   "cell_type": "code",
   "execution_count": 26,
   "id": "90ff7d1b",
   "metadata": {},
   "outputs": [],
   "source": [
    "data_prepared[\"race\"].fillna(data_prepared[\"race\"].mode()[0], inplace=True)"
   ]
  },
  {
   "cell_type": "markdown",
   "id": "7abc730d",
   "metadata": {},
   "source": [
    "Gender: drop rows with unknown/invalid gender since there are only 3 instances"
   ]
  },
  {
   "cell_type": "code",
   "execution_count": 27,
   "id": "e205ac14",
   "metadata": {},
   "outputs": [],
   "source": [
    "data_prepared.drop(data_prepared[data_prepared['gender'] == 'Unknown/Invalid'].index, inplace=True)"
   ]
  },
  {
   "cell_type": "markdown",
   "id": "6fd58afe",
   "metadata": {},
   "source": [
    "Weight: drop column, since we have 97% missing values due to lack of requirement for hospitals to measure weight in structured way"
   ]
  },
  {
   "cell_type": "code",
   "execution_count": 28,
   "id": "a6c40bb2",
   "metadata": {},
   "outputs": [],
   "source": [
    "data_prepared = data_prepared.drop(columns=\"weight\")"
   ]
  },
  {
   "cell_type": "markdown",
   "id": "60f53301",
   "metadata": {},
   "source": [
    "Payer code: drop column since there are 40% missing values and the relevance for readmission is expected to be low"
   ]
  },
  {
   "cell_type": "code",
   "execution_count": 29,
   "id": "f839db7d",
   "metadata": {},
   "outputs": [],
   "source": [
    "data_prepared = data_prepared.drop(columns=\"payer_code\")"
   ]
  },
  {
   "cell_type": "markdown",
   "id": "59a59b99",
   "metadata": {},
   "source": [
    " Medical specialty: create binary columns \"is_missing\" and drop original feature due to high number of missing values"
   ]
  },
  {
   "cell_type": "code",
   "execution_count": 30,
   "id": "c85deaaa",
   "metadata": {},
   "outputs": [],
   "source": [
    "data_prepared['medical_specialty_missing'] = data_prepared[\"medical_specialty\"].isna().astype(int)\n",
    "data_prepared = data_prepared.drop(columns=\"medical_specialty\")"
   ]
  },
  {
   "cell_type": "markdown",
   "id": "7c325273",
   "metadata": {},
   "source": [
    "Diagnoses 1-3: replace missing values with mode since there are only 0.02-1.3% of missing values"
   ]
  },
  {
   "cell_type": "code",
   "execution_count": 31,
   "id": "c755718d",
   "metadata": {},
   "outputs": [],
   "source": [
    "data_prepared['diag_1'].fillna(data_prepared['diag_1'].mode()[0], inplace=True)\n",
    "data_prepared['diag_2'].fillna(data_prepared['diag_2'].mode()[0], inplace=True)\n",
    "data_prepared['diag_3'].fillna(data_prepared['diag_3'].mode()[0], inplace=True)"
   ]
  },
  {
   "cell_type": "markdown",
   "id": "2fb95db0",
   "metadata": {},
   "source": [
    "Max_glu_serum and A1Cresult: Create binary columns \"is_missing\" when test was not taken since it is potentially relevant. We'll drop the original column due to the high number of missing values."
   ]
  },
  {
   "cell_type": "code",
   "execution_count": 32,
   "id": "ec85d5a7",
   "metadata": {},
   "outputs": [],
   "source": [
    "data_prepared['Max_glu_serum_missing'] = data_prepared['max_glu_serum'].isna().astype(int)\n",
    "data_prepared['A1C_missing'] = data_prepared['A1Cresult'].isna().astype(int)\n",
    "\n",
    "data_prepared = data_prepared.drop(columns=[\"max_glu_serum\", \"A1Cresult\"])"
   ]
  },
  {
   "cell_type": "markdown",
   "id": "485d2756",
   "metadata": {},
   "source": [
    "Check if we left something out in the cleaning. Expected to not have missing values anymore on the data."
   ]
  },
  {
   "cell_type": "code",
   "execution_count": 33,
   "id": "f45e30b0301be80a",
   "metadata": {
    "ExecuteTime": {
     "end_time": "2024-02-17T08:45:54.663437100Z",
     "start_time": "2024-02-17T08:45:54.201486600Z"
    },
    "collapsed": false
   },
   "outputs": [
    {
     "data": {
      "text/plain": [
       "encounter_id                 0\n",
       "patient_nbr                  0\n",
       "race                         0\n",
       "gender                       0\n",
       "age                          0\n",
       "admission_type_id            0\n",
       "discharge_disposition_id     0\n",
       "admission_source_id          0\n",
       "time_in_hospital             0\n",
       "num_lab_procedures           0\n",
       "num_procedures               0\n",
       "num_medications              0\n",
       "number_outpatient            0\n",
       "number_emergency             0\n",
       "number_inpatient             0\n",
       "diag_1                       0\n",
       "diag_2                       0\n",
       "diag_3                       0\n",
       "number_diagnoses             0\n",
       "metformin                    0\n",
       "repaglinide                  0\n",
       "nateglinide                  0\n",
       "chlorpropamide               0\n",
       "glimepiride                  0\n",
       "acetohexamide                0\n",
       "glipizide                    0\n",
       "glyburide                    0\n",
       "tolbutamide                  0\n",
       "pioglitazone                 0\n",
       "rosiglitazone                0\n",
       "acarbose                     0\n",
       "miglitol                     0\n",
       "troglitazone                 0\n",
       "tolazamide                   0\n",
       "examide                      0\n",
       "citoglipton                  0\n",
       "insulin                      0\n",
       "glyburide-metformin          0\n",
       "glipizide-metformin          0\n",
       "glimepiride-pioglitazone     0\n",
       "metformin-rosiglitazone      0\n",
       "metformin-pioglitazone       0\n",
       "change                       0\n",
       "diabetesMed                  0\n",
       "readmitted                   0\n",
       "medical_specialty_missing    0\n",
       "Max_glu_serum_missing        0\n",
       "A1C_missing                  0\n",
       "dtype: int64"
      ]
     },
     "execution_count": 33,
     "metadata": {},
     "output_type": "execute_result"
    }
   ],
   "source": [
    "data_prepared.isna().sum()"
   ]
  },
  {
   "cell_type": "markdown",
   "id": "3fe967412f281e99",
   "metadata": {
    "collapsed": false
   },
   "source": [
    "### 2.4 Dealing with outliers"
   ]
  },
  {
   "cell_type": "markdown",
   "id": "e0bd8fcde905f479",
   "metadata": {
    "collapsed": false
   },
   "source": [
    "Check distribution of numerical columns"
   ]
  },
  {
   "cell_type": "code",
   "execution_count": 34,
   "id": "aeb845cb",
   "metadata": {},
   "outputs": [
    {
     "data": {
      "image/png": "[encoded data removed]",
      "text/plain": [
       "<Figure size 640x480 with 1 Axes>"
      ]
     },
     "metadata": {},
     "output_type": "display_data"
    }
   ],
   "source": [
    "numeric_columns = [\"time_in_hospital\", \"num_lab_procedures\", \"num_procedures\", \"num_medications\", \"number_outpatient\", \"number_emergency\", \"number_inpatient\", \"number_diagnoses\"]\n",
    "plt.boxplot(data_prepared[numeric_columns])\n",
    "plt.show()"
   ]
  },
  {
   "cell_type": "markdown",
   "id": "0ecd9b38",
   "metadata": {},
   "source": [
    "Calculate the number of outliers for each column using the IQR method"
   ]
  },
  {
   "cell_type": "code",
   "execution_count": 35,
   "id": "76e0b07d",
   "metadata": {},
   "outputs": [
    {
     "name": "stdout",
     "output_type": "stream",
     "text": [
      "Number of outliers:\n",
      "time_in_hospital: 2252\n",
      "num_lab_procedures: 143\n",
      "num_procedures: 4954\n",
      "num_medications: 2557\n",
      "number_outpatient: 16739\n",
      "number_emergency: 11383\n",
      "number_inpatient: 7049\n",
      "number_diagnoses: 281\n"
     ]
    }
   ],
   "source": [
    "outliers = {}\n",
    "for col in data_prepared[numeric_columns]:\n",
    "    q1 = data_prepared[col].quantile(0.25)\n",
    "    q3 = data_prepared[col].quantile(0.75)\n",
    "    iqr = q3 - q1\n",
    "    lower_bound = q1 - 1.5 * iqr\n",
    "    upper_bound = q3 + 1.5 * iqr\n",
    "    outliers[col] = len(data_prepared[(data_prepared[col] < lower_bound) | (data_prepared[col] > upper_bound)])\n",
    "\n",
    "plt.show()\n",
    "\n",
    "# Print the number of outliers for each column\n",
    "print(\"Number of outliers:\")\n",
    "for col, num_outliers in outliers.items():\n",
    "    print(f\"{col}: {num_outliers}\")"
   ]
  },
  {
   "cell_type": "markdown",
   "id": "064dba1a",
   "metadata": {},
   "source": [
    "Calculate the number of outliers for each column using the z-score method"
   ]
  },
  {
   "cell_type": "code",
   "execution_count": 36,
   "id": "c441b14a",
   "metadata": {},
   "outputs": [
    {
     "name": "stdout",
     "output_type": "stream",
     "text": [
      "Number of outliers (Z-Score Method):\n",
      "time_in_hospital: 1042\n",
      "num_lab_procedures: 43\n",
      "num_procedures: 0\n",
      "num_medications: 1361\n",
      "number_outpatient: 1457\n",
      "number_emergency: 1664\n",
      "number_inpatient: 2016\n",
      "number_diagnoses: 281\n"
     ]
    }
   ],
   "source": [
    "z_score_threshold = 3\n",
    "outliers_z_score = {}\n",
    "for col in data_prepared[numeric_columns]:\n",
    "    z_scores = np.abs((data_prepared[col] - data_prepared[col].mean()) / data_prepared[col].std())\n",
    "    outliers_z_score[col] = sum(z_scores > z_score_threshold)\n",
    "\n",
    "print(\"Number of outliers (Z-Score Method):\")\n",
    "for col, num_outliers in outliers_z_score.items():\n",
    "    print(f\"{col}: {num_outliers}\")"
   ]
  },
  {
   "cell_type": "markdown",
   "id": "9be60d77",
   "metadata": {},
   "source": [
    "Since the z-score method showed a more consistent number of outliers, lets use this one to decide the columns to impute the mean"
   ]
  },
  {
   "cell_type": "code",
   "execution_count": 37,
   "id": "023f3893",
   "metadata": {},
   "outputs": [],
   "source": [
    "# Calculate z-scores of numerical columns and turn these into a DataFrame\n",
    "scaler = StandardScaler()\n",
    "scaled_features = scaler.fit_transform(data_prepared[numeric_columns])\n",
    "scaled_df = pd.DataFrame(scaled_features, index=data_prepared.index, columns=numeric_columns)\n",
    "\n",
    "# Keep values where the absolute z-score is not higher than 1.6, otherwise replace with a missing value\n",
    "for col in numeric_columns:\n",
    "    data_prepared[col] = data_prepared[col].where(abs(scaled_df[col]) <= 1.6, None)\n",
    "    \n",
    "#Fill missing values with the column's mean (columns did not have missing values before removing the outliers)\n",
    "for col in numeric_columns:\n",
    "    median_value = data_prepared[col].median()\n",
    "    data_prepared[col] = data_prepared[col].fillna(median_value)"
   ]
  },
  {
   "cell_type": "markdown",
   "id": "1fdfab4b58001901",
   "metadata": {
    "collapsed": false
   },
   "source": [
    "Let's check the results of the outlier removal procedure by looking at the number of lab procedures of one of the patients before and after"
   ]
  },
  {
   "cell_type": "code",
   "execution_count": 38,
   "id": "2051374b41f9a801",
   "metadata": {
    "ExecuteTime": {
     "end_time": "2024-02-17T08:45:54.185705300Z",
     "start_time": "2024-02-17T08:45:54.170028400Z"
    },
    "collapsed": false
   },
   "outputs": [],
   "source": [
    "max_procedures = data[\"num_lab_procedures\"].max()\n",
    "patient_max_procedures = data.loc[data[\"num_lab_procedures\"] == max_procedures, \"patient_nbr\"]\n",
    "check_median = data_prepared.loc[data_prepared[\"patient_nbr\"] == patient_max_procedures.iloc[0], \"num_lab_procedures\"]\n",
    "median_lab_procedures = data_prepared[\"num_lab_procedures\"].median()"
   ]
  },
  {
   "cell_type": "code",
   "execution_count": 39,
   "id": "f3edcdf0",
   "metadata": {},
   "outputs": [
    {
     "name": "stdout",
     "output_type": "stream",
     "text": [
      "The number of lab procedures for patient 95506623 was 132 and it was an outlier\n",
      "After outlier removal, this value has been replaced with 45.0, which is equal to the column's median of 45.0\n"
     ]
    }
   ],
   "source": [
    "print(f\"The number of lab procedures for patient {patient_max_procedures.iloc[0]} was {max_procedures} and it was an outlier\")\n",
    "print(f\"After outlier removal, this value has been replaced with {check_median.iloc[0]}, which is equal to the column's median of {median_lab_procedures}\")"
   ]
  },
  {
   "cell_type": "markdown",
   "id": "797ad59a",
   "metadata": {},
   "source": [
    "### 2.5 Encoding columns"
   ]
  },
  {
   "cell_type": "markdown",
   "id": "9e24b6c0bae5a7e5",
   "metadata": {
    "collapsed": false
   },
   "source": [
    "##### 2.5.1 Categorical features"
   ]
  },
  {
   "cell_type": "markdown",
   "id": "5494eb48bd94e020",
   "metadata": {
    "collapsed": false
   },
   "source": [
    "Most patients (59%) are discharged to their home, which is described as the routine discharge (Source 1). Therefore, we are clustering into discharged to home vs. any other discharge type. The result as a binary feature and we can drop the original one. "
   ]
  },
  {
   "cell_type": "code",
   "execution_count": 40,
   "id": "56c854c246e21e56",
   "metadata": {
    "ExecuteTime": {
     "end_time": "2024-02-17T08:45:54.730755600Z",
     "start_time": "2024-02-17T08:45:54.681574900Z"
    },
    "collapsed": false
   },
   "outputs": [],
   "source": [
    "data_prepared['discharged_home'] = data_prepared['discharge_disposition_id'].apply(lambda x: 1 if x == 1 else 0)\n",
    "data_prepared = data_prepared.drop(columns=\"discharge_disposition_id\")"
   ]
  },
  {
   "cell_type": "markdown",
   "id": "acf42c6e",
   "metadata": {},
   "source": [
    "Race and admission_type_id have no logical order, so we'll perform one-hot dummy encoding"
   ]
  },
  {
   "cell_type": "code",
   "execution_count": 41,
   "id": "09cebdee",
   "metadata": {},
   "outputs": [],
   "source": [
    "encoded_categoricals = pd.get_dummies(data_prepared[[\"race\", \"admission_type_id\"]]).astype(int)\n",
    "data_prepared = data_prepared.drop(columns=[\"admission_type_id\", \"race\"])\n",
    "data_prepared = pd.concat([data_prepared, encoded_categoricals], axis=1)"
   ]
  },
  {
   "cell_type": "markdown",
   "id": "046e478f",
   "metadata": {},
   "source": [
    "Age has a logical order, therefore we'll perform ordinal encoding"
   ]
  },
  {
   "cell_type": "code",
   "execution_count": 42,
   "id": "897fadd1",
   "metadata": {},
   "outputs": [],
   "source": [
    "mapping_age = {\"[0-10)\": 1,\"[10-20)\": 2, \"[20-30)\": 3, \"[30-40)\": 4, \"[40-50)\": 5, \"[50-60)\": 6, \"[60-70)\": 7, \"[70-80)\": 8, \"[80-90)\": 9, \"[90-100)\": 10}\n",
    "data_prepared[\"age\"] = data_prepared[\"age\"].map(mapping_age)"
   ]
  },
  {
   "cell_type": "markdown",
   "id": "922abe68",
   "metadata": {},
   "source": [
    "The medication columns also have a logical order, therefore we'll also perform ordinal encoding"
   ]
  },
  {
   "cell_type": "code",
   "execution_count": 43,
   "id": "e68d9bb6",
   "metadata": {},
   "outputs": [],
   "source": [
    "medications = ['metformin', 'repaglinide', 'nateglinide', 'chlorpropamide', 'glimepiride', 'acetohexamide', 'glipizide', 'glyburide', 'tolbutamide', 'pioglitazone', 'rosiglitazone', 'acarbose', 'miglitol', 'troglitazone', 'tolazamide', 'examide', 'citoglipton', 'insulin', 'glyburide-metformin', 'glipizide-metformin', 'glimepiride-pioglitazone', 'metformin-rosiglitazone', 'metformin-pioglitazone']\n",
    "\n",
    "mapping_medications = {\"No\": 0, \"Down\": 1, \"Steady\": 2, \"Up\": 3}\n",
    "\n",
    "for medication in medications:\n",
    "    data_prepared[medication] = data_prepared[medication].map(mapping_medications)"
   ]
  },
  {
   "cell_type": "markdown",
   "id": "0ac25d94",
   "metadata": {},
   "source": [
    "And so does the target column readmitted, so we'll perform ordinal encoding"
   ]
  },
  {
   "cell_type": "code",
   "execution_count": 44,
   "id": "57f321e0",
   "metadata": {},
   "outputs": [],
   "source": [
    "data_prepared['readmitted'] = data_prepared['readmitted'].apply(lambda x: 0 if x == 'NO' else (1 if x == '<30' else 2))"
   ]
  },
  {
   "cell_type": "markdown",
   "id": "f02f62891513b6e6",
   "metadata": {
    "collapsed": false
   },
   "source": [
    "Encoding columns with very high number of values: diag_1, diag_2, diag_3"
   ]
  },
  {
   "cell_type": "markdown",
   "id": "3d94777d",
   "metadata": {},
   "source": [
    "There are some decimal codes. We believe is a mistake because the codes are supposed to have three digits, so we'll transform those floats into integers."
   ]
  },
  {
   "cell_type": "code",
   "execution_count": 45,
   "id": "46109624",
   "metadata": {},
   "outputs": [],
   "source": [
    "data_prepared[\"diag_1\"] = data_prepared[\"diag_1\"].str.split(\".\").str[0]\n",
    "data_prepared[\"diag_2\"] = data_prepared[\"diag_2\"].str.split(\".\").str[0]\n",
    "data_prepared[\"diag_3\"] = data_prepared[\"diag_3\"].str.split(\".\").str[0]"
   ]
  },
  {
   "cell_type": "markdown",
   "id": "0f0043ef",
   "metadata": {},
   "source": [
    "There are also some columns with less than three digits. For those cases, we'll impute with the mode."
   ]
  },
  {
   "cell_type": "code",
   "execution_count": 46,
   "id": "a3e026ec",
   "metadata": {},
   "outputs": [],
   "source": [
    "mode_value_1 = data_prepared[\"diag_1\"].mode()[0]\n",
    "mode_value_2 = data_prepared[\"diag_2\"].mode()[0]\n",
    "mode_value_3 = data_prepared[\"diag_3\"].mode()[0]\n",
    "\n",
    "data_prepared[\"diag_1\"] = data_prepared[\"diag_1\"].apply(lambda x: mode_value_1 if len(x) < 3 else x)\n",
    "data_prepared[\"diag_2\"] = data_prepared[\"diag_2\"].apply(lambda x: mode_value_1 if len(x) < 3 else x)\n",
    "data_prepared[\"diag_3\"] = data_prepared[\"diag_3\"].apply(lambda x: mode_value_1 if len(x) < 3 else x)"
   ]
  },
  {
   "cell_type": "code",
   "execution_count": 47,
   "id": "dcf9c6f9",
   "metadata": {},
   "outputs": [
    {
     "data": {
      "text/html": [
       "<div>\n",
       "<style scoped>\n",
       "    .dataframe tbody tr th:only-of-type {\n",
       "        vertical-align: middle;\n",
       "    }\n",
       "\n",
       "    .dataframe tbody tr th {\n",
       "        vertical-align: top;\n",
       "    }\n",
       "\n",
       "    .dataframe thead th {\n",
       "        text-align: right;\n",
       "    }\n",
       "</style>\n",
       "<table border=\"1\" class=\"dataframe\">\n",
       "  <thead>\n",
       "    <tr style=\"text-align: right;\">\n",
       "      <th></th>\n",
       "      <th>diag_1</th>\n",
       "      <th>diag_2</th>\n",
       "      <th>diag_3</th>\n",
       "    </tr>\n",
       "  </thead>\n",
       "  <tbody>\n",
       "    <tr>\n",
       "      <th>0</th>\n",
       "      <td>250</td>\n",
       "      <td>276</td>\n",
       "      <td>250</td>\n",
       "    </tr>\n",
       "    <tr>\n",
       "      <th>1</th>\n",
       "      <td>276</td>\n",
       "      <td>250</td>\n",
       "      <td>255</td>\n",
       "    </tr>\n",
       "    <tr>\n",
       "      <th>2</th>\n",
       "      <td>648</td>\n",
       "      <td>250</td>\n",
       "      <td>V27</td>\n",
       "    </tr>\n",
       "    <tr>\n",
       "      <th>3</th>\n",
       "      <td>250</td>\n",
       "      <td>250</td>\n",
       "      <td>403</td>\n",
       "    </tr>\n",
       "    <tr>\n",
       "      <th>4</th>\n",
       "      <td>197</td>\n",
       "      <td>157</td>\n",
       "      <td>250</td>\n",
       "    </tr>\n",
       "    <tr>\n",
       "      <th>5</th>\n",
       "      <td>414</td>\n",
       "      <td>411</td>\n",
       "      <td>250</td>\n",
       "    </tr>\n",
       "    <tr>\n",
       "      <th>6</th>\n",
       "      <td>414</td>\n",
       "      <td>411</td>\n",
       "      <td>V45</td>\n",
       "    </tr>\n",
       "    <tr>\n",
       "      <th>7</th>\n",
       "      <td>428</td>\n",
       "      <td>492</td>\n",
       "      <td>250</td>\n",
       "    </tr>\n",
       "    <tr>\n",
       "      <th>8</th>\n",
       "      <td>398</td>\n",
       "      <td>427</td>\n",
       "      <td>250</td>\n",
       "    </tr>\n",
       "    <tr>\n",
       "      <th>9</th>\n",
       "      <td>434</td>\n",
       "      <td>198</td>\n",
       "      <td>486</td>\n",
       "    </tr>\n",
       "  </tbody>\n",
       "</table>\n",
       "</div>"
      ],
      "text/plain": [
       "  diag_1 diag_2 diag_3\n",
       "0    250    276    250\n",
       "1    276    250    255\n",
       "2    648    250    V27\n",
       "3    250    250    403\n",
       "4    197    157    250\n",
       "5    414    411    250\n",
       "6    414    411    V45\n",
       "7    428    492    250\n",
       "8    398    427    250\n",
       "9    434    198    486"
      ]
     },
     "execution_count": 47,
     "metadata": {},
     "output_type": "execute_result"
    }
   ],
   "source": [
    "data_prepared[[\"diag_1\", \"diag_2\", \"diag_3\"]].head(10)"
   ]
  },
  {
   "cell_type": "code",
   "execution_count": 48,
   "id": "d1af2d8e8f984fe8",
   "metadata": {
    "ExecuteTime": {
     "end_time": "2024-02-17T08:45:55.148499700Z",
     "start_time": "2024-02-17T08:45:55.139016500Z"
    },
    "collapsed": false
   },
   "outputs": [],
   "source": [
    "# concatenate all three columns of diagnosis on a single list with unique values (since its a set)\n",
    "diag_codes = set(list(data_prepared[\"diag_1\"]) + list(data_prepared[\"diag_2\"]) + list(data_prepared[\"diag_3\"]))\n",
    "\n",
    "# converting back to list so every category has an index\n",
    "index2diag_code = list(diag_codes) \n",
    "\n",
    "# get the number of different categories\n",
    "n_codes = len(diag_codes)\n",
    "\n",
    "# attributes each category (or code) to its index and putting in a dictionary\n",
    "diag_code2index = { index2diag_code[i]:i for i in range(n_codes) } "
   ]
  },
  {
   "cell_type": "code",
   "execution_count": 49,
   "id": "7e3f2231",
   "metadata": {},
   "outputs": [
    {
     "name": "stdout",
     "output_type": "stream",
     "text": [
      "Number of different codes: 838\n",
      "Index referring to code 753:  327\n"
     ]
    }
   ],
   "source": [
    "print(\"Number of different codes:\", n_codes)\n",
    "\n",
    "print(\"Index referring to code 753: \", diag_code2index['753'])"
   ]
  },
  {
   "cell_type": "code",
   "execution_count": 50,
   "id": "7d388054",
   "metadata": {},
   "outputs": [],
   "source": [
    "# creating matrixes and a vector for the co_occurence\n",
    "\n",
    "co_occurrence = np.zeros((n_codes, n_codes))\n",
    "frequencies = np.zeros((n_codes))"
   ]
  },
  {
   "cell_type": "code",
   "execution_count": 51,
   "id": "e6e1be28",
   "metadata": {},
   "outputs": [],
   "source": [
    "# since we have already dealt with missing values, we will straight add the codes to the vector\n",
    "\n",
    "for index, row in data_prepared.iterrows():\n",
    "    diag_codes_for_row = []\n",
    "    \n",
    "    # Append individual diagnosis codes for the current row\n",
    "    diag_codes_for_row.append(row[\"diag_1\"])\n",
    "    diag_codes_for_row.append(row[\"diag_2\"])\n",
    "    diag_codes_for_row.append(row[\"diag_3\"])\n",
    "\n",
    "    for j1 in range(len(diag_codes_for_row)):\n",
    "        code1 = diag_code2index[diag_codes_for_row[j1]]\n",
    "        co_occurrence[code1][code1] += 1\n",
    "        frequencies[code1] += 1\n",
    "\n",
    "        for j2 in range(j1+1, len(diag_codes_for_row)):\n",
    "            code2 = diag_code2index[diag_codes_for_row[j2]]\n",
    "            co_occurrence[code1][code2] += 1\n",
    "            co_occurrence[code2][code1] += 1\n",
    "\n",
    "# We want the co_occurrence to be a probability space (sum to one each row)\n",
    "co_occurrence = co_occurrence / np.sum(co_occurrence, axis=1, keepdims=True)"
   ]
  },
  {
   "cell_type": "code",
   "execution_count": 52,
   "id": "c1934334",
   "metadata": {},
   "outputs": [
    {
     "data": {
      "text/plain": [
       "(838, 838)"
      ]
     },
     "execution_count": 52,
     "metadata": {},
     "output_type": "execute_result"
    }
   ],
   "source": [
    "co_occurrence.shape"
   ]
  },
  {
   "cell_type": "markdown",
   "id": "a79613c3",
   "metadata": {},
   "source": [
    "Now we'll apply PCA to the co_occurence matrix"
   ]
  },
  {
   "cell_type": "code",
   "execution_count": 53,
   "id": "755989d2",
   "metadata": {},
   "outputs": [
    {
     "data": {
      "image/png": "[encoded data removed]",
      "text/plain": [
       "<Figure size 800x400 with 1 Axes>"
      ]
     },
     "metadata": {},
     "output_type": "display_data"
    }
   ],
   "source": [
    "pca = PCA()\n",
    "pca.fit(co_occurrence)\n",
    "cumulative_explained_variance_ratio = np.cumsum(pca.explained_variance_ratio_)\n",
    "plt.plot(cumulative_explained_variance_ratio)\n",
    "\n",
    "fig = plt.gcf()\n",
    "fig.set_size_inches(8, 4)\n",
    "plt.show()"
   ]
  },
  {
   "cell_type": "markdown",
   "id": "6d6bcfa9",
   "metadata": {},
   "source": [
    "It looks like 80% of the data is explained by around half of the components, so we will use that. But what is the number exacly?"
   ]
  },
  {
   "cell_type": "code",
   "execution_count": 54,
   "id": "a212d3a4",
   "metadata": {},
   "outputs": [
    {
     "data": {
      "text/plain": [
       "425"
      ]
     },
     "execution_count": 54,
     "metadata": {},
     "output_type": "execute_result"
    }
   ],
   "source": [
    "num_components_for_80_percent = np.argmax(cumulative_explained_variance_ratio >= 0.8) + 1  # +1 because indices are 0-based\n",
    "\n",
    "num_components_for_80_percent"
   ]
  },
  {
   "cell_type": "markdown",
   "id": "d0dd8eba",
   "metadata": {},
   "source": [
    "So lets run PCA with that number of components"
   ]
  },
  {
   "cell_type": "code",
   "execution_count": 55,
   "id": "b145bb71",
   "metadata": {},
   "outputs": [],
   "source": [
    "pca = PCA(n_components=457)\n",
    "pca.fit(co_occurrence)\n",
    "\n",
    "# Transform the co_occurrence matrix into a reduced dimensionality form\n",
    "reduced_co_occurrence = pca.transform(co_occurrence)"
   ]
  },
  {
   "cell_type": "code",
   "execution_count": 56,
   "id": "344ca4f5",
   "metadata": {},
   "outputs": [
    {
     "data": {
      "text/plain": [
       "array([[-0.110383  ,  0.01847364, -0.0263639 , ..., -0.00070254,\n",
       "        -0.00055542, -0.00394331],\n",
       "       [ 0.07062265, -0.01557417, -0.02170529, ...,  0.0004071 ,\n",
       "        -0.03314875,  0.00302369],\n",
       "       [-0.06712331, -0.01395516, -0.02483872, ...,  0.00172115,\n",
       "        -0.02742369,  0.00208328],\n",
       "       ...,\n",
       "       [-0.04390367, -0.01072494,  0.0286411 , ...,  0.02342634,\n",
       "        -0.00722665, -0.01789018],\n",
       "       [ 0.0498976 ,  0.33536998,  0.02962971, ..., -0.00371576,\n",
       "         0.00264604, -0.01310918],\n",
       "       [ 0.05949644, -0.02817494, -0.05920639, ...,  0.00178513,\n",
       "         0.00138441, -0.00200902]])"
      ]
     },
     "execution_count": 56,
     "metadata": {},
     "output_type": "execute_result"
    }
   ],
   "source": [
    "reduced_co_occurrence"
   ]
  },
  {
   "cell_type": "markdown",
   "id": "c39b69c7",
   "metadata": {},
   "source": [
    "We will take the average out of the components for each row of the dataset"
   ]
  },
  {
   "cell_type": "code",
   "execution_count": 57,
   "id": "903f8a78",
   "metadata": {},
   "outputs": [],
   "source": [
    "# Function to get the components for a diagnosis code\n",
    "def get_components(diagnosis_code):\n",
    "    \n",
    "    # Assuming diag_code2index is a dictionary mapping diagnosis codes to indices\n",
    "    diag_index = diag_code2index.get(diagnosis_code)\n",
    "\n",
    "    if diag_index is not None:\n",
    "        return reduced_co_occurrence[diag_index]\n",
    "    \n",
    "    else:\n",
    "        # Handle cases where the diagnosis code is not found in the matrix\n",
    "        return np.zeros(reduced_co_occurrence.shape[1])  # Return zeros as placeholders"
   ]
  },
  {
   "cell_type": "markdown",
   "id": "488dad13",
   "metadata": {},
   "source": [
    "We will apply that function to each diag column and take the average for each row"
   ]
  },
  {
   "cell_type": "code",
   "execution_count": 58,
   "id": "5e0d049d",
   "metadata": {},
   "outputs": [],
   "source": [
    "# List to store the average components for each row\n",
    "average_components_list = []\n",
    "\n",
    "# Iterate over each row in the DataFrame\n",
    "for index, row in data_prepared.iterrows():\n",
    "    \n",
    "    # Get the components for each diagnosis code\n",
    "    diag1_components = get_components(row[\"diag_1\"])\n",
    "    diag2_components = get_components(row[\"diag_2\"])\n",
    "    diag3_components = get_components(row[\"diag_3\"])\n",
    "    \n",
    "    # Compute the average components for the row\n",
    "    average_components = (diag1_components + diag2_components + diag3_components) / 3.0\n",
    "    \n",
    "        # Compute the average components for the row\n",
    "    average_components = (diag1_components + diag2_components + diag3_components) / 3.0\n",
    "    \n",
    "    # Append the average components to the list\n",
    "    average_components_list.append(average_components)"
   ]
  },
  {
   "cell_type": "markdown",
   "id": "57047c55",
   "metadata": {},
   "source": [
    "Adding the average components to the original dataframe"
   ]
  },
  {
   "cell_type": "code",
   "execution_count": 59,
   "id": "684d07d3",
   "metadata": {},
   "outputs": [
    {
     "name": "stderr",
     "output_type": "stream",
     "text": [
      "/var/folders/ns/2fdd2j7x5p3dcwpx64zbmjlm0000gn/T/ipykernel_89409/4048641647.py:6: PerformanceWarning: DataFrame is highly fragmented.  This is usually the result of calling `frame.insert` many times, which has poor performance.  Consider joining all columns at once using pd.concat(axis=1) instead. To get a de-fragmented frame, use `newframe = frame.copy()`\n",
      "  data_prepared[f\"avg_component_{i+1}\"] = average_components_array[:, i]\n",
      "/var/folders/ns/2fdd2j7x5p3dcwpx64zbmjlm0000gn/T/ipykernel_89409/4048641647.py:6: PerformanceWarning: DataFrame is highly fragmented.  This is usually the result of calling `frame.insert` many times, which has poor performance.  Consider joining all columns at once using pd.concat(axis=1) instead. To get a de-fragmented frame, use `newframe = frame.copy()`\n",
      "  data_prepared[f\"avg_component_{i+1}\"] = average_components_array[:, i]\n",
      "/var/folders/ns/2fdd2j7x5p3dcwpx64zbmjlm0000gn/T/ipykernel_89409/4048641647.py:6: PerformanceWarning: DataFrame is highly fragmented.  This is usually the result of calling `frame.insert` many times, which has poor performance.  Consider joining all columns at once using pd.concat(axis=1) instead. To get a de-fragmented frame, use `newframe = frame.copy()`\n",
      "  data_prepared[f\"avg_component_{i+1}\"] = average_components_array[:, i]\n",
      "/var/folders/ns/2fdd2j7x5p3dcwpx64zbmjlm0000gn/T/ipykernel_89409/4048641647.py:6: PerformanceWarning: DataFrame is highly fragmented.  This is usually the result of calling `frame.insert` many times, which has poor performance.  Consider joining all columns at once using pd.concat(axis=1) instead. To get a de-fragmented frame, use `newframe = frame.copy()`\n",
      "  data_prepared[f\"avg_component_{i+1}\"] = average_components_array[:, i]\n",
      "/var/folders/ns/2fdd2j7x5p3dcwpx64zbmjlm0000gn/T/ipykernel_89409/4048641647.py:6: PerformanceWarning: DataFrame is highly fragmented.  This is usually the result of calling `frame.insert` many times, which has poor performance.  Consider joining all columns at once using pd.concat(axis=1) instead. To get a de-fragmented frame, use `newframe = frame.copy()`\n",
      "  data_prepared[f\"avg_component_{i+1}\"] = average_components_array[:, i]\n",
      "/var/folders/ns/2fdd2j7x5p3dcwpx64zbmjlm0000gn/T/ipykernel_89409/4048641647.py:6: PerformanceWarning: DataFrame is highly fragmented.  This is usually the result of calling `frame.insert` many times, which has poor performance.  Consider joining all columns at once using pd.concat(axis=1) instead. To get a de-fragmented frame, use `newframe = frame.copy()`\n",
      "  data_prepared[f\"avg_component_{i+1}\"] = average_components_array[:, i]\n",
      "/var/folders/ns/2fdd2j7x5p3dcwpx64zbmjlm0000gn/T/ipykernel_89409/4048641647.py:6: PerformanceWarning: DataFrame is highly fragmented.  This is usually the result of calling `frame.insert` many times, which has poor performance.  Consider joining all columns at once using pd.concat(axis=1) instead. To get a de-fragmented frame, use `newframe = frame.copy()`\n",
      "  data_prepared[f\"avg_component_{i+1}\"] = average_components_array[:, i]\n",
      "/var/folders/ns/2fdd2j7x5p3dcwpx64zbmjlm0000gn/T/ipykernel_89409/4048641647.py:6: PerformanceWarning: DataFrame is highly fragmented.  This is usually the result of calling `frame.insert` many times, which has poor performance.  Consider joining all columns at once using pd.concat(axis=1) instead. To get a de-fragmented frame, use `newframe = frame.copy()`\n",
      "  data_prepared[f\"avg_component_{i+1}\"] = average_components_array[:, i]\n",
      "/var/folders/ns/2fdd2j7x5p3dcwpx64zbmjlm0000gn/T/ipykernel_89409/4048641647.py:6: PerformanceWarning: DataFrame is highly fragmented.  This is usually the result of calling `frame.insert` many times, which has poor performance.  Consider joining all columns at once using pd.concat(axis=1) instead. To get a de-fragmented frame, use `newframe = frame.copy()`\n",
      "  data_prepared[f\"avg_component_{i+1}\"] = average_components_array[:, i]\n",
      "/var/folders/ns/2fdd2j7x5p3dcwpx64zbmjlm0000gn/T/ipykernel_89409/4048641647.py:6: PerformanceWarning: DataFrame is highly fragmented.  This is usually the result of calling `frame.insert` many times, which has poor performance.  Consider joining all columns at once using pd.concat(axis=1) instead. To get a de-fragmented frame, use `newframe = frame.copy()`\n",
      "  data_prepared[f\"avg_component_{i+1}\"] = average_components_array[:, i]\n",
      "/var/folders/ns/2fdd2j7x5p3dcwpx64zbmjlm0000gn/T/ipykernel_89409/4048641647.py:6: PerformanceWarning: DataFrame is highly fragmented.  This is usually the result of calling `frame.insert` many times, which has poor performance.  Consider joining all columns at once using pd.concat(axis=1) instead. To get a de-fragmented frame, use `newframe = frame.copy()`\n",
      "  data_prepared[f\"avg_component_{i+1}\"] = average_components_array[:, i]\n",
      "/var/folders/ns/2fdd2j7x5p3dcwpx64zbmjlm0000gn/T/ipykernel_89409/4048641647.py:6: PerformanceWarning: DataFrame is highly fragmented.  This is usually the result of calling `frame.insert` many times, which has poor performance.  Consider joining all columns at once using pd.concat(axis=1) instead. To get a de-fragmented frame, use `newframe = frame.copy()`\n",
      "  data_prepared[f\"avg_component_{i+1}\"] = average_components_array[:, i]\n",
      "/var/folders/ns/2fdd2j7x5p3dcwpx64zbmjlm0000gn/T/ipykernel_89409/4048641647.py:6: PerformanceWarning: DataFrame is highly fragmented.  This is usually the result of calling `frame.insert` many times, which has poor performance.  Consider joining all columns at once using pd.concat(axis=1) instead. To get a de-fragmented frame, use `newframe = frame.copy()`\n",
      "  data_prepared[f\"avg_component_{i+1}\"] = average_components_array[:, i]\n",
      "/var/folders/ns/2fdd2j7x5p3dcwpx64zbmjlm0000gn/T/ipykernel_89409/4048641647.py:6: PerformanceWarning: DataFrame is highly fragmented.  This is usually the result of calling `frame.insert` many times, which has poor performance.  Consider joining all columns at once using pd.concat(axis=1) instead. To get a de-fragmented frame, use `newframe = frame.copy()`\n",
      "  data_prepared[f\"avg_component_{i+1}\"] = average_components_array[:, i]\n",
      "/var/folders/ns/2fdd2j7x5p3dcwpx64zbmjlm0000gn/T/ipykernel_89409/4048641647.py:6: PerformanceWarning: DataFrame is highly fragmented.  This is usually the result of calling `frame.insert` many times, which has poor performance.  Consider joining all columns at once using pd.concat(axis=1) instead. To get a de-fragmented frame, use `newframe = frame.copy()`\n",
      "  data_prepared[f\"avg_component_{i+1}\"] = average_components_array[:, i]\n",
      "/var/folders/ns/2fdd2j7x5p3dcwpx64zbmjlm0000gn/T/ipykernel_89409/4048641647.py:6: PerformanceWarning: DataFrame is highly fragmented.  This is usually the result of calling `frame.insert` many times, which has poor performance.  Consider joining all columns at once using pd.concat(axis=1) instead. To get a de-fragmented frame, use `newframe = frame.copy()`\n",
      "  data_prepared[f\"avg_component_{i+1}\"] = average_components_array[:, i]\n",
      "/var/folders/ns/2fdd2j7x5p3dcwpx64zbmjlm0000gn/T/ipykernel_89409/4048641647.py:6: PerformanceWarning: DataFrame is highly fragmented.  This is usually the result of calling `frame.insert` many times, which has poor performance.  Consider joining all columns at once using pd.concat(axis=1) instead. To get a de-fragmented frame, use `newframe = frame.copy()`\n",
      "  data_prepared[f\"avg_component_{i+1}\"] = average_components_array[:, i]\n",
      "/var/folders/ns/2fdd2j7x5p3dcwpx64zbmjlm0000gn/T/ipykernel_89409/4048641647.py:6: PerformanceWarning: DataFrame is highly fragmented.  This is usually the result of calling `frame.insert` many times, which has poor performance.  Consider joining all columns at once using pd.concat(axis=1) instead. To get a de-fragmented frame, use `newframe = frame.copy()`\n",
      "  data_prepared[f\"avg_component_{i+1}\"] = average_components_array[:, i]\n",
      "/var/folders/ns/2fdd2j7x5p3dcwpx64zbmjlm0000gn/T/ipykernel_89409/4048641647.py:6: PerformanceWarning: DataFrame is highly fragmented.  This is usually the result of calling `frame.insert` many times, which has poor performance.  Consider joining all columns at once using pd.concat(axis=1) instead. To get a de-fragmented frame, use `newframe = frame.copy()`\n",
      "  data_prepared[f\"avg_component_{i+1}\"] = average_components_array[:, i]\n",
      "/var/folders/ns/2fdd2j7x5p3dcwpx64zbmjlm0000gn/T/ipykernel_89409/4048641647.py:6: PerformanceWarning: DataFrame is highly fragmented.  This is usually the result of calling `frame.insert` many times, which has poor performance.  Consider joining all columns at once using pd.concat(axis=1) instead. To get a de-fragmented frame, use `newframe = frame.copy()`\n",
      "  data_prepared[f\"avg_component_{i+1}\"] = average_components_array[:, i]\n",
      "/var/folders/ns/2fdd2j7x5p3dcwpx64zbmjlm0000gn/T/ipykernel_89409/4048641647.py:6: PerformanceWarning: DataFrame is highly fragmented.  This is usually the result of calling `frame.insert` many times, which has poor performance.  Consider joining all columns at once using pd.concat(axis=1) instead. To get a de-fragmented frame, use `newframe = frame.copy()`\n",
      "  data_prepared[f\"avg_component_{i+1}\"] = average_components_array[:, i]\n",
      "/var/folders/ns/2fdd2j7x5p3dcwpx64zbmjlm0000gn/T/ipykernel_89409/4048641647.py:6: PerformanceWarning: DataFrame is highly fragmented.  This is usually the result of calling `frame.insert` many times, which has poor performance.  Consider joining all columns at once using pd.concat(axis=1) instead. To get a de-fragmented frame, use `newframe = frame.copy()`\n",
      "  data_prepared[f\"avg_component_{i+1}\"] = average_components_array[:, i]\n",
      "/var/folders/ns/2fdd2j7x5p3dcwpx64zbmjlm0000gn/T/ipykernel_89409/4048641647.py:6: PerformanceWarning: DataFrame is highly fragmented.  This is usually the result of calling `frame.insert` many times, which has poor performance.  Consider joining all columns at once using pd.concat(axis=1) instead. To get a de-fragmented frame, use `newframe = frame.copy()`\n",
      "  data_prepared[f\"avg_component_{i+1}\"] = average_components_array[:, i]\n",
      "/var/folders/ns/2fdd2j7x5p3dcwpx64zbmjlm0000gn/T/ipykernel_89409/4048641647.py:6: PerformanceWarning: DataFrame is highly fragmented.  This is usually the result of calling `frame.insert` many times, which has poor performance.  Consider joining all columns at once using pd.concat(axis=1) instead. To get a de-fragmented frame, use `newframe = frame.copy()`\n",
      "  data_prepared[f\"avg_component_{i+1}\"] = average_components_array[:, i]\n",
      "/var/folders/ns/2fdd2j7x5p3dcwpx64zbmjlm0000gn/T/ipykernel_89409/4048641647.py:6: PerformanceWarning: DataFrame is highly fragmented.  This is usually the result of calling `frame.insert` many times, which has poor performance.  Consider joining all columns at once using pd.concat(axis=1) instead. To get a de-fragmented frame, use `newframe = frame.copy()`\n",
      "  data_prepared[f\"avg_component_{i+1}\"] = average_components_array[:, i]\n",
      "/var/folders/ns/2fdd2j7x5p3dcwpx64zbmjlm0000gn/T/ipykernel_89409/4048641647.py:6: PerformanceWarning: DataFrame is highly fragmented.  This is usually the result of calling `frame.insert` many times, which has poor performance.  Consider joining all columns at once using pd.concat(axis=1) instead. To get a de-fragmented frame, use `newframe = frame.copy()`\n",
      "  data_prepared[f\"avg_component_{i+1}\"] = average_components_array[:, i]\n",
      "/var/folders/ns/2fdd2j7x5p3dcwpx64zbmjlm0000gn/T/ipykernel_89409/4048641647.py:6: PerformanceWarning: DataFrame is highly fragmented.  This is usually the result of calling `frame.insert` many times, which has poor performance.  Consider joining all columns at once using pd.concat(axis=1) instead. To get a de-fragmented frame, use `newframe = frame.copy()`\n",
      "  data_prepared[f\"avg_component_{i+1}\"] = average_components_array[:, i]\n",
      "/var/folders/ns/2fdd2j7x5p3dcwpx64zbmjlm0000gn/T/ipykernel_89409/4048641647.py:6: PerformanceWarning: DataFrame is highly fragmented.  This is usually the result of calling `frame.insert` many times, which has poor performance.  Consider joining all columns at once using pd.concat(axis=1) instead. To get a de-fragmented frame, use `newframe = frame.copy()`\n",
      "  data_prepared[f\"avg_component_{i+1}\"] = average_components_array[:, i]\n",
      "/var/folders/ns/2fdd2j7x5p3dcwpx64zbmjlm0000gn/T/ipykernel_89409/4048641647.py:6: PerformanceWarning: DataFrame is highly fragmented.  This is usually the result of calling `frame.insert` many times, which has poor performance.  Consider joining all columns at once using pd.concat(axis=1) instead. To get a de-fragmented frame, use `newframe = frame.copy()`\n",
      "  data_prepared[f\"avg_component_{i+1}\"] = average_components_array[:, i]\n",
      "/var/folders/ns/2fdd2j7x5p3dcwpx64zbmjlm0000gn/T/ipykernel_89409/4048641647.py:6: PerformanceWarning: DataFrame is highly fragmented.  This is usually the result of calling `frame.insert` many times, which has poor performance.  Consider joining all columns at once using pd.concat(axis=1) instead. To get a de-fragmented frame, use `newframe = frame.copy()`\n",
      "  data_prepared[f\"avg_component_{i+1}\"] = average_components_array[:, i]\n",
      "/var/folders/ns/2fdd2j7x5p3dcwpx64zbmjlm0000gn/T/ipykernel_89409/4048641647.py:6: PerformanceWarning: DataFrame is highly fragmented.  This is usually the result of calling `frame.insert` many times, which has poor performance.  Consider joining all columns at once using pd.concat(axis=1) instead. To get a de-fragmented frame, use `newframe = frame.copy()`\n",
      "  data_prepared[f\"avg_component_{i+1}\"] = average_components_array[:, i]\n",
      "/var/folders/ns/2fdd2j7x5p3dcwpx64zbmjlm0000gn/T/ipykernel_89409/4048641647.py:6: PerformanceWarning: DataFrame is highly fragmented.  This is usually the result of calling `frame.insert` many times, which has poor performance.  Consider joining all columns at once using pd.concat(axis=1) instead. To get a de-fragmented frame, use `newframe = frame.copy()`\n",
      "  data_prepared[f\"avg_component_{i+1}\"] = average_components_array[:, i]\n",
      "/var/folders/ns/2fdd2j7x5p3dcwpx64zbmjlm0000gn/T/ipykernel_89409/4048641647.py:6: PerformanceWarning: DataFrame is highly fragmented.  This is usually the result of calling `frame.insert` many times, which has poor performance.  Consider joining all columns at once using pd.concat(axis=1) instead. To get a de-fragmented frame, use `newframe = frame.copy()`\n",
      "  data_prepared[f\"avg_component_{i+1}\"] = average_components_array[:, i]\n",
      "/var/folders/ns/2fdd2j7x5p3dcwpx64zbmjlm0000gn/T/ipykernel_89409/4048641647.py:6: PerformanceWarning: DataFrame is highly fragmented.  This is usually the result of calling `frame.insert` many times, which has poor performance.  Consider joining all columns at once using pd.concat(axis=1) instead. To get a de-fragmented frame, use `newframe = frame.copy()`\n",
      "  data_prepared[f\"avg_component_{i+1}\"] = average_components_array[:, i]\n",
      "/var/folders/ns/2fdd2j7x5p3dcwpx64zbmjlm0000gn/T/ipykernel_89409/4048641647.py:6: PerformanceWarning: DataFrame is highly fragmented.  This is usually the result of calling `frame.insert` many times, which has poor performance.  Consider joining all columns at once using pd.concat(axis=1) instead. To get a de-fragmented frame, use `newframe = frame.copy()`\n",
      "  data_prepared[f\"avg_component_{i+1}\"] = average_components_array[:, i]\n",
      "/var/folders/ns/2fdd2j7x5p3dcwpx64zbmjlm0000gn/T/ipykernel_89409/4048641647.py:6: PerformanceWarning: DataFrame is highly fragmented.  This is usually the result of calling `frame.insert` many times, which has poor performance.  Consider joining all columns at once using pd.concat(axis=1) instead. To get a de-fragmented frame, use `newframe = frame.copy()`\n",
      "  data_prepared[f\"avg_component_{i+1}\"] = average_components_array[:, i]\n",
      "/var/folders/ns/2fdd2j7x5p3dcwpx64zbmjlm0000gn/T/ipykernel_89409/4048641647.py:6: PerformanceWarning: DataFrame is highly fragmented.  This is usually the result of calling `frame.insert` many times, which has poor performance.  Consider joining all columns at once using pd.concat(axis=1) instead. To get a de-fragmented frame, use `newframe = frame.copy()`\n",
      "  data_prepared[f\"avg_component_{i+1}\"] = average_components_array[:, i]\n",
      "/var/folders/ns/2fdd2j7x5p3dcwpx64zbmjlm0000gn/T/ipykernel_89409/4048641647.py:6: PerformanceWarning: DataFrame is highly fragmented.  This is usually the result of calling `frame.insert` many times, which has poor performance.  Consider joining all columns at once using pd.concat(axis=1) instead. To get a de-fragmented frame, use `newframe = frame.copy()`\n",
      "  data_prepared[f\"avg_component_{i+1}\"] = average_components_array[:, i]\n",
      "/var/folders/ns/2fdd2j7x5p3dcwpx64zbmjlm0000gn/T/ipykernel_89409/4048641647.py:6: PerformanceWarning: DataFrame is highly fragmented.  This is usually the result of calling `frame.insert` many times, which has poor performance.  Consider joining all columns at once using pd.concat(axis=1) instead. To get a de-fragmented frame, use `newframe = frame.copy()`\n",
      "  data_prepared[f\"avg_component_{i+1}\"] = average_components_array[:, i]\n",
      "/var/folders/ns/2fdd2j7x5p3dcwpx64zbmjlm0000gn/T/ipykernel_89409/4048641647.py:6: PerformanceWarning: DataFrame is highly fragmented.  This is usually the result of calling `frame.insert` many times, which has poor performance.  Consider joining all columns at once using pd.concat(axis=1) instead. To get a de-fragmented frame, use `newframe = frame.copy()`\n",
      "  data_prepared[f\"avg_component_{i+1}\"] = average_components_array[:, i]\n",
      "/var/folders/ns/2fdd2j7x5p3dcwpx64zbmjlm0000gn/T/ipykernel_89409/4048641647.py:6: PerformanceWarning: DataFrame is highly fragmented.  This is usually the result of calling `frame.insert` many times, which has poor performance.  Consider joining all columns at once using pd.concat(axis=1) instead. To get a de-fragmented frame, use `newframe = frame.copy()`\n",
      "  data_prepared[f\"avg_component_{i+1}\"] = average_components_array[:, i]\n",
      "/var/folders/ns/2fdd2j7x5p3dcwpx64zbmjlm0000gn/T/ipykernel_89409/4048641647.py:6: PerformanceWarning: DataFrame is highly fragmented.  This is usually the result of calling `frame.insert` many times, which has poor performance.  Consider joining all columns at once using pd.concat(axis=1) instead. To get a de-fragmented frame, use `newframe = frame.copy()`\n",
      "  data_prepared[f\"avg_component_{i+1}\"] = average_components_array[:, i]\n",
      "/var/folders/ns/2fdd2j7x5p3dcwpx64zbmjlm0000gn/T/ipykernel_89409/4048641647.py:6: PerformanceWarning: DataFrame is highly fragmented.  This is usually the result of calling `frame.insert` many times, which has poor performance.  Consider joining all columns at once using pd.concat(axis=1) instead. To get a de-fragmented frame, use `newframe = frame.copy()`\n",
      "  data_prepared[f\"avg_component_{i+1}\"] = average_components_array[:, i]\n",
      "/var/folders/ns/2fdd2j7x5p3dcwpx64zbmjlm0000gn/T/ipykernel_89409/4048641647.py:6: PerformanceWarning: DataFrame is highly fragmented.  This is usually the result of calling `frame.insert` many times, which has poor performance.  Consider joining all columns at once using pd.concat(axis=1) instead. To get a de-fragmented frame, use `newframe = frame.copy()`\n",
      "  data_prepared[f\"avg_component_{i+1}\"] = average_components_array[:, i]\n",
      "/var/folders/ns/2fdd2j7x5p3dcwpx64zbmjlm0000gn/T/ipykernel_89409/4048641647.py:6: PerformanceWarning: DataFrame is highly fragmented.  This is usually the result of calling `frame.insert` many times, which has poor performance.  Consider joining all columns at once using pd.concat(axis=1) instead. To get a de-fragmented frame, use `newframe = frame.copy()`\n",
      "  data_prepared[f\"avg_component_{i+1}\"] = average_components_array[:, i]\n",
      "/var/folders/ns/2fdd2j7x5p3dcwpx64zbmjlm0000gn/T/ipykernel_89409/4048641647.py:6: PerformanceWarning: DataFrame is highly fragmented.  This is usually the result of calling `frame.insert` many times, which has poor performance.  Consider joining all columns at once using pd.concat(axis=1) instead. To get a de-fragmented frame, use `newframe = frame.copy()`\n",
      "  data_prepared[f\"avg_component_{i+1}\"] = average_components_array[:, i]\n",
      "/var/folders/ns/2fdd2j7x5p3dcwpx64zbmjlm0000gn/T/ipykernel_89409/4048641647.py:6: PerformanceWarning: DataFrame is highly fragmented.  This is usually the result of calling `frame.insert` many times, which has poor performance.  Consider joining all columns at once using pd.concat(axis=1) instead. To get a de-fragmented frame, use `newframe = frame.copy()`\n",
      "  data_prepared[f\"avg_component_{i+1}\"] = average_components_array[:, i]\n",
      "/var/folders/ns/2fdd2j7x5p3dcwpx64zbmjlm0000gn/T/ipykernel_89409/4048641647.py:6: PerformanceWarning: DataFrame is highly fragmented.  This is usually the result of calling `frame.insert` many times, which has poor performance.  Consider joining all columns at once using pd.concat(axis=1) instead. To get a de-fragmented frame, use `newframe = frame.copy()`\n",
      "  data_prepared[f\"avg_component_{i+1}\"] = average_components_array[:, i]\n",
      "/var/folders/ns/2fdd2j7x5p3dcwpx64zbmjlm0000gn/T/ipykernel_89409/4048641647.py:6: PerformanceWarning: DataFrame is highly fragmented.  This is usually the result of calling `frame.insert` many times, which has poor performance.  Consider joining all columns at once using pd.concat(axis=1) instead. To get a de-fragmented frame, use `newframe = frame.copy()`\n",
      "  data_prepared[f\"avg_component_{i+1}\"] = average_components_array[:, i]\n",
      "/var/folders/ns/2fdd2j7x5p3dcwpx64zbmjlm0000gn/T/ipykernel_89409/4048641647.py:6: PerformanceWarning: DataFrame is highly fragmented.  This is usually the result of calling `frame.insert` many times, which has poor performance.  Consider joining all columns at once using pd.concat(axis=1) instead. To get a de-fragmented frame, use `newframe = frame.copy()`\n",
      "  data_prepared[f\"avg_component_{i+1}\"] = average_components_array[:, i]\n",
      "/var/folders/ns/2fdd2j7x5p3dcwpx64zbmjlm0000gn/T/ipykernel_89409/4048641647.py:6: PerformanceWarning: DataFrame is highly fragmented.  This is usually the result of calling `frame.insert` many times, which has poor performance.  Consider joining all columns at once using pd.concat(axis=1) instead. To get a de-fragmented frame, use `newframe = frame.copy()`\n",
      "  data_prepared[f\"avg_component_{i+1}\"] = average_components_array[:, i]\n",
      "/var/folders/ns/2fdd2j7x5p3dcwpx64zbmjlm0000gn/T/ipykernel_89409/4048641647.py:6: PerformanceWarning: DataFrame is highly fragmented.  This is usually the result of calling `frame.insert` many times, which has poor performance.  Consider joining all columns at once using pd.concat(axis=1) instead. To get a de-fragmented frame, use `newframe = frame.copy()`\n",
      "  data_prepared[f\"avg_component_{i+1}\"] = average_components_array[:, i]\n",
      "/var/folders/ns/2fdd2j7x5p3dcwpx64zbmjlm0000gn/T/ipykernel_89409/4048641647.py:6: PerformanceWarning: DataFrame is highly fragmented.  This is usually the result of calling `frame.insert` many times, which has poor performance.  Consider joining all columns at once using pd.concat(axis=1) instead. To get a de-fragmented frame, use `newframe = frame.copy()`\n",
      "  data_prepared[f\"avg_component_{i+1}\"] = average_components_array[:, i]\n",
      "/var/folders/ns/2fdd2j7x5p3dcwpx64zbmjlm0000gn/T/ipykernel_89409/4048641647.py:6: PerformanceWarning: DataFrame is highly fragmented.  This is usually the result of calling `frame.insert` many times, which has poor performance.  Consider joining all columns at once using pd.concat(axis=1) instead. To get a de-fragmented frame, use `newframe = frame.copy()`\n",
      "  data_prepared[f\"avg_component_{i+1}\"] = average_components_array[:, i]\n",
      "/var/folders/ns/2fdd2j7x5p3dcwpx64zbmjlm0000gn/T/ipykernel_89409/4048641647.py:6: PerformanceWarning: DataFrame is highly fragmented.  This is usually the result of calling `frame.insert` many times, which has poor performance.  Consider joining all columns at once using pd.concat(axis=1) instead. To get a de-fragmented frame, use `newframe = frame.copy()`\n",
      "  data_prepared[f\"avg_component_{i+1}\"] = average_components_array[:, i]\n",
      "/var/folders/ns/2fdd2j7x5p3dcwpx64zbmjlm0000gn/T/ipykernel_89409/4048641647.py:6: PerformanceWarning: DataFrame is highly fragmented.  This is usually the result of calling `frame.insert` many times, which has poor performance.  Consider joining all columns at once using pd.concat(axis=1) instead. To get a de-fragmented frame, use `newframe = frame.copy()`\n",
      "  data_prepared[f\"avg_component_{i+1}\"] = average_components_array[:, i]\n",
      "/var/folders/ns/2fdd2j7x5p3dcwpx64zbmjlm0000gn/T/ipykernel_89409/4048641647.py:6: PerformanceWarning: DataFrame is highly fragmented.  This is usually the result of calling `frame.insert` many times, which has poor performance.  Consider joining all columns at once using pd.concat(axis=1) instead. To get a de-fragmented frame, use `newframe = frame.copy()`\n",
      "  data_prepared[f\"avg_component_{i+1}\"] = average_components_array[:, i]\n",
      "/var/folders/ns/2fdd2j7x5p3dcwpx64zbmjlm0000gn/T/ipykernel_89409/4048641647.py:6: PerformanceWarning: DataFrame is highly fragmented.  This is usually the result of calling `frame.insert` many times, which has poor performance.  Consider joining all columns at once using pd.concat(axis=1) instead. To get a de-fragmented frame, use `newframe = frame.copy()`\n",
      "  data_prepared[f\"avg_component_{i+1}\"] = average_components_array[:, i]\n",
      "/var/folders/ns/2fdd2j7x5p3dcwpx64zbmjlm0000gn/T/ipykernel_89409/4048641647.py:6: PerformanceWarning: DataFrame is highly fragmented.  This is usually the result of calling `frame.insert` many times, which has poor performance.  Consider joining all columns at once using pd.concat(axis=1) instead. To get a de-fragmented frame, use `newframe = frame.copy()`\n",
      "  data_prepared[f\"avg_component_{i+1}\"] = average_components_array[:, i]\n",
      "/var/folders/ns/2fdd2j7x5p3dcwpx64zbmjlm0000gn/T/ipykernel_89409/4048641647.py:6: PerformanceWarning: DataFrame is highly fragmented.  This is usually the result of calling `frame.insert` many times, which has poor performance.  Consider joining all columns at once using pd.concat(axis=1) instead. To get a de-fragmented frame, use `newframe = frame.copy()`\n",
      "  data_prepared[f\"avg_component_{i+1}\"] = average_components_array[:, i]\n",
      "/var/folders/ns/2fdd2j7x5p3dcwpx64zbmjlm0000gn/T/ipykernel_89409/4048641647.py:6: PerformanceWarning: DataFrame is highly fragmented.  This is usually the result of calling `frame.insert` many times, which has poor performance.  Consider joining all columns at once using pd.concat(axis=1) instead. To get a de-fragmented frame, use `newframe = frame.copy()`\n",
      "  data_prepared[f\"avg_component_{i+1}\"] = average_components_array[:, i]\n",
      "/var/folders/ns/2fdd2j7x5p3dcwpx64zbmjlm0000gn/T/ipykernel_89409/4048641647.py:6: PerformanceWarning: DataFrame is highly fragmented.  This is usually the result of calling `frame.insert` many times, which has poor performance.  Consider joining all columns at once using pd.concat(axis=1) instead. To get a de-fragmented frame, use `newframe = frame.copy()`\n",
      "  data_prepared[f\"avg_component_{i+1}\"] = average_components_array[:, i]\n",
      "/var/folders/ns/2fdd2j7x5p3dcwpx64zbmjlm0000gn/T/ipykernel_89409/4048641647.py:6: PerformanceWarning: DataFrame is highly fragmented.  This is usually the result of calling `frame.insert` many times, which has poor performance.  Consider joining all columns at once using pd.concat(axis=1) instead. To get a de-fragmented frame, use `newframe = frame.copy()`\n",
      "  data_prepared[f\"avg_component_{i+1}\"] = average_components_array[:, i]\n",
      "/var/folders/ns/2fdd2j7x5p3dcwpx64zbmjlm0000gn/T/ipykernel_89409/4048641647.py:6: PerformanceWarning: DataFrame is highly fragmented.  This is usually the result of calling `frame.insert` many times, which has poor performance.  Consider joining all columns at once using pd.concat(axis=1) instead. To get a de-fragmented frame, use `newframe = frame.copy()`\n",
      "  data_prepared[f\"avg_component_{i+1}\"] = average_components_array[:, i]\n",
      "/var/folders/ns/2fdd2j7x5p3dcwpx64zbmjlm0000gn/T/ipykernel_89409/4048641647.py:6: PerformanceWarning: DataFrame is highly fragmented.  This is usually the result of calling `frame.insert` many times, which has poor performance.  Consider joining all columns at once using pd.concat(axis=1) instead. To get a de-fragmented frame, use `newframe = frame.copy()`\n",
      "  data_prepared[f\"avg_component_{i+1}\"] = average_components_array[:, i]\n",
      "/var/folders/ns/2fdd2j7x5p3dcwpx64zbmjlm0000gn/T/ipykernel_89409/4048641647.py:6: PerformanceWarning: DataFrame is highly fragmented.  This is usually the result of calling `frame.insert` many times, which has poor performance.  Consider joining all columns at once using pd.concat(axis=1) instead. To get a de-fragmented frame, use `newframe = frame.copy()`\n",
      "  data_prepared[f\"avg_component_{i+1}\"] = average_components_array[:, i]\n",
      "/var/folders/ns/2fdd2j7x5p3dcwpx64zbmjlm0000gn/T/ipykernel_89409/4048641647.py:6: PerformanceWarning: DataFrame is highly fragmented.  This is usually the result of calling `frame.insert` many times, which has poor performance.  Consider joining all columns at once using pd.concat(axis=1) instead. To get a de-fragmented frame, use `newframe = frame.copy()`\n",
      "  data_prepared[f\"avg_component_{i+1}\"] = average_components_array[:, i]\n",
      "/var/folders/ns/2fdd2j7x5p3dcwpx64zbmjlm0000gn/T/ipykernel_89409/4048641647.py:6: PerformanceWarning: DataFrame is highly fragmented.  This is usually the result of calling `frame.insert` many times, which has poor performance.  Consider joining all columns at once using pd.concat(axis=1) instead. To get a de-fragmented frame, use `newframe = frame.copy()`\n",
      "  data_prepared[f\"avg_component_{i+1}\"] = average_components_array[:, i]\n",
      "/var/folders/ns/2fdd2j7x5p3dcwpx64zbmjlm0000gn/T/ipykernel_89409/4048641647.py:6: PerformanceWarning: DataFrame is highly fragmented.  This is usually the result of calling `frame.insert` many times, which has poor performance.  Consider joining all columns at once using pd.concat(axis=1) instead. To get a de-fragmented frame, use `newframe = frame.copy()`\n",
      "  data_prepared[f\"avg_component_{i+1}\"] = average_components_array[:, i]\n",
      "/var/folders/ns/2fdd2j7x5p3dcwpx64zbmjlm0000gn/T/ipykernel_89409/4048641647.py:6: PerformanceWarning: DataFrame is highly fragmented.  This is usually the result of calling `frame.insert` many times, which has poor performance.  Consider joining all columns at once using pd.concat(axis=1) instead. To get a de-fragmented frame, use `newframe = frame.copy()`\n",
      "  data_prepared[f\"avg_component_{i+1}\"] = average_components_array[:, i]\n",
      "/var/folders/ns/2fdd2j7x5p3dcwpx64zbmjlm0000gn/T/ipykernel_89409/4048641647.py:6: PerformanceWarning: DataFrame is highly fragmented.  This is usually the result of calling `frame.insert` many times, which has poor performance.  Consider joining all columns at once using pd.concat(axis=1) instead. To get a de-fragmented frame, use `newframe = frame.copy()`\n",
      "  data_prepared[f\"avg_component_{i+1}\"] = average_components_array[:, i]\n",
      "/var/folders/ns/2fdd2j7x5p3dcwpx64zbmjlm0000gn/T/ipykernel_89409/4048641647.py:6: PerformanceWarning: DataFrame is highly fragmented.  This is usually the result of calling `frame.insert` many times, which has poor performance.  Consider joining all columns at once using pd.concat(axis=1) instead. To get a de-fragmented frame, use `newframe = frame.copy()`\n",
      "  data_prepared[f\"avg_component_{i+1}\"] = average_components_array[:, i]\n",
      "/var/folders/ns/2fdd2j7x5p3dcwpx64zbmjlm0000gn/T/ipykernel_89409/4048641647.py:6: PerformanceWarning: DataFrame is highly fragmented.  This is usually the result of calling `frame.insert` many times, which has poor performance.  Consider joining all columns at once using pd.concat(axis=1) instead. To get a de-fragmented frame, use `newframe = frame.copy()`\n",
      "  data_prepared[f\"avg_component_{i+1}\"] = average_components_array[:, i]\n",
      "/var/folders/ns/2fdd2j7x5p3dcwpx64zbmjlm0000gn/T/ipykernel_89409/4048641647.py:6: PerformanceWarning: DataFrame is highly fragmented.  This is usually the result of calling `frame.insert` many times, which has poor performance.  Consider joining all columns at once using pd.concat(axis=1) instead. To get a de-fragmented frame, use `newframe = frame.copy()`\n",
      "  data_prepared[f\"avg_component_{i+1}\"] = average_components_array[:, i]\n",
      "/var/folders/ns/2fdd2j7x5p3dcwpx64zbmjlm0000gn/T/ipykernel_89409/4048641647.py:6: PerformanceWarning: DataFrame is highly fragmented.  This is usually the result of calling `frame.insert` many times, which has poor performance.  Consider joining all columns at once using pd.concat(axis=1) instead. To get a de-fragmented frame, use `newframe = frame.copy()`\n",
      "  data_prepared[f\"avg_component_{i+1}\"] = average_components_array[:, i]\n",
      "/var/folders/ns/2fdd2j7x5p3dcwpx64zbmjlm0000gn/T/ipykernel_89409/4048641647.py:6: PerformanceWarning: DataFrame is highly fragmented.  This is usually the result of calling `frame.insert` many times, which has poor performance.  Consider joining all columns at once using pd.concat(axis=1) instead. To get a de-fragmented frame, use `newframe = frame.copy()`\n",
      "  data_prepared[f\"avg_component_{i+1}\"] = average_components_array[:, i]\n",
      "/var/folders/ns/2fdd2j7x5p3dcwpx64zbmjlm0000gn/T/ipykernel_89409/4048641647.py:6: PerformanceWarning: DataFrame is highly fragmented.  This is usually the result of calling `frame.insert` many times, which has poor performance.  Consider joining all columns at once using pd.concat(axis=1) instead. To get a de-fragmented frame, use `newframe = frame.copy()`\n",
      "  data_prepared[f\"avg_component_{i+1}\"] = average_components_array[:, i]\n",
      "/var/folders/ns/2fdd2j7x5p3dcwpx64zbmjlm0000gn/T/ipykernel_89409/4048641647.py:6: PerformanceWarning: DataFrame is highly fragmented.  This is usually the result of calling `frame.insert` many times, which has poor performance.  Consider joining all columns at once using pd.concat(axis=1) instead. To get a de-fragmented frame, use `newframe = frame.copy()`\n",
      "  data_prepared[f\"avg_component_{i+1}\"] = average_components_array[:, i]\n",
      "/var/folders/ns/2fdd2j7x5p3dcwpx64zbmjlm0000gn/T/ipykernel_89409/4048641647.py:6: PerformanceWarning: DataFrame is highly fragmented.  This is usually the result of calling `frame.insert` many times, which has poor performance.  Consider joining all columns at once using pd.concat(axis=1) instead. To get a de-fragmented frame, use `newframe = frame.copy()`\n",
      "  data_prepared[f\"avg_component_{i+1}\"] = average_components_array[:, i]\n",
      "/var/folders/ns/2fdd2j7x5p3dcwpx64zbmjlm0000gn/T/ipykernel_89409/4048641647.py:6: PerformanceWarning: DataFrame is highly fragmented.  This is usually the result of calling `frame.insert` many times, which has poor performance.  Consider joining all columns at once using pd.concat(axis=1) instead. To get a de-fragmented frame, use `newframe = frame.copy()`\n",
      "  data_prepared[f\"avg_component_{i+1}\"] = average_components_array[:, i]\n",
      "/var/folders/ns/2fdd2j7x5p3dcwpx64zbmjlm0000gn/T/ipykernel_89409/4048641647.py:6: PerformanceWarning: DataFrame is highly fragmented.  This is usually the result of calling `frame.insert` many times, which has poor performance.  Consider joining all columns at once using pd.concat(axis=1) instead. To get a de-fragmented frame, use `newframe = frame.copy()`\n",
      "  data_prepared[f\"avg_component_{i+1}\"] = average_components_array[:, i]\n",
      "/var/folders/ns/2fdd2j7x5p3dcwpx64zbmjlm0000gn/T/ipykernel_89409/4048641647.py:6: PerformanceWarning: DataFrame is highly fragmented.  This is usually the result of calling `frame.insert` many times, which has poor performance.  Consider joining all columns at once using pd.concat(axis=1) instead. To get a de-fragmented frame, use `newframe = frame.copy()`\n",
      "  data_prepared[f\"avg_component_{i+1}\"] = average_components_array[:, i]\n",
      "/var/folders/ns/2fdd2j7x5p3dcwpx64zbmjlm0000gn/T/ipykernel_89409/4048641647.py:6: PerformanceWarning: DataFrame is highly fragmented.  This is usually the result of calling `frame.insert` many times, which has poor performance.  Consider joining all columns at once using pd.concat(axis=1) instead. To get a de-fragmented frame, use `newframe = frame.copy()`\n",
      "  data_prepared[f\"avg_component_{i+1}\"] = average_components_array[:, i]\n",
      "/var/folders/ns/2fdd2j7x5p3dcwpx64zbmjlm0000gn/T/ipykernel_89409/4048641647.py:6: PerformanceWarning: DataFrame is highly fragmented.  This is usually the result of calling `frame.insert` many times, which has poor performance.  Consider joining all columns at once using pd.concat(axis=1) instead. To get a de-fragmented frame, use `newframe = frame.copy()`\n",
      "  data_prepared[f\"avg_component_{i+1}\"] = average_components_array[:, i]\n",
      "/var/folders/ns/2fdd2j7x5p3dcwpx64zbmjlm0000gn/T/ipykernel_89409/4048641647.py:6: PerformanceWarning: DataFrame is highly fragmented.  This is usually the result of calling `frame.insert` many times, which has poor performance.  Consider joining all columns at once using pd.concat(axis=1) instead. To get a de-fragmented frame, use `newframe = frame.copy()`\n",
      "  data_prepared[f\"avg_component_{i+1}\"] = average_components_array[:, i]\n",
      "/var/folders/ns/2fdd2j7x5p3dcwpx64zbmjlm0000gn/T/ipykernel_89409/4048641647.py:6: PerformanceWarning: DataFrame is highly fragmented.  This is usually the result of calling `frame.insert` many times, which has poor performance.  Consider joining all columns at once using pd.concat(axis=1) instead. To get a de-fragmented frame, use `newframe = frame.copy()`\n",
      "  data_prepared[f\"avg_component_{i+1}\"] = average_components_array[:, i]\n",
      "/var/folders/ns/2fdd2j7x5p3dcwpx64zbmjlm0000gn/T/ipykernel_89409/4048641647.py:6: PerformanceWarning: DataFrame is highly fragmented.  This is usually the result of calling `frame.insert` many times, which has poor performance.  Consider joining all columns at once using pd.concat(axis=1) instead. To get a de-fragmented frame, use `newframe = frame.copy()`\n",
      "  data_prepared[f\"avg_component_{i+1}\"] = average_components_array[:, i]\n",
      "/var/folders/ns/2fdd2j7x5p3dcwpx64zbmjlm0000gn/T/ipykernel_89409/4048641647.py:6: PerformanceWarning: DataFrame is highly fragmented.  This is usually the result of calling `frame.insert` many times, which has poor performance.  Consider joining all columns at once using pd.concat(axis=1) instead. To get a de-fragmented frame, use `newframe = frame.copy()`\n",
      "  data_prepared[f\"avg_component_{i+1}\"] = average_components_array[:, i]\n",
      "/var/folders/ns/2fdd2j7x5p3dcwpx64zbmjlm0000gn/T/ipykernel_89409/4048641647.py:6: PerformanceWarning: DataFrame is highly fragmented.  This is usually the result of calling `frame.insert` many times, which has poor performance.  Consider joining all columns at once using pd.concat(axis=1) instead. To get a de-fragmented frame, use `newframe = frame.copy()`\n",
      "  data_prepared[f\"avg_component_{i+1}\"] = average_components_array[:, i]\n",
      "/var/folders/ns/2fdd2j7x5p3dcwpx64zbmjlm0000gn/T/ipykernel_89409/4048641647.py:6: PerformanceWarning: DataFrame is highly fragmented.  This is usually the result of calling `frame.insert` many times, which has poor performance.  Consider joining all columns at once using pd.concat(axis=1) instead. To get a de-fragmented frame, use `newframe = frame.copy()`\n",
      "  data_prepared[f\"avg_component_{i+1}\"] = average_components_array[:, i]\n",
      "/var/folders/ns/2fdd2j7x5p3dcwpx64zbmjlm0000gn/T/ipykernel_89409/4048641647.py:6: PerformanceWarning: DataFrame is highly fragmented.  This is usually the result of calling `frame.insert` many times, which has poor performance.  Consider joining all columns at once using pd.concat(axis=1) instead. To get a de-fragmented frame, use `newframe = frame.copy()`\n",
      "  data_prepared[f\"avg_component_{i+1}\"] = average_components_array[:, i]\n",
      "/var/folders/ns/2fdd2j7x5p3dcwpx64zbmjlm0000gn/T/ipykernel_89409/4048641647.py:6: PerformanceWarning: DataFrame is highly fragmented.  This is usually the result of calling `frame.insert` many times, which has poor performance.  Consider joining all columns at once using pd.concat(axis=1) instead. To get a de-fragmented frame, use `newframe = frame.copy()`\n",
      "  data_prepared[f\"avg_component_{i+1}\"] = average_components_array[:, i]\n",
      "/var/folders/ns/2fdd2j7x5p3dcwpx64zbmjlm0000gn/T/ipykernel_89409/4048641647.py:6: PerformanceWarning: DataFrame is highly fragmented.  This is usually the result of calling `frame.insert` many times, which has poor performance.  Consider joining all columns at once using pd.concat(axis=1) instead. To get a de-fragmented frame, use `newframe = frame.copy()`\n",
      "  data_prepared[f\"avg_component_{i+1}\"] = average_components_array[:, i]\n",
      "/var/folders/ns/2fdd2j7x5p3dcwpx64zbmjlm0000gn/T/ipykernel_89409/4048641647.py:6: PerformanceWarning: DataFrame is highly fragmented.  This is usually the result of calling `frame.insert` many times, which has poor performance.  Consider joining all columns at once using pd.concat(axis=1) instead. To get a de-fragmented frame, use `newframe = frame.copy()`\n",
      "  data_prepared[f\"avg_component_{i+1}\"] = average_components_array[:, i]\n",
      "/var/folders/ns/2fdd2j7x5p3dcwpx64zbmjlm0000gn/T/ipykernel_89409/4048641647.py:6: PerformanceWarning: DataFrame is highly fragmented.  This is usually the result of calling `frame.insert` many times, which has poor performance.  Consider joining all columns at once using pd.concat(axis=1) instead. To get a de-fragmented frame, use `newframe = frame.copy()`\n",
      "  data_prepared[f\"avg_component_{i+1}\"] = average_components_array[:, i]\n",
      "/var/folders/ns/2fdd2j7x5p3dcwpx64zbmjlm0000gn/T/ipykernel_89409/4048641647.py:6: PerformanceWarning: DataFrame is highly fragmented.  This is usually the result of calling `frame.insert` many times, which has poor performance.  Consider joining all columns at once using pd.concat(axis=1) instead. To get a de-fragmented frame, use `newframe = frame.copy()`\n",
      "  data_prepared[f\"avg_component_{i+1}\"] = average_components_array[:, i]\n",
      "/var/folders/ns/2fdd2j7x5p3dcwpx64zbmjlm0000gn/T/ipykernel_89409/4048641647.py:6: PerformanceWarning: DataFrame is highly fragmented.  This is usually the result of calling `frame.insert` many times, which has poor performance.  Consider joining all columns at once using pd.concat(axis=1) instead. To get a de-fragmented frame, use `newframe = frame.copy()`\n",
      "  data_prepared[f\"avg_component_{i+1}\"] = average_components_array[:, i]\n",
      "/var/folders/ns/2fdd2j7x5p3dcwpx64zbmjlm0000gn/T/ipykernel_89409/4048641647.py:6: PerformanceWarning: DataFrame is highly fragmented.  This is usually the result of calling `frame.insert` many times, which has poor performance.  Consider joining all columns at once using pd.concat(axis=1) instead. To get a de-fragmented frame, use `newframe = frame.copy()`\n",
      "  data_prepared[f\"avg_component_{i+1}\"] = average_components_array[:, i]\n",
      "/var/folders/ns/2fdd2j7x5p3dcwpx64zbmjlm0000gn/T/ipykernel_89409/4048641647.py:6: PerformanceWarning: DataFrame is highly fragmented.  This is usually the result of calling `frame.insert` many times, which has poor performance.  Consider joining all columns at once using pd.concat(axis=1) instead. To get a de-fragmented frame, use `newframe = frame.copy()`\n",
      "  data_prepared[f\"avg_component_{i+1}\"] = average_components_array[:, i]\n",
      "/var/folders/ns/2fdd2j7x5p3dcwpx64zbmjlm0000gn/T/ipykernel_89409/4048641647.py:6: PerformanceWarning: DataFrame is highly fragmented.  This is usually the result of calling `frame.insert` many times, which has poor performance.  Consider joining all columns at once using pd.concat(axis=1) instead. To get a de-fragmented frame, use `newframe = frame.copy()`\n",
      "  data_prepared[f\"avg_component_{i+1}\"] = average_components_array[:, i]\n",
      "/var/folders/ns/2fdd2j7x5p3dcwpx64zbmjlm0000gn/T/ipykernel_89409/4048641647.py:6: PerformanceWarning: DataFrame is highly fragmented.  This is usually the result of calling `frame.insert` many times, which has poor performance.  Consider joining all columns at once using pd.concat(axis=1) instead. To get a de-fragmented frame, use `newframe = frame.copy()`\n",
      "  data_prepared[f\"avg_component_{i+1}\"] = average_components_array[:, i]\n",
      "/var/folders/ns/2fdd2j7x5p3dcwpx64zbmjlm0000gn/T/ipykernel_89409/4048641647.py:6: PerformanceWarning: DataFrame is highly fragmented.  This is usually the result of calling `frame.insert` many times, which has poor performance.  Consider joining all columns at once using pd.concat(axis=1) instead. To get a de-fragmented frame, use `newframe = frame.copy()`\n",
      "  data_prepared[f\"avg_component_{i+1}\"] = average_components_array[:, i]\n",
      "/var/folders/ns/2fdd2j7x5p3dcwpx64zbmjlm0000gn/T/ipykernel_89409/4048641647.py:6: PerformanceWarning: DataFrame is highly fragmented.  This is usually the result of calling `frame.insert` many times, which has poor performance.  Consider joining all columns at once using pd.concat(axis=1) instead. To get a de-fragmented frame, use `newframe = frame.copy()`\n",
      "  data_prepared[f\"avg_component_{i+1}\"] = average_components_array[:, i]\n",
      "/var/folders/ns/2fdd2j7x5p3dcwpx64zbmjlm0000gn/T/ipykernel_89409/4048641647.py:6: PerformanceWarning: DataFrame is highly fragmented.  This is usually the result of calling `frame.insert` many times, which has poor performance.  Consider joining all columns at once using pd.concat(axis=1) instead. To get a de-fragmented frame, use `newframe = frame.copy()`\n",
      "  data_prepared[f\"avg_component_{i+1}\"] = average_components_array[:, i]\n",
      "/var/folders/ns/2fdd2j7x5p3dcwpx64zbmjlm0000gn/T/ipykernel_89409/4048641647.py:6: PerformanceWarning: DataFrame is highly fragmented.  This is usually the result of calling `frame.insert` many times, which has poor performance.  Consider joining all columns at once using pd.concat(axis=1) instead. To get a de-fragmented frame, use `newframe = frame.copy()`\n",
      "  data_prepared[f\"avg_component_{i+1}\"] = average_components_array[:, i]\n",
      "/var/folders/ns/2fdd2j7x5p3dcwpx64zbmjlm0000gn/T/ipykernel_89409/4048641647.py:6: PerformanceWarning: DataFrame is highly fragmented.  This is usually the result of calling `frame.insert` many times, which has poor performance.  Consider joining all columns at once using pd.concat(axis=1) instead. To get a de-fragmented frame, use `newframe = frame.copy()`\n",
      "  data_prepared[f\"avg_component_{i+1}\"] = average_components_array[:, i]\n",
      "/var/folders/ns/2fdd2j7x5p3dcwpx64zbmjlm0000gn/T/ipykernel_89409/4048641647.py:6: PerformanceWarning: DataFrame is highly fragmented.  This is usually the result of calling `frame.insert` many times, which has poor performance.  Consider joining all columns at once using pd.concat(axis=1) instead. To get a de-fragmented frame, use `newframe = frame.copy()`\n",
      "  data_prepared[f\"avg_component_{i+1}\"] = average_components_array[:, i]\n",
      "/var/folders/ns/2fdd2j7x5p3dcwpx64zbmjlm0000gn/T/ipykernel_89409/4048641647.py:6: PerformanceWarning: DataFrame is highly fragmented.  This is usually the result of calling `frame.insert` many times, which has poor performance.  Consider joining all columns at once using pd.concat(axis=1) instead. To get a de-fragmented frame, use `newframe = frame.copy()`\n",
      "  data_prepared[f\"avg_component_{i+1}\"] = average_components_array[:, i]\n",
      "/var/folders/ns/2fdd2j7x5p3dcwpx64zbmjlm0000gn/T/ipykernel_89409/4048641647.py:6: PerformanceWarning: DataFrame is highly fragmented.  This is usually the result of calling `frame.insert` many times, which has poor performance.  Consider joining all columns at once using pd.concat(axis=1) instead. To get a de-fragmented frame, use `newframe = frame.copy()`\n",
      "  data_prepared[f\"avg_component_{i+1}\"] = average_components_array[:, i]\n",
      "/var/folders/ns/2fdd2j7x5p3dcwpx64zbmjlm0000gn/T/ipykernel_89409/4048641647.py:6: PerformanceWarning: DataFrame is highly fragmented.  This is usually the result of calling `frame.insert` many times, which has poor performance.  Consider joining all columns at once using pd.concat(axis=1) instead. To get a de-fragmented frame, use `newframe = frame.copy()`\n",
      "  data_prepared[f\"avg_component_{i+1}\"] = average_components_array[:, i]\n",
      "/var/folders/ns/2fdd2j7x5p3dcwpx64zbmjlm0000gn/T/ipykernel_89409/4048641647.py:6: PerformanceWarning: DataFrame is highly fragmented.  This is usually the result of calling `frame.insert` many times, which has poor performance.  Consider joining all columns at once using pd.concat(axis=1) instead. To get a de-fragmented frame, use `newframe = frame.copy()`\n",
      "  data_prepared[f\"avg_component_{i+1}\"] = average_components_array[:, i]\n",
      "/var/folders/ns/2fdd2j7x5p3dcwpx64zbmjlm0000gn/T/ipykernel_89409/4048641647.py:6: PerformanceWarning: DataFrame is highly fragmented.  This is usually the result of calling `frame.insert` many times, which has poor performance.  Consider joining all columns at once using pd.concat(axis=1) instead. To get a de-fragmented frame, use `newframe = frame.copy()`\n",
      "  data_prepared[f\"avg_component_{i+1}\"] = average_components_array[:, i]\n",
      "/var/folders/ns/2fdd2j7x5p3dcwpx64zbmjlm0000gn/T/ipykernel_89409/4048641647.py:6: PerformanceWarning: DataFrame is highly fragmented.  This is usually the result of calling `frame.insert` many times, which has poor performance.  Consider joining all columns at once using pd.concat(axis=1) instead. To get a de-fragmented frame, use `newframe = frame.copy()`\n",
      "  data_prepared[f\"avg_component_{i+1}\"] = average_components_array[:, i]\n",
      "/var/folders/ns/2fdd2j7x5p3dcwpx64zbmjlm0000gn/T/ipykernel_89409/4048641647.py:6: PerformanceWarning: DataFrame is highly fragmented.  This is usually the result of calling `frame.insert` many times, which has poor performance.  Consider joining all columns at once using pd.concat(axis=1) instead. To get a de-fragmented frame, use `newframe = frame.copy()`\n",
      "  data_prepared[f\"avg_component_{i+1}\"] = average_components_array[:, i]\n",
      "/var/folders/ns/2fdd2j7x5p3dcwpx64zbmjlm0000gn/T/ipykernel_89409/4048641647.py:6: PerformanceWarning: DataFrame is highly fragmented.  This is usually the result of calling `frame.insert` many times, which has poor performance.  Consider joining all columns at once using pd.concat(axis=1) instead. To get a de-fragmented frame, use `newframe = frame.copy()`\n",
      "  data_prepared[f\"avg_component_{i+1}\"] = average_components_array[:, i]\n",
      "/var/folders/ns/2fdd2j7x5p3dcwpx64zbmjlm0000gn/T/ipykernel_89409/4048641647.py:6: PerformanceWarning: DataFrame is highly fragmented.  This is usually the result of calling `frame.insert` many times, which has poor performance.  Consider joining all columns at once using pd.concat(axis=1) instead. To get a de-fragmented frame, use `newframe = frame.copy()`\n",
      "  data_prepared[f\"avg_component_{i+1}\"] = average_components_array[:, i]\n",
      "/var/folders/ns/2fdd2j7x5p3dcwpx64zbmjlm0000gn/T/ipykernel_89409/4048641647.py:6: PerformanceWarning: DataFrame is highly fragmented.  This is usually the result of calling `frame.insert` many times, which has poor performance.  Consider joining all columns at once using pd.concat(axis=1) instead. To get a de-fragmented frame, use `newframe = frame.copy()`\n",
      "  data_prepared[f\"avg_component_{i+1}\"] = average_components_array[:, i]\n",
      "/var/folders/ns/2fdd2j7x5p3dcwpx64zbmjlm0000gn/T/ipykernel_89409/4048641647.py:6: PerformanceWarning: DataFrame is highly fragmented.  This is usually the result of calling `frame.insert` many times, which has poor performance.  Consider joining all columns at once using pd.concat(axis=1) instead. To get a de-fragmented frame, use `newframe = frame.copy()`\n",
      "  data_prepared[f\"avg_component_{i+1}\"] = average_components_array[:, i]\n",
      "/var/folders/ns/2fdd2j7x5p3dcwpx64zbmjlm0000gn/T/ipykernel_89409/4048641647.py:6: PerformanceWarning: DataFrame is highly fragmented.  This is usually the result of calling `frame.insert` many times, which has poor performance.  Consider joining all columns at once using pd.concat(axis=1) instead. To get a de-fragmented frame, use `newframe = frame.copy()`\n",
      "  data_prepared[f\"avg_component_{i+1}\"] = average_components_array[:, i]\n",
      "/var/folders/ns/2fdd2j7x5p3dcwpx64zbmjlm0000gn/T/ipykernel_89409/4048641647.py:6: PerformanceWarning: DataFrame is highly fragmented.  This is usually the result of calling `frame.insert` many times, which has poor performance.  Consider joining all columns at once using pd.concat(axis=1) instead. To get a de-fragmented frame, use `newframe = frame.copy()`\n",
      "  data_prepared[f\"avg_component_{i+1}\"] = average_components_array[:, i]\n",
      "/var/folders/ns/2fdd2j7x5p3dcwpx64zbmjlm0000gn/T/ipykernel_89409/4048641647.py:6: PerformanceWarning: DataFrame is highly fragmented.  This is usually the result of calling `frame.insert` many times, which has poor performance.  Consider joining all columns at once using pd.concat(axis=1) instead. To get a de-fragmented frame, use `newframe = frame.copy()`\n",
      "  data_prepared[f\"avg_component_{i+1}\"] = average_components_array[:, i]\n",
      "/var/folders/ns/2fdd2j7x5p3dcwpx64zbmjlm0000gn/T/ipykernel_89409/4048641647.py:6: PerformanceWarning: DataFrame is highly fragmented.  This is usually the result of calling `frame.insert` many times, which has poor performance.  Consider joining all columns at once using pd.concat(axis=1) instead. To get a de-fragmented frame, use `newframe = frame.copy()`\n",
      "  data_prepared[f\"avg_component_{i+1}\"] = average_components_array[:, i]\n",
      "/var/folders/ns/2fdd2j7x5p3dcwpx64zbmjlm0000gn/T/ipykernel_89409/4048641647.py:6: PerformanceWarning: DataFrame is highly fragmented.  This is usually the result of calling `frame.insert` many times, which has poor performance.  Consider joining all columns at once using pd.concat(axis=1) instead. To get a de-fragmented frame, use `newframe = frame.copy()`\n",
      "  data_prepared[f\"avg_component_{i+1}\"] = average_components_array[:, i]\n",
      "/var/folders/ns/2fdd2j7x5p3dcwpx64zbmjlm0000gn/T/ipykernel_89409/4048641647.py:6: PerformanceWarning: DataFrame is highly fragmented.  This is usually the result of calling `frame.insert` many times, which has poor performance.  Consider joining all columns at once using pd.concat(axis=1) instead. To get a de-fragmented frame, use `newframe = frame.copy()`\n",
      "  data_prepared[f\"avg_component_{i+1}\"] = average_components_array[:, i]\n",
      "/var/folders/ns/2fdd2j7x5p3dcwpx64zbmjlm0000gn/T/ipykernel_89409/4048641647.py:6: PerformanceWarning: DataFrame is highly fragmented.  This is usually the result of calling `frame.insert` many times, which has poor performance.  Consider joining all columns at once using pd.concat(axis=1) instead. To get a de-fragmented frame, use `newframe = frame.copy()`\n",
      "  data_prepared[f\"avg_component_{i+1}\"] = average_components_array[:, i]\n",
      "/var/folders/ns/2fdd2j7x5p3dcwpx64zbmjlm0000gn/T/ipykernel_89409/4048641647.py:6: PerformanceWarning: DataFrame is highly fragmented.  This is usually the result of calling `frame.insert` many times, which has poor performance.  Consider joining all columns at once using pd.concat(axis=1) instead. To get a de-fragmented frame, use `newframe = frame.copy()`\n",
      "  data_prepared[f\"avg_component_{i+1}\"] = average_components_array[:, i]\n",
      "/var/folders/ns/2fdd2j7x5p3dcwpx64zbmjlm0000gn/T/ipykernel_89409/4048641647.py:6: PerformanceWarning: DataFrame is highly fragmented.  This is usually the result of calling `frame.insert` many times, which has poor performance.  Consider joining all columns at once using pd.concat(axis=1) instead. To get a de-fragmented frame, use `newframe = frame.copy()`\n",
      "  data_prepared[f\"avg_component_{i+1}\"] = average_components_array[:, i]\n",
      "/var/folders/ns/2fdd2j7x5p3dcwpx64zbmjlm0000gn/T/ipykernel_89409/4048641647.py:6: PerformanceWarning: DataFrame is highly fragmented.  This is usually the result of calling `frame.insert` many times, which has poor performance.  Consider joining all columns at once using pd.concat(axis=1) instead. To get a de-fragmented frame, use `newframe = frame.copy()`\n",
      "  data_prepared[f\"avg_component_{i+1}\"] = average_components_array[:, i]\n",
      "/var/folders/ns/2fdd2j7x5p3dcwpx64zbmjlm0000gn/T/ipykernel_89409/4048641647.py:6: PerformanceWarning: DataFrame is highly fragmented.  This is usually the result of calling `frame.insert` many times, which has poor performance.  Consider joining all columns at once using pd.concat(axis=1) instead. To get a de-fragmented frame, use `newframe = frame.copy()`\n",
      "  data_prepared[f\"avg_component_{i+1}\"] = average_components_array[:, i]\n",
      "/var/folders/ns/2fdd2j7x5p3dcwpx64zbmjlm0000gn/T/ipykernel_89409/4048641647.py:6: PerformanceWarning: DataFrame is highly fragmented.  This is usually the result of calling `frame.insert` many times, which has poor performance.  Consider joining all columns at once using pd.concat(axis=1) instead. To get a de-fragmented frame, use `newframe = frame.copy()`\n",
      "  data_prepared[f\"avg_component_{i+1}\"] = average_components_array[:, i]\n",
      "/var/folders/ns/2fdd2j7x5p3dcwpx64zbmjlm0000gn/T/ipykernel_89409/4048641647.py:6: PerformanceWarning: DataFrame is highly fragmented.  This is usually the result of calling `frame.insert` many times, which has poor performance.  Consider joining all columns at once using pd.concat(axis=1) instead. To get a de-fragmented frame, use `newframe = frame.copy()`\n",
      "  data_prepared[f\"avg_component_{i+1}\"] = average_components_array[:, i]\n",
      "/var/folders/ns/2fdd2j7x5p3dcwpx64zbmjlm0000gn/T/ipykernel_89409/4048641647.py:6: PerformanceWarning: DataFrame is highly fragmented.  This is usually the result of calling `frame.insert` many times, which has poor performance.  Consider joining all columns at once using pd.concat(axis=1) instead. To get a de-fragmented frame, use `newframe = frame.copy()`\n",
      "  data_prepared[f\"avg_component_{i+1}\"] = average_components_array[:, i]\n",
      "/var/folders/ns/2fdd2j7x5p3dcwpx64zbmjlm0000gn/T/ipykernel_89409/4048641647.py:6: PerformanceWarning: DataFrame is highly fragmented.  This is usually the result of calling `frame.insert` many times, which has poor performance.  Consider joining all columns at once using pd.concat(axis=1) instead. To get a de-fragmented frame, use `newframe = frame.copy()`\n",
      "  data_prepared[f\"avg_component_{i+1}\"] = average_components_array[:, i]\n",
      "/var/folders/ns/2fdd2j7x5p3dcwpx64zbmjlm0000gn/T/ipykernel_89409/4048641647.py:6: PerformanceWarning: DataFrame is highly fragmented.  This is usually the result of calling `frame.insert` many times, which has poor performance.  Consider joining all columns at once using pd.concat(axis=1) instead. To get a de-fragmented frame, use `newframe = frame.copy()`\n",
      "  data_prepared[f\"avg_component_{i+1}\"] = average_components_array[:, i]\n",
      "/var/folders/ns/2fdd2j7x5p3dcwpx64zbmjlm0000gn/T/ipykernel_89409/4048641647.py:6: PerformanceWarning: DataFrame is highly fragmented.  This is usually the result of calling `frame.insert` many times, which has poor performance.  Consider joining all columns at once using pd.concat(axis=1) instead. To get a de-fragmented frame, use `newframe = frame.copy()`\n",
      "  data_prepared[f\"avg_component_{i+1}\"] = average_components_array[:, i]\n",
      "/var/folders/ns/2fdd2j7x5p3dcwpx64zbmjlm0000gn/T/ipykernel_89409/4048641647.py:6: PerformanceWarning: DataFrame is highly fragmented.  This is usually the result of calling `frame.insert` many times, which has poor performance.  Consider joining all columns at once using pd.concat(axis=1) instead. To get a de-fragmented frame, use `newframe = frame.copy()`\n",
      "  data_prepared[f\"avg_component_{i+1}\"] = average_components_array[:, i]\n",
      "/var/folders/ns/2fdd2j7x5p3dcwpx64zbmjlm0000gn/T/ipykernel_89409/4048641647.py:6: PerformanceWarning: DataFrame is highly fragmented.  This is usually the result of calling `frame.insert` many times, which has poor performance.  Consider joining all columns at once using pd.concat(axis=1) instead. To get a de-fragmented frame, use `newframe = frame.copy()`\n",
      "  data_prepared[f\"avg_component_{i+1}\"] = average_components_array[:, i]\n",
      "/var/folders/ns/2fdd2j7x5p3dcwpx64zbmjlm0000gn/T/ipykernel_89409/4048641647.py:6: PerformanceWarning: DataFrame is highly fragmented.  This is usually the result of calling `frame.insert` many times, which has poor performance.  Consider joining all columns at once using pd.concat(axis=1) instead. To get a de-fragmented frame, use `newframe = frame.copy()`\n",
      "  data_prepared[f\"avg_component_{i+1}\"] = average_components_array[:, i]\n",
      "/var/folders/ns/2fdd2j7x5p3dcwpx64zbmjlm0000gn/T/ipykernel_89409/4048641647.py:6: PerformanceWarning: DataFrame is highly fragmented.  This is usually the result of calling `frame.insert` many times, which has poor performance.  Consider joining all columns at once using pd.concat(axis=1) instead. To get a de-fragmented frame, use `newframe = frame.copy()`\n",
      "  data_prepared[f\"avg_component_{i+1}\"] = average_components_array[:, i]\n",
      "/var/folders/ns/2fdd2j7x5p3dcwpx64zbmjlm0000gn/T/ipykernel_89409/4048641647.py:6: PerformanceWarning: DataFrame is highly fragmented.  This is usually the result of calling `frame.insert` many times, which has poor performance.  Consider joining all columns at once using pd.concat(axis=1) instead. To get a de-fragmented frame, use `newframe = frame.copy()`\n",
      "  data_prepared[f\"avg_component_{i+1}\"] = average_components_array[:, i]\n",
      "/var/folders/ns/2fdd2j7x5p3dcwpx64zbmjlm0000gn/T/ipykernel_89409/4048641647.py:6: PerformanceWarning: DataFrame is highly fragmented.  This is usually the result of calling `frame.insert` many times, which has poor performance.  Consider joining all columns at once using pd.concat(axis=1) instead. To get a de-fragmented frame, use `newframe = frame.copy()`\n",
      "  data_prepared[f\"avg_component_{i+1}\"] = average_components_array[:, i]\n",
      "/var/folders/ns/2fdd2j7x5p3dcwpx64zbmjlm0000gn/T/ipykernel_89409/4048641647.py:6: PerformanceWarning: DataFrame is highly fragmented.  This is usually the result of calling `frame.insert` many times, which has poor performance.  Consider joining all columns at once using pd.concat(axis=1) instead. To get a de-fragmented frame, use `newframe = frame.copy()`\n",
      "  data_prepared[f\"avg_component_{i+1}\"] = average_components_array[:, i]\n",
      "/var/folders/ns/2fdd2j7x5p3dcwpx64zbmjlm0000gn/T/ipykernel_89409/4048641647.py:6: PerformanceWarning: DataFrame is highly fragmented.  This is usually the result of calling `frame.insert` many times, which has poor performance.  Consider joining all columns at once using pd.concat(axis=1) instead. To get a de-fragmented frame, use `newframe = frame.copy()`\n",
      "  data_prepared[f\"avg_component_{i+1}\"] = average_components_array[:, i]\n",
      "/var/folders/ns/2fdd2j7x5p3dcwpx64zbmjlm0000gn/T/ipykernel_89409/4048641647.py:6: PerformanceWarning: DataFrame is highly fragmented.  This is usually the result of calling `frame.insert` many times, which has poor performance.  Consider joining all columns at once using pd.concat(axis=1) instead. To get a de-fragmented frame, use `newframe = frame.copy()`\n",
      "  data_prepared[f\"avg_component_{i+1}\"] = average_components_array[:, i]\n",
      "/var/folders/ns/2fdd2j7x5p3dcwpx64zbmjlm0000gn/T/ipykernel_89409/4048641647.py:6: PerformanceWarning: DataFrame is highly fragmented.  This is usually the result of calling `frame.insert` many times, which has poor performance.  Consider joining all columns at once using pd.concat(axis=1) instead. To get a de-fragmented frame, use `newframe = frame.copy()`\n",
      "  data_prepared[f\"avg_component_{i+1}\"] = average_components_array[:, i]\n",
      "/var/folders/ns/2fdd2j7x5p3dcwpx64zbmjlm0000gn/T/ipykernel_89409/4048641647.py:6: PerformanceWarning: DataFrame is highly fragmented.  This is usually the result of calling `frame.insert` many times, which has poor performance.  Consider joining all columns at once using pd.concat(axis=1) instead. To get a de-fragmented frame, use `newframe = frame.copy()`\n",
      "  data_prepared[f\"avg_component_{i+1}\"] = average_components_array[:, i]\n",
      "/var/folders/ns/2fdd2j7x5p3dcwpx64zbmjlm0000gn/T/ipykernel_89409/4048641647.py:6: PerformanceWarning: DataFrame is highly fragmented.  This is usually the result of calling `frame.insert` many times, which has poor performance.  Consider joining all columns at once using pd.concat(axis=1) instead. To get a de-fragmented frame, use `newframe = frame.copy()`\n",
      "  data_prepared[f\"avg_component_{i+1}\"] = average_components_array[:, i]\n",
      "/var/folders/ns/2fdd2j7x5p3dcwpx64zbmjlm0000gn/T/ipykernel_89409/4048641647.py:6: PerformanceWarning: DataFrame is highly fragmented.  This is usually the result of calling `frame.insert` many times, which has poor performance.  Consider joining all columns at once using pd.concat(axis=1) instead. To get a de-fragmented frame, use `newframe = frame.copy()`\n",
      "  data_prepared[f\"avg_component_{i+1}\"] = average_components_array[:, i]\n",
      "/var/folders/ns/2fdd2j7x5p3dcwpx64zbmjlm0000gn/T/ipykernel_89409/4048641647.py:6: PerformanceWarning: DataFrame is highly fragmented.  This is usually the result of calling `frame.insert` many times, which has poor performance.  Consider joining all columns at once using pd.concat(axis=1) instead. To get a de-fragmented frame, use `newframe = frame.copy()`\n",
      "  data_prepared[f\"avg_component_{i+1}\"] = average_components_array[:, i]\n",
      "/var/folders/ns/2fdd2j7x5p3dcwpx64zbmjlm0000gn/T/ipykernel_89409/4048641647.py:6: PerformanceWarning: DataFrame is highly fragmented.  This is usually the result of calling `frame.insert` many times, which has poor performance.  Consider joining all columns at once using pd.concat(axis=1) instead. To get a de-fragmented frame, use `newframe = frame.copy()`\n",
      "  data_prepared[f\"avg_component_{i+1}\"] = average_components_array[:, i]\n",
      "/var/folders/ns/2fdd2j7x5p3dcwpx64zbmjlm0000gn/T/ipykernel_89409/4048641647.py:6: PerformanceWarning: DataFrame is highly fragmented.  This is usually the result of calling `frame.insert` many times, which has poor performance.  Consider joining all columns at once using pd.concat(axis=1) instead. To get a de-fragmented frame, use `newframe = frame.copy()`\n",
      "  data_prepared[f\"avg_component_{i+1}\"] = average_components_array[:, i]\n",
      "/var/folders/ns/2fdd2j7x5p3dcwpx64zbmjlm0000gn/T/ipykernel_89409/4048641647.py:6: PerformanceWarning: DataFrame is highly fragmented.  This is usually the result of calling `frame.insert` many times, which has poor performance.  Consider joining all columns at once using pd.concat(axis=1) instead. To get a de-fragmented frame, use `newframe = frame.copy()`\n",
      "  data_prepared[f\"avg_component_{i+1}\"] = average_components_array[:, i]\n",
      "/var/folders/ns/2fdd2j7x5p3dcwpx64zbmjlm0000gn/T/ipykernel_89409/4048641647.py:6: PerformanceWarning: DataFrame is highly fragmented.  This is usually the result of calling `frame.insert` many times, which has poor performance.  Consider joining all columns at once using pd.concat(axis=1) instead. To get a de-fragmented frame, use `newframe = frame.copy()`\n",
      "  data_prepared[f\"avg_component_{i+1}\"] = average_components_array[:, i]\n",
      "/var/folders/ns/2fdd2j7x5p3dcwpx64zbmjlm0000gn/T/ipykernel_89409/4048641647.py:6: PerformanceWarning: DataFrame is highly fragmented.  This is usually the result of calling `frame.insert` many times, which has poor performance.  Consider joining all columns at once using pd.concat(axis=1) instead. To get a de-fragmented frame, use `newframe = frame.copy()`\n",
      "  data_prepared[f\"avg_component_{i+1}\"] = average_components_array[:, i]\n",
      "/var/folders/ns/2fdd2j7x5p3dcwpx64zbmjlm0000gn/T/ipykernel_89409/4048641647.py:6: PerformanceWarning: DataFrame is highly fragmented.  This is usually the result of calling `frame.insert` many times, which has poor performance.  Consider joining all columns at once using pd.concat(axis=1) instead. To get a de-fragmented frame, use `newframe = frame.copy()`\n",
      "  data_prepared[f\"avg_component_{i+1}\"] = average_components_array[:, i]\n",
      "/var/folders/ns/2fdd2j7x5p3dcwpx64zbmjlm0000gn/T/ipykernel_89409/4048641647.py:6: PerformanceWarning: DataFrame is highly fragmented.  This is usually the result of calling `frame.insert` many times, which has poor performance.  Consider joining all columns at once using pd.concat(axis=1) instead. To get a de-fragmented frame, use `newframe = frame.copy()`\n",
      "  data_prepared[f\"avg_component_{i+1}\"] = average_components_array[:, i]\n",
      "/var/folders/ns/2fdd2j7x5p3dcwpx64zbmjlm0000gn/T/ipykernel_89409/4048641647.py:6: PerformanceWarning: DataFrame is highly fragmented.  This is usually the result of calling `frame.insert` many times, which has poor performance.  Consider joining all columns at once using pd.concat(axis=1) instead. To get a de-fragmented frame, use `newframe = frame.copy()`\n",
      "  data_prepared[f\"avg_component_{i+1}\"] = average_components_array[:, i]\n",
      "/var/folders/ns/2fdd2j7x5p3dcwpx64zbmjlm0000gn/T/ipykernel_89409/4048641647.py:6: PerformanceWarning: DataFrame is highly fragmented.  This is usually the result of calling `frame.insert` many times, which has poor performance.  Consider joining all columns at once using pd.concat(axis=1) instead. To get a de-fragmented frame, use `newframe = frame.copy()`\n",
      "  data_prepared[f\"avg_component_{i+1}\"] = average_components_array[:, i]\n",
      "/var/folders/ns/2fdd2j7x5p3dcwpx64zbmjlm0000gn/T/ipykernel_89409/4048641647.py:6: PerformanceWarning: DataFrame is highly fragmented.  This is usually the result of calling `frame.insert` many times, which has poor performance.  Consider joining all columns at once using pd.concat(axis=1) instead. To get a de-fragmented frame, use `newframe = frame.copy()`\n",
      "  data_prepared[f\"avg_component_{i+1}\"] = average_components_array[:, i]\n",
      "/var/folders/ns/2fdd2j7x5p3dcwpx64zbmjlm0000gn/T/ipykernel_89409/4048641647.py:6: PerformanceWarning: DataFrame is highly fragmented.  This is usually the result of calling `frame.insert` many times, which has poor performance.  Consider joining all columns at once using pd.concat(axis=1) instead. To get a de-fragmented frame, use `newframe = frame.copy()`\n",
      "  data_prepared[f\"avg_component_{i+1}\"] = average_components_array[:, i]\n",
      "/var/folders/ns/2fdd2j7x5p3dcwpx64zbmjlm0000gn/T/ipykernel_89409/4048641647.py:6: PerformanceWarning: DataFrame is highly fragmented.  This is usually the result of calling `frame.insert` many times, which has poor performance.  Consider joining all columns at once using pd.concat(axis=1) instead. To get a de-fragmented frame, use `newframe = frame.copy()`\n",
      "  data_prepared[f\"avg_component_{i+1}\"] = average_components_array[:, i]\n",
      "/var/folders/ns/2fdd2j7x5p3dcwpx64zbmjlm0000gn/T/ipykernel_89409/4048641647.py:6: PerformanceWarning: DataFrame is highly fragmented.  This is usually the result of calling `frame.insert` many times, which has poor performance.  Consider joining all columns at once using pd.concat(axis=1) instead. To get a de-fragmented frame, use `newframe = frame.copy()`\n",
      "  data_prepared[f\"avg_component_{i+1}\"] = average_components_array[:, i]\n",
      "/var/folders/ns/2fdd2j7x5p3dcwpx64zbmjlm0000gn/T/ipykernel_89409/4048641647.py:6: PerformanceWarning: DataFrame is highly fragmented.  This is usually the result of calling `frame.insert` many times, which has poor performance.  Consider joining all columns at once using pd.concat(axis=1) instead. To get a de-fragmented frame, use `newframe = frame.copy()`\n",
      "  data_prepared[f\"avg_component_{i+1}\"] = average_components_array[:, i]\n",
      "/var/folders/ns/2fdd2j7x5p3dcwpx64zbmjlm0000gn/T/ipykernel_89409/4048641647.py:6: PerformanceWarning: DataFrame is highly fragmented.  This is usually the result of calling `frame.insert` many times, which has poor performance.  Consider joining all columns at once using pd.concat(axis=1) instead. To get a de-fragmented frame, use `newframe = frame.copy()`\n",
      "  data_prepared[f\"avg_component_{i+1}\"] = average_components_array[:, i]\n",
      "/var/folders/ns/2fdd2j7x5p3dcwpx64zbmjlm0000gn/T/ipykernel_89409/4048641647.py:6: PerformanceWarning: DataFrame is highly fragmented.  This is usually the result of calling `frame.insert` many times, which has poor performance.  Consider joining all columns at once using pd.concat(axis=1) instead. To get a de-fragmented frame, use `newframe = frame.copy()`\n",
      "  data_prepared[f\"avg_component_{i+1}\"] = average_components_array[:, i]\n",
      "/var/folders/ns/2fdd2j7x5p3dcwpx64zbmjlm0000gn/T/ipykernel_89409/4048641647.py:6: PerformanceWarning: DataFrame is highly fragmented.  This is usually the result of calling `frame.insert` many times, which has poor performance.  Consider joining all columns at once using pd.concat(axis=1) instead. To get a de-fragmented frame, use `newframe = frame.copy()`\n",
      "  data_prepared[f\"avg_component_{i+1}\"] = average_components_array[:, i]\n",
      "/var/folders/ns/2fdd2j7x5p3dcwpx64zbmjlm0000gn/T/ipykernel_89409/4048641647.py:6: PerformanceWarning: DataFrame is highly fragmented.  This is usually the result of calling `frame.insert` many times, which has poor performance.  Consider joining all columns at once using pd.concat(axis=1) instead. To get a de-fragmented frame, use `newframe = frame.copy()`\n",
      "  data_prepared[f\"avg_component_{i+1}\"] = average_components_array[:, i]\n",
      "/var/folders/ns/2fdd2j7x5p3dcwpx64zbmjlm0000gn/T/ipykernel_89409/4048641647.py:6: PerformanceWarning: DataFrame is highly fragmented.  This is usually the result of calling `frame.insert` many times, which has poor performance.  Consider joining all columns at once using pd.concat(axis=1) instead. To get a de-fragmented frame, use `newframe = frame.copy()`\n",
      "  data_prepared[f\"avg_component_{i+1}\"] = average_components_array[:, i]\n",
      "/var/folders/ns/2fdd2j7x5p3dcwpx64zbmjlm0000gn/T/ipykernel_89409/4048641647.py:6: PerformanceWarning: DataFrame is highly fragmented.  This is usually the result of calling `frame.insert` many times, which has poor performance.  Consider joining all columns at once using pd.concat(axis=1) instead. To get a de-fragmented frame, use `newframe = frame.copy()`\n",
      "  data_prepared[f\"avg_component_{i+1}\"] = average_components_array[:, i]\n",
      "/var/folders/ns/2fdd2j7x5p3dcwpx64zbmjlm0000gn/T/ipykernel_89409/4048641647.py:6: PerformanceWarning: DataFrame is highly fragmented.  This is usually the result of calling `frame.insert` many times, which has poor performance.  Consider joining all columns at once using pd.concat(axis=1) instead. To get a de-fragmented frame, use `newframe = frame.copy()`\n",
      "  data_prepared[f\"avg_component_{i+1}\"] = average_components_array[:, i]\n",
      "/var/folders/ns/2fdd2j7x5p3dcwpx64zbmjlm0000gn/T/ipykernel_89409/4048641647.py:6: PerformanceWarning: DataFrame is highly fragmented.  This is usually the result of calling `frame.insert` many times, which has poor performance.  Consider joining all columns at once using pd.concat(axis=1) instead. To get a de-fragmented frame, use `newframe = frame.copy()`\n",
      "  data_prepared[f\"avg_component_{i+1}\"] = average_components_array[:, i]\n",
      "/var/folders/ns/2fdd2j7x5p3dcwpx64zbmjlm0000gn/T/ipykernel_89409/4048641647.py:6: PerformanceWarning: DataFrame is highly fragmented.  This is usually the result of calling `frame.insert` many times, which has poor performance.  Consider joining all columns at once using pd.concat(axis=1) instead. To get a de-fragmented frame, use `newframe = frame.copy()`\n",
      "  data_prepared[f\"avg_component_{i+1}\"] = average_components_array[:, i]\n",
      "/var/folders/ns/2fdd2j7x5p3dcwpx64zbmjlm0000gn/T/ipykernel_89409/4048641647.py:6: PerformanceWarning: DataFrame is highly fragmented.  This is usually the result of calling `frame.insert` many times, which has poor performance.  Consider joining all columns at once using pd.concat(axis=1) instead. To get a de-fragmented frame, use `newframe = frame.copy()`\n",
      "  data_prepared[f\"avg_component_{i+1}\"] = average_components_array[:, i]\n",
      "/var/folders/ns/2fdd2j7x5p3dcwpx64zbmjlm0000gn/T/ipykernel_89409/4048641647.py:6: PerformanceWarning: DataFrame is highly fragmented.  This is usually the result of calling `frame.insert` many times, which has poor performance.  Consider joining all columns at once using pd.concat(axis=1) instead. To get a de-fragmented frame, use `newframe = frame.copy()`\n",
      "  data_prepared[f\"avg_component_{i+1}\"] = average_components_array[:, i]\n",
      "/var/folders/ns/2fdd2j7x5p3dcwpx64zbmjlm0000gn/T/ipykernel_89409/4048641647.py:6: PerformanceWarning: DataFrame is highly fragmented.  This is usually the result of calling `frame.insert` many times, which has poor performance.  Consider joining all columns at once using pd.concat(axis=1) instead. To get a de-fragmented frame, use `newframe = frame.copy()`\n",
      "  data_prepared[f\"avg_component_{i+1}\"] = average_components_array[:, i]\n",
      "/var/folders/ns/2fdd2j7x5p3dcwpx64zbmjlm0000gn/T/ipykernel_89409/4048641647.py:6: PerformanceWarning: DataFrame is highly fragmented.  This is usually the result of calling `frame.insert` many times, which has poor performance.  Consider joining all columns at once using pd.concat(axis=1) instead. To get a de-fragmented frame, use `newframe = frame.copy()`\n",
      "  data_prepared[f\"avg_component_{i+1}\"] = average_components_array[:, i]\n",
      "/var/folders/ns/2fdd2j7x5p3dcwpx64zbmjlm0000gn/T/ipykernel_89409/4048641647.py:6: PerformanceWarning: DataFrame is highly fragmented.  This is usually the result of calling `frame.insert` many times, which has poor performance.  Consider joining all columns at once using pd.concat(axis=1) instead. To get a de-fragmented frame, use `newframe = frame.copy()`\n",
      "  data_prepared[f\"avg_component_{i+1}\"] = average_components_array[:, i]\n",
      "/var/folders/ns/2fdd2j7x5p3dcwpx64zbmjlm0000gn/T/ipykernel_89409/4048641647.py:6: PerformanceWarning: DataFrame is highly fragmented.  This is usually the result of calling `frame.insert` many times, which has poor performance.  Consider joining all columns at once using pd.concat(axis=1) instead. To get a de-fragmented frame, use `newframe = frame.copy()`\n",
      "  data_prepared[f\"avg_component_{i+1}\"] = average_components_array[:, i]\n",
      "/var/folders/ns/2fdd2j7x5p3dcwpx64zbmjlm0000gn/T/ipykernel_89409/4048641647.py:6: PerformanceWarning: DataFrame is highly fragmented.  This is usually the result of calling `frame.insert` many times, which has poor performance.  Consider joining all columns at once using pd.concat(axis=1) instead. To get a de-fragmented frame, use `newframe = frame.copy()`\n",
      "  data_prepared[f\"avg_component_{i+1}\"] = average_components_array[:, i]\n",
      "/var/folders/ns/2fdd2j7x5p3dcwpx64zbmjlm0000gn/T/ipykernel_89409/4048641647.py:6: PerformanceWarning: DataFrame is highly fragmented.  This is usually the result of calling `frame.insert` many times, which has poor performance.  Consider joining all columns at once using pd.concat(axis=1) instead. To get a de-fragmented frame, use `newframe = frame.copy()`\n",
      "  data_prepared[f\"avg_component_{i+1}\"] = average_components_array[:, i]\n",
      "/var/folders/ns/2fdd2j7x5p3dcwpx64zbmjlm0000gn/T/ipykernel_89409/4048641647.py:6: PerformanceWarning: DataFrame is highly fragmented.  This is usually the result of calling `frame.insert` many times, which has poor performance.  Consider joining all columns at once using pd.concat(axis=1) instead. To get a de-fragmented frame, use `newframe = frame.copy()`\n",
      "  data_prepared[f\"avg_component_{i+1}\"] = average_components_array[:, i]\n",
      "/var/folders/ns/2fdd2j7x5p3dcwpx64zbmjlm0000gn/T/ipykernel_89409/4048641647.py:6: PerformanceWarning: DataFrame is highly fragmented.  This is usually the result of calling `frame.insert` many times, which has poor performance.  Consider joining all columns at once using pd.concat(axis=1) instead. To get a de-fragmented frame, use `newframe = frame.copy()`\n",
      "  data_prepared[f\"avg_component_{i+1}\"] = average_components_array[:, i]\n",
      "/var/folders/ns/2fdd2j7x5p3dcwpx64zbmjlm0000gn/T/ipykernel_89409/4048641647.py:6: PerformanceWarning: DataFrame is highly fragmented.  This is usually the result of calling `frame.insert` many times, which has poor performance.  Consider joining all columns at once using pd.concat(axis=1) instead. To get a de-fragmented frame, use `newframe = frame.copy()`\n",
      "  data_prepared[f\"avg_component_{i+1}\"] = average_components_array[:, i]\n",
      "/var/folders/ns/2fdd2j7x5p3dcwpx64zbmjlm0000gn/T/ipykernel_89409/4048641647.py:6: PerformanceWarning: DataFrame is highly fragmented.  This is usually the result of calling `frame.insert` many times, which has poor performance.  Consider joining all columns at once using pd.concat(axis=1) instead. To get a de-fragmented frame, use `newframe = frame.copy()`\n",
      "  data_prepared[f\"avg_component_{i+1}\"] = average_components_array[:, i]\n",
      "/var/folders/ns/2fdd2j7x5p3dcwpx64zbmjlm0000gn/T/ipykernel_89409/4048641647.py:6: PerformanceWarning: DataFrame is highly fragmented.  This is usually the result of calling `frame.insert` many times, which has poor performance.  Consider joining all columns at once using pd.concat(axis=1) instead. To get a de-fragmented frame, use `newframe = frame.copy()`\n",
      "  data_prepared[f\"avg_component_{i+1}\"] = average_components_array[:, i]\n",
      "/var/folders/ns/2fdd2j7x5p3dcwpx64zbmjlm0000gn/T/ipykernel_89409/4048641647.py:6: PerformanceWarning: DataFrame is highly fragmented.  This is usually the result of calling `frame.insert` many times, which has poor performance.  Consider joining all columns at once using pd.concat(axis=1) instead. To get a de-fragmented frame, use `newframe = frame.copy()`\n",
      "  data_prepared[f\"avg_component_{i+1}\"] = average_components_array[:, i]\n",
      "/var/folders/ns/2fdd2j7x5p3dcwpx64zbmjlm0000gn/T/ipykernel_89409/4048641647.py:6: PerformanceWarning: DataFrame is highly fragmented.  This is usually the result of calling `frame.insert` many times, which has poor performance.  Consider joining all columns at once using pd.concat(axis=1) instead. To get a de-fragmented frame, use `newframe = frame.copy()`\n",
      "  data_prepared[f\"avg_component_{i+1}\"] = average_components_array[:, i]\n",
      "/var/folders/ns/2fdd2j7x5p3dcwpx64zbmjlm0000gn/T/ipykernel_89409/4048641647.py:6: PerformanceWarning: DataFrame is highly fragmented.  This is usually the result of calling `frame.insert` many times, which has poor performance.  Consider joining all columns at once using pd.concat(axis=1) instead. To get a de-fragmented frame, use `newframe = frame.copy()`\n",
      "  data_prepared[f\"avg_component_{i+1}\"] = average_components_array[:, i]\n",
      "/var/folders/ns/2fdd2j7x5p3dcwpx64zbmjlm0000gn/T/ipykernel_89409/4048641647.py:6: PerformanceWarning: DataFrame is highly fragmented.  This is usually the result of calling `frame.insert` many times, which has poor performance.  Consider joining all columns at once using pd.concat(axis=1) instead. To get a de-fragmented frame, use `newframe = frame.copy()`\n",
      "  data_prepared[f\"avg_component_{i+1}\"] = average_components_array[:, i]\n",
      "/var/folders/ns/2fdd2j7x5p3dcwpx64zbmjlm0000gn/T/ipykernel_89409/4048641647.py:6: PerformanceWarning: DataFrame is highly fragmented.  This is usually the result of calling `frame.insert` many times, which has poor performance.  Consider joining all columns at once using pd.concat(axis=1) instead. To get a de-fragmented frame, use `newframe = frame.copy()`\n",
      "  data_prepared[f\"avg_component_{i+1}\"] = average_components_array[:, i]\n",
      "/var/folders/ns/2fdd2j7x5p3dcwpx64zbmjlm0000gn/T/ipykernel_89409/4048641647.py:6: PerformanceWarning: DataFrame is highly fragmented.  This is usually the result of calling `frame.insert` many times, which has poor performance.  Consider joining all columns at once using pd.concat(axis=1) instead. To get a de-fragmented frame, use `newframe = frame.copy()`\n",
      "  data_prepared[f\"avg_component_{i+1}\"] = average_components_array[:, i]\n",
      "/var/folders/ns/2fdd2j7x5p3dcwpx64zbmjlm0000gn/T/ipykernel_89409/4048641647.py:6: PerformanceWarning: DataFrame is highly fragmented.  This is usually the result of calling `frame.insert` many times, which has poor performance.  Consider joining all columns at once using pd.concat(axis=1) instead. To get a de-fragmented frame, use `newframe = frame.copy()`\n",
      "  data_prepared[f\"avg_component_{i+1}\"] = average_components_array[:, i]\n",
      "/var/folders/ns/2fdd2j7x5p3dcwpx64zbmjlm0000gn/T/ipykernel_89409/4048641647.py:6: PerformanceWarning: DataFrame is highly fragmented.  This is usually the result of calling `frame.insert` many times, which has poor performance.  Consider joining all columns at once using pd.concat(axis=1) instead. To get a de-fragmented frame, use `newframe = frame.copy()`\n",
      "  data_prepared[f\"avg_component_{i+1}\"] = average_components_array[:, i]\n",
      "/var/folders/ns/2fdd2j7x5p3dcwpx64zbmjlm0000gn/T/ipykernel_89409/4048641647.py:6: PerformanceWarning: DataFrame is highly fragmented.  This is usually the result of calling `frame.insert` many times, which has poor performance.  Consider joining all columns at once using pd.concat(axis=1) instead. To get a de-fragmented frame, use `newframe = frame.copy()`\n",
      "  data_prepared[f\"avg_component_{i+1}\"] = average_components_array[:, i]\n",
      "/var/folders/ns/2fdd2j7x5p3dcwpx64zbmjlm0000gn/T/ipykernel_89409/4048641647.py:6: PerformanceWarning: DataFrame is highly fragmented.  This is usually the result of calling `frame.insert` many times, which has poor performance.  Consider joining all columns at once using pd.concat(axis=1) instead. To get a de-fragmented frame, use `newframe = frame.copy()`\n",
      "  data_prepared[f\"avg_component_{i+1}\"] = average_components_array[:, i]\n",
      "/var/folders/ns/2fdd2j7x5p3dcwpx64zbmjlm0000gn/T/ipykernel_89409/4048641647.py:6: PerformanceWarning: DataFrame is highly fragmented.  This is usually the result of calling `frame.insert` many times, which has poor performance.  Consider joining all columns at once using pd.concat(axis=1) instead. To get a de-fragmented frame, use `newframe = frame.copy()`\n",
      "  data_prepared[f\"avg_component_{i+1}\"] = average_components_array[:, i]\n",
      "/var/folders/ns/2fdd2j7x5p3dcwpx64zbmjlm0000gn/T/ipykernel_89409/4048641647.py:6: PerformanceWarning: DataFrame is highly fragmented.  This is usually the result of calling `frame.insert` many times, which has poor performance.  Consider joining all columns at once using pd.concat(axis=1) instead. To get a de-fragmented frame, use `newframe = frame.copy()`\n",
      "  data_prepared[f\"avg_component_{i+1}\"] = average_components_array[:, i]\n",
      "/var/folders/ns/2fdd2j7x5p3dcwpx64zbmjlm0000gn/T/ipykernel_89409/4048641647.py:6: PerformanceWarning: DataFrame is highly fragmented.  This is usually the result of calling `frame.insert` many times, which has poor performance.  Consider joining all columns at once using pd.concat(axis=1) instead. To get a de-fragmented frame, use `newframe = frame.copy()`\n",
      "  data_prepared[f\"avg_component_{i+1}\"] = average_components_array[:, i]\n",
      "/var/folders/ns/2fdd2j7x5p3dcwpx64zbmjlm0000gn/T/ipykernel_89409/4048641647.py:6: PerformanceWarning: DataFrame is highly fragmented.  This is usually the result of calling `frame.insert` many times, which has poor performance.  Consider joining all columns at once using pd.concat(axis=1) instead. To get a de-fragmented frame, use `newframe = frame.copy()`\n",
      "  data_prepared[f\"avg_component_{i+1}\"] = average_components_array[:, i]\n",
      "/var/folders/ns/2fdd2j7x5p3dcwpx64zbmjlm0000gn/T/ipykernel_89409/4048641647.py:6: PerformanceWarning: DataFrame is highly fragmented.  This is usually the result of calling `frame.insert` many times, which has poor performance.  Consider joining all columns at once using pd.concat(axis=1) instead. To get a de-fragmented frame, use `newframe = frame.copy()`\n",
      "  data_prepared[f\"avg_component_{i+1}\"] = average_components_array[:, i]\n",
      "/var/folders/ns/2fdd2j7x5p3dcwpx64zbmjlm0000gn/T/ipykernel_89409/4048641647.py:6: PerformanceWarning: DataFrame is highly fragmented.  This is usually the result of calling `frame.insert` many times, which has poor performance.  Consider joining all columns at once using pd.concat(axis=1) instead. To get a de-fragmented frame, use `newframe = frame.copy()`\n",
      "  data_prepared[f\"avg_component_{i+1}\"] = average_components_array[:, i]\n",
      "/var/folders/ns/2fdd2j7x5p3dcwpx64zbmjlm0000gn/T/ipykernel_89409/4048641647.py:6: PerformanceWarning: DataFrame is highly fragmented.  This is usually the result of calling `frame.insert` many times, which has poor performance.  Consider joining all columns at once using pd.concat(axis=1) instead. To get a de-fragmented frame, use `newframe = frame.copy()`\n",
      "  data_prepared[f\"avg_component_{i+1}\"] = average_components_array[:, i]\n",
      "/var/folders/ns/2fdd2j7x5p3dcwpx64zbmjlm0000gn/T/ipykernel_89409/4048641647.py:6: PerformanceWarning: DataFrame is highly fragmented.  This is usually the result of calling `frame.insert` many times, which has poor performance.  Consider joining all columns at once using pd.concat(axis=1) instead. To get a de-fragmented frame, use `newframe = frame.copy()`\n",
      "  data_prepared[f\"avg_component_{i+1}\"] = average_components_array[:, i]\n",
      "/var/folders/ns/2fdd2j7x5p3dcwpx64zbmjlm0000gn/T/ipykernel_89409/4048641647.py:6: PerformanceWarning: DataFrame is highly fragmented.  This is usually the result of calling `frame.insert` many times, which has poor performance.  Consider joining all columns at once using pd.concat(axis=1) instead. To get a de-fragmented frame, use `newframe = frame.copy()`\n",
      "  data_prepared[f\"avg_component_{i+1}\"] = average_components_array[:, i]\n",
      "/var/folders/ns/2fdd2j7x5p3dcwpx64zbmjlm0000gn/T/ipykernel_89409/4048641647.py:6: PerformanceWarning: DataFrame is highly fragmented.  This is usually the result of calling `frame.insert` many times, which has poor performance.  Consider joining all columns at once using pd.concat(axis=1) instead. To get a de-fragmented frame, use `newframe = frame.copy()`\n",
      "  data_prepared[f\"avg_component_{i+1}\"] = average_components_array[:, i]\n",
      "/var/folders/ns/2fdd2j7x5p3dcwpx64zbmjlm0000gn/T/ipykernel_89409/4048641647.py:6: PerformanceWarning: DataFrame is highly fragmented.  This is usually the result of calling `frame.insert` many times, which has poor performance.  Consider joining all columns at once using pd.concat(axis=1) instead. To get a de-fragmented frame, use `newframe = frame.copy()`\n",
      "  data_prepared[f\"avg_component_{i+1}\"] = average_components_array[:, i]\n",
      "/var/folders/ns/2fdd2j7x5p3dcwpx64zbmjlm0000gn/T/ipykernel_89409/4048641647.py:6: PerformanceWarning: DataFrame is highly fragmented.  This is usually the result of calling `frame.insert` many times, which has poor performance.  Consider joining all columns at once using pd.concat(axis=1) instead. To get a de-fragmented frame, use `newframe = frame.copy()`\n",
      "  data_prepared[f\"avg_component_{i+1}\"] = average_components_array[:, i]\n",
      "/var/folders/ns/2fdd2j7x5p3dcwpx64zbmjlm0000gn/T/ipykernel_89409/4048641647.py:6: PerformanceWarning: DataFrame is highly fragmented.  This is usually the result of calling `frame.insert` many times, which has poor performance.  Consider joining all columns at once using pd.concat(axis=1) instead. To get a de-fragmented frame, use `newframe = frame.copy()`\n",
      "  data_prepared[f\"avg_component_{i+1}\"] = average_components_array[:, i]\n",
      "/var/folders/ns/2fdd2j7x5p3dcwpx64zbmjlm0000gn/T/ipykernel_89409/4048641647.py:6: PerformanceWarning: DataFrame is highly fragmented.  This is usually the result of calling `frame.insert` many times, which has poor performance.  Consider joining all columns at once using pd.concat(axis=1) instead. To get a de-fragmented frame, use `newframe = frame.copy()`\n",
      "  data_prepared[f\"avg_component_{i+1}\"] = average_components_array[:, i]\n",
      "/var/folders/ns/2fdd2j7x5p3dcwpx64zbmjlm0000gn/T/ipykernel_89409/4048641647.py:6: PerformanceWarning: DataFrame is highly fragmented.  This is usually the result of calling `frame.insert` many times, which has poor performance.  Consider joining all columns at once using pd.concat(axis=1) instead. To get a de-fragmented frame, use `newframe = frame.copy()`\n",
      "  data_prepared[f\"avg_component_{i+1}\"] = average_components_array[:, i]\n",
      "/var/folders/ns/2fdd2j7x5p3dcwpx64zbmjlm0000gn/T/ipykernel_89409/4048641647.py:6: PerformanceWarning: DataFrame is highly fragmented.  This is usually the result of calling `frame.insert` many times, which has poor performance.  Consider joining all columns at once using pd.concat(axis=1) instead. To get a de-fragmented frame, use `newframe = frame.copy()`\n",
      "  data_prepared[f\"avg_component_{i+1}\"] = average_components_array[:, i]\n",
      "/var/folders/ns/2fdd2j7x5p3dcwpx64zbmjlm0000gn/T/ipykernel_89409/4048641647.py:6: PerformanceWarning: DataFrame is highly fragmented.  This is usually the result of calling `frame.insert` many times, which has poor performance.  Consider joining all columns at once using pd.concat(axis=1) instead. To get a de-fragmented frame, use `newframe = frame.copy()`\n",
      "  data_prepared[f\"avg_component_{i+1}\"] = average_components_array[:, i]\n",
      "/var/folders/ns/2fdd2j7x5p3dcwpx64zbmjlm0000gn/T/ipykernel_89409/4048641647.py:6: PerformanceWarning: DataFrame is highly fragmented.  This is usually the result of calling `frame.insert` many times, which has poor performance.  Consider joining all columns at once using pd.concat(axis=1) instead. To get a de-fragmented frame, use `newframe = frame.copy()`\n",
      "  data_prepared[f\"avg_component_{i+1}\"] = average_components_array[:, i]\n",
      "/var/folders/ns/2fdd2j7x5p3dcwpx64zbmjlm0000gn/T/ipykernel_89409/4048641647.py:6: PerformanceWarning: DataFrame is highly fragmented.  This is usually the result of calling `frame.insert` many times, which has poor performance.  Consider joining all columns at once using pd.concat(axis=1) instead. To get a de-fragmented frame, use `newframe = frame.copy()`\n",
      "  data_prepared[f\"avg_component_{i+1}\"] = average_components_array[:, i]\n",
      "/var/folders/ns/2fdd2j7x5p3dcwpx64zbmjlm0000gn/T/ipykernel_89409/4048641647.py:6: PerformanceWarning: DataFrame is highly fragmented.  This is usually the result of calling `frame.insert` many times, which has poor performance.  Consider joining all columns at once using pd.concat(axis=1) instead. To get a de-fragmented frame, use `newframe = frame.copy()`\n",
      "  data_prepared[f\"avg_component_{i+1}\"] = average_components_array[:, i]\n",
      "/var/folders/ns/2fdd2j7x5p3dcwpx64zbmjlm0000gn/T/ipykernel_89409/4048641647.py:6: PerformanceWarning: DataFrame is highly fragmented.  This is usually the result of calling `frame.insert` many times, which has poor performance.  Consider joining all columns at once using pd.concat(axis=1) instead. To get a de-fragmented frame, use `newframe = frame.copy()`\n",
      "  data_prepared[f\"avg_component_{i+1}\"] = average_components_array[:, i]\n",
      "/var/folders/ns/2fdd2j7x5p3dcwpx64zbmjlm0000gn/T/ipykernel_89409/4048641647.py:6: PerformanceWarning: DataFrame is highly fragmented.  This is usually the result of calling `frame.insert` many times, which has poor performance.  Consider joining all columns at once using pd.concat(axis=1) instead. To get a de-fragmented frame, use `newframe = frame.copy()`\n",
      "  data_prepared[f\"avg_component_{i+1}\"] = average_components_array[:, i]\n",
      "/var/folders/ns/2fdd2j7x5p3dcwpx64zbmjlm0000gn/T/ipykernel_89409/4048641647.py:6: PerformanceWarning: DataFrame is highly fragmented.  This is usually the result of calling `frame.insert` many times, which has poor performance.  Consider joining all columns at once using pd.concat(axis=1) instead. To get a de-fragmented frame, use `newframe = frame.copy()`\n",
      "  data_prepared[f\"avg_component_{i+1}\"] = average_components_array[:, i]\n",
      "/var/folders/ns/2fdd2j7x5p3dcwpx64zbmjlm0000gn/T/ipykernel_89409/4048641647.py:6: PerformanceWarning: DataFrame is highly fragmented.  This is usually the result of calling `frame.insert` many times, which has poor performance.  Consider joining all columns at once using pd.concat(axis=1) instead. To get a de-fragmented frame, use `newframe = frame.copy()`\n",
      "  data_prepared[f\"avg_component_{i+1}\"] = average_components_array[:, i]\n",
      "/var/folders/ns/2fdd2j7x5p3dcwpx64zbmjlm0000gn/T/ipykernel_89409/4048641647.py:6: PerformanceWarning: DataFrame is highly fragmented.  This is usually the result of calling `frame.insert` many times, which has poor performance.  Consider joining all columns at once using pd.concat(axis=1) instead. To get a de-fragmented frame, use `newframe = frame.copy()`\n",
      "  data_prepared[f\"avg_component_{i+1}\"] = average_components_array[:, i]\n",
      "/var/folders/ns/2fdd2j7x5p3dcwpx64zbmjlm0000gn/T/ipykernel_89409/4048641647.py:6: PerformanceWarning: DataFrame is highly fragmented.  This is usually the result of calling `frame.insert` many times, which has poor performance.  Consider joining all columns at once using pd.concat(axis=1) instead. To get a de-fragmented frame, use `newframe = frame.copy()`\n",
      "  data_prepared[f\"avg_component_{i+1}\"] = average_components_array[:, i]\n",
      "/var/folders/ns/2fdd2j7x5p3dcwpx64zbmjlm0000gn/T/ipykernel_89409/4048641647.py:6: PerformanceWarning: DataFrame is highly fragmented.  This is usually the result of calling `frame.insert` many times, which has poor performance.  Consider joining all columns at once using pd.concat(axis=1) instead. To get a de-fragmented frame, use `newframe = frame.copy()`\n",
      "  data_prepared[f\"avg_component_{i+1}\"] = average_components_array[:, i]\n",
      "/var/folders/ns/2fdd2j7x5p3dcwpx64zbmjlm0000gn/T/ipykernel_89409/4048641647.py:6: PerformanceWarning: DataFrame is highly fragmented.  This is usually the result of calling `frame.insert` many times, which has poor performance.  Consider joining all columns at once using pd.concat(axis=1) instead. To get a de-fragmented frame, use `newframe = frame.copy()`\n",
      "  data_prepared[f\"avg_component_{i+1}\"] = average_components_array[:, i]\n",
      "/var/folders/ns/2fdd2j7x5p3dcwpx64zbmjlm0000gn/T/ipykernel_89409/4048641647.py:6: PerformanceWarning: DataFrame is highly fragmented.  This is usually the result of calling `frame.insert` many times, which has poor performance.  Consider joining all columns at once using pd.concat(axis=1) instead. To get a de-fragmented frame, use `newframe = frame.copy()`\n",
      "  data_prepared[f\"avg_component_{i+1}\"] = average_components_array[:, i]\n",
      "/var/folders/ns/2fdd2j7x5p3dcwpx64zbmjlm0000gn/T/ipykernel_89409/4048641647.py:6: PerformanceWarning: DataFrame is highly fragmented.  This is usually the result of calling `frame.insert` many times, which has poor performance.  Consider joining all columns at once using pd.concat(axis=1) instead. To get a de-fragmented frame, use `newframe = frame.copy()`\n",
      "  data_prepared[f\"avg_component_{i+1}\"] = average_components_array[:, i]\n",
      "/var/folders/ns/2fdd2j7x5p3dcwpx64zbmjlm0000gn/T/ipykernel_89409/4048641647.py:6: PerformanceWarning: DataFrame is highly fragmented.  This is usually the result of calling `frame.insert` many times, which has poor performance.  Consider joining all columns at once using pd.concat(axis=1) instead. To get a de-fragmented frame, use `newframe = frame.copy()`\n",
      "  data_prepared[f\"avg_component_{i+1}\"] = average_components_array[:, i]\n",
      "/var/folders/ns/2fdd2j7x5p3dcwpx64zbmjlm0000gn/T/ipykernel_89409/4048641647.py:6: PerformanceWarning: DataFrame is highly fragmented.  This is usually the result of calling `frame.insert` many times, which has poor performance.  Consider joining all columns at once using pd.concat(axis=1) instead. To get a de-fragmented frame, use `newframe = frame.copy()`\n",
      "  data_prepared[f\"avg_component_{i+1}\"] = average_components_array[:, i]\n",
      "/var/folders/ns/2fdd2j7x5p3dcwpx64zbmjlm0000gn/T/ipykernel_89409/4048641647.py:6: PerformanceWarning: DataFrame is highly fragmented.  This is usually the result of calling `frame.insert` many times, which has poor performance.  Consider joining all columns at once using pd.concat(axis=1) instead. To get a de-fragmented frame, use `newframe = frame.copy()`\n",
      "  data_prepared[f\"avg_component_{i+1}\"] = average_components_array[:, i]\n",
      "/var/folders/ns/2fdd2j7x5p3dcwpx64zbmjlm0000gn/T/ipykernel_89409/4048641647.py:6: PerformanceWarning: DataFrame is highly fragmented.  This is usually the result of calling `frame.insert` many times, which has poor performance.  Consider joining all columns at once using pd.concat(axis=1) instead. To get a de-fragmented frame, use `newframe = frame.copy()`\n",
      "  data_prepared[f\"avg_component_{i+1}\"] = average_components_array[:, i]\n",
      "/var/folders/ns/2fdd2j7x5p3dcwpx64zbmjlm0000gn/T/ipykernel_89409/4048641647.py:6: PerformanceWarning: DataFrame is highly fragmented.  This is usually the result of calling `frame.insert` many times, which has poor performance.  Consider joining all columns at once using pd.concat(axis=1) instead. To get a de-fragmented frame, use `newframe = frame.copy()`\n",
      "  data_prepared[f\"avg_component_{i+1}\"] = average_components_array[:, i]\n",
      "/var/folders/ns/2fdd2j7x5p3dcwpx64zbmjlm0000gn/T/ipykernel_89409/4048641647.py:6: PerformanceWarning: DataFrame is highly fragmented.  This is usually the result of calling `frame.insert` many times, which has poor performance.  Consider joining all columns at once using pd.concat(axis=1) instead. To get a de-fragmented frame, use `newframe = frame.copy()`\n",
      "  data_prepared[f\"avg_component_{i+1}\"] = average_components_array[:, i]\n",
      "/var/folders/ns/2fdd2j7x5p3dcwpx64zbmjlm0000gn/T/ipykernel_89409/4048641647.py:6: PerformanceWarning: DataFrame is highly fragmented.  This is usually the result of calling `frame.insert` many times, which has poor performance.  Consider joining all columns at once using pd.concat(axis=1) instead. To get a de-fragmented frame, use `newframe = frame.copy()`\n",
      "  data_prepared[f\"avg_component_{i+1}\"] = average_components_array[:, i]\n",
      "/var/folders/ns/2fdd2j7x5p3dcwpx64zbmjlm0000gn/T/ipykernel_89409/4048641647.py:6: PerformanceWarning: DataFrame is highly fragmented.  This is usually the result of calling `frame.insert` many times, which has poor performance.  Consider joining all columns at once using pd.concat(axis=1) instead. To get a de-fragmented frame, use `newframe = frame.copy()`\n",
      "  data_prepared[f\"avg_component_{i+1}\"] = average_components_array[:, i]\n",
      "/var/folders/ns/2fdd2j7x5p3dcwpx64zbmjlm0000gn/T/ipykernel_89409/4048641647.py:6: PerformanceWarning: DataFrame is highly fragmented.  This is usually the result of calling `frame.insert` many times, which has poor performance.  Consider joining all columns at once using pd.concat(axis=1) instead. To get a de-fragmented frame, use `newframe = frame.copy()`\n",
      "  data_prepared[f\"avg_component_{i+1}\"] = average_components_array[:, i]\n",
      "/var/folders/ns/2fdd2j7x5p3dcwpx64zbmjlm0000gn/T/ipykernel_89409/4048641647.py:6: PerformanceWarning: DataFrame is highly fragmented.  This is usually the result of calling `frame.insert` many times, which has poor performance.  Consider joining all columns at once using pd.concat(axis=1) instead. To get a de-fragmented frame, use `newframe = frame.copy()`\n",
      "  data_prepared[f\"avg_component_{i+1}\"] = average_components_array[:, i]\n",
      "/var/folders/ns/2fdd2j7x5p3dcwpx64zbmjlm0000gn/T/ipykernel_89409/4048641647.py:6: PerformanceWarning: DataFrame is highly fragmented.  This is usually the result of calling `frame.insert` many times, which has poor performance.  Consider joining all columns at once using pd.concat(axis=1) instead. To get a de-fragmented frame, use `newframe = frame.copy()`\n",
      "  data_prepared[f\"avg_component_{i+1}\"] = average_components_array[:, i]\n",
      "/var/folders/ns/2fdd2j7x5p3dcwpx64zbmjlm0000gn/T/ipykernel_89409/4048641647.py:6: PerformanceWarning: DataFrame is highly fragmented.  This is usually the result of calling `frame.insert` many times, which has poor performance.  Consider joining all columns at once using pd.concat(axis=1) instead. To get a de-fragmented frame, use `newframe = frame.copy()`\n",
      "  data_prepared[f\"avg_component_{i+1}\"] = average_components_array[:, i]\n",
      "/var/folders/ns/2fdd2j7x5p3dcwpx64zbmjlm0000gn/T/ipykernel_89409/4048641647.py:6: PerformanceWarning: DataFrame is highly fragmented.  This is usually the result of calling `frame.insert` many times, which has poor performance.  Consider joining all columns at once using pd.concat(axis=1) instead. To get a de-fragmented frame, use `newframe = frame.copy()`\n",
      "  data_prepared[f\"avg_component_{i+1}\"] = average_components_array[:, i]\n",
      "/var/folders/ns/2fdd2j7x5p3dcwpx64zbmjlm0000gn/T/ipykernel_89409/4048641647.py:6: PerformanceWarning: DataFrame is highly fragmented.  This is usually the result of calling `frame.insert` many times, which has poor performance.  Consider joining all columns at once using pd.concat(axis=1) instead. To get a de-fragmented frame, use `newframe = frame.copy()`\n",
      "  data_prepared[f\"avg_component_{i+1}\"] = average_components_array[:, i]\n",
      "/var/folders/ns/2fdd2j7x5p3dcwpx64zbmjlm0000gn/T/ipykernel_89409/4048641647.py:6: PerformanceWarning: DataFrame is highly fragmented.  This is usually the result of calling `frame.insert` many times, which has poor performance.  Consider joining all columns at once using pd.concat(axis=1) instead. To get a de-fragmented frame, use `newframe = frame.copy()`\n",
      "  data_prepared[f\"avg_component_{i+1}\"] = average_components_array[:, i]\n",
      "/var/folders/ns/2fdd2j7x5p3dcwpx64zbmjlm0000gn/T/ipykernel_89409/4048641647.py:6: PerformanceWarning: DataFrame is highly fragmented.  This is usually the result of calling `frame.insert` many times, which has poor performance.  Consider joining all columns at once using pd.concat(axis=1) instead. To get a de-fragmented frame, use `newframe = frame.copy()`\n",
      "  data_prepared[f\"avg_component_{i+1}\"] = average_components_array[:, i]\n",
      "/var/folders/ns/2fdd2j7x5p3dcwpx64zbmjlm0000gn/T/ipykernel_89409/4048641647.py:6: PerformanceWarning: DataFrame is highly fragmented.  This is usually the result of calling `frame.insert` many times, which has poor performance.  Consider joining all columns at once using pd.concat(axis=1) instead. To get a de-fragmented frame, use `newframe = frame.copy()`\n",
      "  data_prepared[f\"avg_component_{i+1}\"] = average_components_array[:, i]\n",
      "/var/folders/ns/2fdd2j7x5p3dcwpx64zbmjlm0000gn/T/ipykernel_89409/4048641647.py:6: PerformanceWarning: DataFrame is highly fragmented.  This is usually the result of calling `frame.insert` many times, which has poor performance.  Consider joining all columns at once using pd.concat(axis=1) instead. To get a de-fragmented frame, use `newframe = frame.copy()`\n",
      "  data_prepared[f\"avg_component_{i+1}\"] = average_components_array[:, i]\n",
      "/var/folders/ns/2fdd2j7x5p3dcwpx64zbmjlm0000gn/T/ipykernel_89409/4048641647.py:6: PerformanceWarning: DataFrame is highly fragmented.  This is usually the result of calling `frame.insert` many times, which has poor performance.  Consider joining all columns at once using pd.concat(axis=1) instead. To get a de-fragmented frame, use `newframe = frame.copy()`\n",
      "  data_prepared[f\"avg_component_{i+1}\"] = average_components_array[:, i]\n",
      "/var/folders/ns/2fdd2j7x5p3dcwpx64zbmjlm0000gn/T/ipykernel_89409/4048641647.py:6: PerformanceWarning: DataFrame is highly fragmented.  This is usually the result of calling `frame.insert` many times, which has poor performance.  Consider joining all columns at once using pd.concat(axis=1) instead. To get a de-fragmented frame, use `newframe = frame.copy()`\n",
      "  data_prepared[f\"avg_component_{i+1}\"] = average_components_array[:, i]\n",
      "/var/folders/ns/2fdd2j7x5p3dcwpx64zbmjlm0000gn/T/ipykernel_89409/4048641647.py:6: PerformanceWarning: DataFrame is highly fragmented.  This is usually the result of calling `frame.insert` many times, which has poor performance.  Consider joining all columns at once using pd.concat(axis=1) instead. To get a de-fragmented frame, use `newframe = frame.copy()`\n",
      "  data_prepared[f\"avg_component_{i+1}\"] = average_components_array[:, i]\n",
      "/var/folders/ns/2fdd2j7x5p3dcwpx64zbmjlm0000gn/T/ipykernel_89409/4048641647.py:6: PerformanceWarning: DataFrame is highly fragmented.  This is usually the result of calling `frame.insert` many times, which has poor performance.  Consider joining all columns at once using pd.concat(axis=1) instead. To get a de-fragmented frame, use `newframe = frame.copy()`\n",
      "  data_prepared[f\"avg_component_{i+1}\"] = average_components_array[:, i]\n",
      "/var/folders/ns/2fdd2j7x5p3dcwpx64zbmjlm0000gn/T/ipykernel_89409/4048641647.py:6: PerformanceWarning: DataFrame is highly fragmented.  This is usually the result of calling `frame.insert` many times, which has poor performance.  Consider joining all columns at once using pd.concat(axis=1) instead. To get a de-fragmented frame, use `newframe = frame.copy()`\n",
      "  data_prepared[f\"avg_component_{i+1}\"] = average_components_array[:, i]\n",
      "/var/folders/ns/2fdd2j7x5p3dcwpx64zbmjlm0000gn/T/ipykernel_89409/4048641647.py:6: PerformanceWarning: DataFrame is highly fragmented.  This is usually the result of calling `frame.insert` many times, which has poor performance.  Consider joining all columns at once using pd.concat(axis=1) instead. To get a de-fragmented frame, use `newframe = frame.copy()`\n",
      "  data_prepared[f\"avg_component_{i+1}\"] = average_components_array[:, i]\n",
      "/var/folders/ns/2fdd2j7x5p3dcwpx64zbmjlm0000gn/T/ipykernel_89409/4048641647.py:6: PerformanceWarning: DataFrame is highly fragmented.  This is usually the result of calling `frame.insert` many times, which has poor performance.  Consider joining all columns at once using pd.concat(axis=1) instead. To get a de-fragmented frame, use `newframe = frame.copy()`\n",
      "  data_prepared[f\"avg_component_{i+1}\"] = average_components_array[:, i]\n",
      "/var/folders/ns/2fdd2j7x5p3dcwpx64zbmjlm0000gn/T/ipykernel_89409/4048641647.py:6: PerformanceWarning: DataFrame is highly fragmented.  This is usually the result of calling `frame.insert` many times, which has poor performance.  Consider joining all columns at once using pd.concat(axis=1) instead. To get a de-fragmented frame, use `newframe = frame.copy()`\n",
      "  data_prepared[f\"avg_component_{i+1}\"] = average_components_array[:, i]\n",
      "/var/folders/ns/2fdd2j7x5p3dcwpx64zbmjlm0000gn/T/ipykernel_89409/4048641647.py:6: PerformanceWarning: DataFrame is highly fragmented.  This is usually the result of calling `frame.insert` many times, which has poor performance.  Consider joining all columns at once using pd.concat(axis=1) instead. To get a de-fragmented frame, use `newframe = frame.copy()`\n",
      "  data_prepared[f\"avg_component_{i+1}\"] = average_components_array[:, i]\n",
      "/var/folders/ns/2fdd2j7x5p3dcwpx64zbmjlm0000gn/T/ipykernel_89409/4048641647.py:6: PerformanceWarning: DataFrame is highly fragmented.  This is usually the result of calling `frame.insert` many times, which has poor performance.  Consider joining all columns at once using pd.concat(axis=1) instead. To get a de-fragmented frame, use `newframe = frame.copy()`\n",
      "  data_prepared[f\"avg_component_{i+1}\"] = average_components_array[:, i]\n",
      "/var/folders/ns/2fdd2j7x5p3dcwpx64zbmjlm0000gn/T/ipykernel_89409/4048641647.py:6: PerformanceWarning: DataFrame is highly fragmented.  This is usually the result of calling `frame.insert` many times, which has poor performance.  Consider joining all columns at once using pd.concat(axis=1) instead. To get a de-fragmented frame, use `newframe = frame.copy()`\n",
      "  data_prepared[f\"avg_component_{i+1}\"] = average_components_array[:, i]\n",
      "/var/folders/ns/2fdd2j7x5p3dcwpx64zbmjlm0000gn/T/ipykernel_89409/4048641647.py:6: PerformanceWarning: DataFrame is highly fragmented.  This is usually the result of calling `frame.insert` many times, which has poor performance.  Consider joining all columns at once using pd.concat(axis=1) instead. To get a de-fragmented frame, use `newframe = frame.copy()`\n",
      "  data_prepared[f\"avg_component_{i+1}\"] = average_components_array[:, i]\n",
      "/var/folders/ns/2fdd2j7x5p3dcwpx64zbmjlm0000gn/T/ipykernel_89409/4048641647.py:6: PerformanceWarning: DataFrame is highly fragmented.  This is usually the result of calling `frame.insert` many times, which has poor performance.  Consider joining all columns at once using pd.concat(axis=1) instead. To get a de-fragmented frame, use `newframe = frame.copy()`\n",
      "  data_prepared[f\"avg_component_{i+1}\"] = average_components_array[:, i]\n",
      "/var/folders/ns/2fdd2j7x5p3dcwpx64zbmjlm0000gn/T/ipykernel_89409/4048641647.py:6: PerformanceWarning: DataFrame is highly fragmented.  This is usually the result of calling `frame.insert` many times, which has poor performance.  Consider joining all columns at once using pd.concat(axis=1) instead. To get a de-fragmented frame, use `newframe = frame.copy()`\n",
      "  data_prepared[f\"avg_component_{i+1}\"] = average_components_array[:, i]\n",
      "/var/folders/ns/2fdd2j7x5p3dcwpx64zbmjlm0000gn/T/ipykernel_89409/4048641647.py:6: PerformanceWarning: DataFrame is highly fragmented.  This is usually the result of calling `frame.insert` many times, which has poor performance.  Consider joining all columns at once using pd.concat(axis=1) instead. To get a de-fragmented frame, use `newframe = frame.copy()`\n",
      "  data_prepared[f\"avg_component_{i+1}\"] = average_components_array[:, i]\n",
      "/var/folders/ns/2fdd2j7x5p3dcwpx64zbmjlm0000gn/T/ipykernel_89409/4048641647.py:6: PerformanceWarning: DataFrame is highly fragmented.  This is usually the result of calling `frame.insert` many times, which has poor performance.  Consider joining all columns at once using pd.concat(axis=1) instead. To get a de-fragmented frame, use `newframe = frame.copy()`\n",
      "  data_prepared[f\"avg_component_{i+1}\"] = average_components_array[:, i]\n",
      "/var/folders/ns/2fdd2j7x5p3dcwpx64zbmjlm0000gn/T/ipykernel_89409/4048641647.py:6: PerformanceWarning: DataFrame is highly fragmented.  This is usually the result of calling `frame.insert` many times, which has poor performance.  Consider joining all columns at once using pd.concat(axis=1) instead. To get a de-fragmented frame, use `newframe = frame.copy()`\n",
      "  data_prepared[f\"avg_component_{i+1}\"] = average_components_array[:, i]\n",
      "/var/folders/ns/2fdd2j7x5p3dcwpx64zbmjlm0000gn/T/ipykernel_89409/4048641647.py:6: PerformanceWarning: DataFrame is highly fragmented.  This is usually the result of calling `frame.insert` many times, which has poor performance.  Consider joining all columns at once using pd.concat(axis=1) instead. To get a de-fragmented frame, use `newframe = frame.copy()`\n",
      "  data_prepared[f\"avg_component_{i+1}\"] = average_components_array[:, i]\n",
      "/var/folders/ns/2fdd2j7x5p3dcwpx64zbmjlm0000gn/T/ipykernel_89409/4048641647.py:6: PerformanceWarning: DataFrame is highly fragmented.  This is usually the result of calling `frame.insert` many times, which has poor performance.  Consider joining all columns at once using pd.concat(axis=1) instead. To get a de-fragmented frame, use `newframe = frame.copy()`\n",
      "  data_prepared[f\"avg_component_{i+1}\"] = average_components_array[:, i]\n",
      "/var/folders/ns/2fdd2j7x5p3dcwpx64zbmjlm0000gn/T/ipykernel_89409/4048641647.py:6: PerformanceWarning: DataFrame is highly fragmented.  This is usually the result of calling `frame.insert` many times, which has poor performance.  Consider joining all columns at once using pd.concat(axis=1) instead. To get a de-fragmented frame, use `newframe = frame.copy()`\n",
      "  data_prepared[f\"avg_component_{i+1}\"] = average_components_array[:, i]\n",
      "/var/folders/ns/2fdd2j7x5p3dcwpx64zbmjlm0000gn/T/ipykernel_89409/4048641647.py:6: PerformanceWarning: DataFrame is highly fragmented.  This is usually the result of calling `frame.insert` many times, which has poor performance.  Consider joining all columns at once using pd.concat(axis=1) instead. To get a de-fragmented frame, use `newframe = frame.copy()`\n",
      "  data_prepared[f\"avg_component_{i+1}\"] = average_components_array[:, i]\n",
      "/var/folders/ns/2fdd2j7x5p3dcwpx64zbmjlm0000gn/T/ipykernel_89409/4048641647.py:6: PerformanceWarning: DataFrame is highly fragmented.  This is usually the result of calling `frame.insert` many times, which has poor performance.  Consider joining all columns at once using pd.concat(axis=1) instead. To get a de-fragmented frame, use `newframe = frame.copy()`\n",
      "  data_prepared[f\"avg_component_{i+1}\"] = average_components_array[:, i]\n",
      "/var/folders/ns/2fdd2j7x5p3dcwpx64zbmjlm0000gn/T/ipykernel_89409/4048641647.py:6: PerformanceWarning: DataFrame is highly fragmented.  This is usually the result of calling `frame.insert` many times, which has poor performance.  Consider joining all columns at once using pd.concat(axis=1) instead. To get a de-fragmented frame, use `newframe = frame.copy()`\n",
      "  data_prepared[f\"avg_component_{i+1}\"] = average_components_array[:, i]\n",
      "/var/folders/ns/2fdd2j7x5p3dcwpx64zbmjlm0000gn/T/ipykernel_89409/4048641647.py:6: PerformanceWarning: DataFrame is highly fragmented.  This is usually the result of calling `frame.insert` many times, which has poor performance.  Consider joining all columns at once using pd.concat(axis=1) instead. To get a de-fragmented frame, use `newframe = frame.copy()`\n",
      "  data_prepared[f\"avg_component_{i+1}\"] = average_components_array[:, i]\n",
      "/var/folders/ns/2fdd2j7x5p3dcwpx64zbmjlm0000gn/T/ipykernel_89409/4048641647.py:6: PerformanceWarning: DataFrame is highly fragmented.  This is usually the result of calling `frame.insert` many times, which has poor performance.  Consider joining all columns at once using pd.concat(axis=1) instead. To get a de-fragmented frame, use `newframe = frame.copy()`\n",
      "  data_prepared[f\"avg_component_{i+1}\"] = average_components_array[:, i]\n",
      "/var/folders/ns/2fdd2j7x5p3dcwpx64zbmjlm0000gn/T/ipykernel_89409/4048641647.py:6: PerformanceWarning: DataFrame is highly fragmented.  This is usually the result of calling `frame.insert` many times, which has poor performance.  Consider joining all columns at once using pd.concat(axis=1) instead. To get a de-fragmented frame, use `newframe = frame.copy()`\n",
      "  data_prepared[f\"avg_component_{i+1}\"] = average_components_array[:, i]\n",
      "/var/folders/ns/2fdd2j7x5p3dcwpx64zbmjlm0000gn/T/ipykernel_89409/4048641647.py:6: PerformanceWarning: DataFrame is highly fragmented.  This is usually the result of calling `frame.insert` many times, which has poor performance.  Consider joining all columns at once using pd.concat(axis=1) instead. To get a de-fragmented frame, use `newframe = frame.copy()`\n",
      "  data_prepared[f\"avg_component_{i+1}\"] = average_components_array[:, i]\n",
      "/var/folders/ns/2fdd2j7x5p3dcwpx64zbmjlm0000gn/T/ipykernel_89409/4048641647.py:6: PerformanceWarning: DataFrame is highly fragmented.  This is usually the result of calling `frame.insert` many times, which has poor performance.  Consider joining all columns at once using pd.concat(axis=1) instead. To get a de-fragmented frame, use `newframe = frame.copy()`\n",
      "  data_prepared[f\"avg_component_{i+1}\"] = average_components_array[:, i]\n",
      "/var/folders/ns/2fdd2j7x5p3dcwpx64zbmjlm0000gn/T/ipykernel_89409/4048641647.py:6: PerformanceWarning: DataFrame is highly fragmented.  This is usually the result of calling `frame.insert` many times, which has poor performance.  Consider joining all columns at once using pd.concat(axis=1) instead. To get a de-fragmented frame, use `newframe = frame.copy()`\n",
      "  data_prepared[f\"avg_component_{i+1}\"] = average_components_array[:, i]\n",
      "/var/folders/ns/2fdd2j7x5p3dcwpx64zbmjlm0000gn/T/ipykernel_89409/4048641647.py:6: PerformanceWarning: DataFrame is highly fragmented.  This is usually the result of calling `frame.insert` many times, which has poor performance.  Consider joining all columns at once using pd.concat(axis=1) instead. To get a de-fragmented frame, use `newframe = frame.copy()`\n",
      "  data_prepared[f\"avg_component_{i+1}\"] = average_components_array[:, i]\n",
      "/var/folders/ns/2fdd2j7x5p3dcwpx64zbmjlm0000gn/T/ipykernel_89409/4048641647.py:6: PerformanceWarning: DataFrame is highly fragmented.  This is usually the result of calling `frame.insert` many times, which has poor performance.  Consider joining all columns at once using pd.concat(axis=1) instead. To get a de-fragmented frame, use `newframe = frame.copy()`\n",
      "  data_prepared[f\"avg_component_{i+1}\"] = average_components_array[:, i]\n",
      "/var/folders/ns/2fdd2j7x5p3dcwpx64zbmjlm0000gn/T/ipykernel_89409/4048641647.py:6: PerformanceWarning: DataFrame is highly fragmented.  This is usually the result of calling `frame.insert` many times, which has poor performance.  Consider joining all columns at once using pd.concat(axis=1) instead. To get a de-fragmented frame, use `newframe = frame.copy()`\n",
      "  data_prepared[f\"avg_component_{i+1}\"] = average_components_array[:, i]\n",
      "/var/folders/ns/2fdd2j7x5p3dcwpx64zbmjlm0000gn/T/ipykernel_89409/4048641647.py:6: PerformanceWarning: DataFrame is highly fragmented.  This is usually the result of calling `frame.insert` many times, which has poor performance.  Consider joining all columns at once using pd.concat(axis=1) instead. To get a de-fragmented frame, use `newframe = frame.copy()`\n",
      "  data_prepared[f\"avg_component_{i+1}\"] = average_components_array[:, i]\n",
      "/var/folders/ns/2fdd2j7x5p3dcwpx64zbmjlm0000gn/T/ipykernel_89409/4048641647.py:6: PerformanceWarning: DataFrame is highly fragmented.  This is usually the result of calling `frame.insert` many times, which has poor performance.  Consider joining all columns at once using pd.concat(axis=1) instead. To get a de-fragmented frame, use `newframe = frame.copy()`\n",
      "  data_prepared[f\"avg_component_{i+1}\"] = average_components_array[:, i]\n",
      "/var/folders/ns/2fdd2j7x5p3dcwpx64zbmjlm0000gn/T/ipykernel_89409/4048641647.py:6: PerformanceWarning: DataFrame is highly fragmented.  This is usually the result of calling `frame.insert` many times, which has poor performance.  Consider joining all columns at once using pd.concat(axis=1) instead. To get a de-fragmented frame, use `newframe = frame.copy()`\n",
      "  data_prepared[f\"avg_component_{i+1}\"] = average_components_array[:, i]\n",
      "/var/folders/ns/2fdd2j7x5p3dcwpx64zbmjlm0000gn/T/ipykernel_89409/4048641647.py:6: PerformanceWarning: DataFrame is highly fragmented.  This is usually the result of calling `frame.insert` many times, which has poor performance.  Consider joining all columns at once using pd.concat(axis=1) instead. To get a de-fragmented frame, use `newframe = frame.copy()`\n",
      "  data_prepared[f\"avg_component_{i+1}\"] = average_components_array[:, i]\n",
      "/var/folders/ns/2fdd2j7x5p3dcwpx64zbmjlm0000gn/T/ipykernel_89409/4048641647.py:6: PerformanceWarning: DataFrame is highly fragmented.  This is usually the result of calling `frame.insert` many times, which has poor performance.  Consider joining all columns at once using pd.concat(axis=1) instead. To get a de-fragmented frame, use `newframe = frame.copy()`\n",
      "  data_prepared[f\"avg_component_{i+1}\"] = average_components_array[:, i]\n",
      "/var/folders/ns/2fdd2j7x5p3dcwpx64zbmjlm0000gn/T/ipykernel_89409/4048641647.py:6: PerformanceWarning: DataFrame is highly fragmented.  This is usually the result of calling `frame.insert` many times, which has poor performance.  Consider joining all columns at once using pd.concat(axis=1) instead. To get a de-fragmented frame, use `newframe = frame.copy()`\n",
      "  data_prepared[f\"avg_component_{i+1}\"] = average_components_array[:, i]\n",
      "/var/folders/ns/2fdd2j7x5p3dcwpx64zbmjlm0000gn/T/ipykernel_89409/4048641647.py:6: PerformanceWarning: DataFrame is highly fragmented.  This is usually the result of calling `frame.insert` many times, which has poor performance.  Consider joining all columns at once using pd.concat(axis=1) instead. To get a de-fragmented frame, use `newframe = frame.copy()`\n",
      "  data_prepared[f\"avg_component_{i+1}\"] = average_components_array[:, i]\n",
      "/var/folders/ns/2fdd2j7x5p3dcwpx64zbmjlm0000gn/T/ipykernel_89409/4048641647.py:6: PerformanceWarning: DataFrame is highly fragmented.  This is usually the result of calling `frame.insert` many times, which has poor performance.  Consider joining all columns at once using pd.concat(axis=1) instead. To get a de-fragmented frame, use `newframe = frame.copy()`\n",
      "  data_prepared[f\"avg_component_{i+1}\"] = average_components_array[:, i]\n",
      "/var/folders/ns/2fdd2j7x5p3dcwpx64zbmjlm0000gn/T/ipykernel_89409/4048641647.py:6: PerformanceWarning: DataFrame is highly fragmented.  This is usually the result of calling `frame.insert` many times, which has poor performance.  Consider joining all columns at once using pd.concat(axis=1) instead. To get a de-fragmented frame, use `newframe = frame.copy()`\n",
      "  data_prepared[f\"avg_component_{i+1}\"] = average_components_array[:, i]\n",
      "/var/folders/ns/2fdd2j7x5p3dcwpx64zbmjlm0000gn/T/ipykernel_89409/4048641647.py:6: PerformanceWarning: DataFrame is highly fragmented.  This is usually the result of calling `frame.insert` many times, which has poor performance.  Consider joining all columns at once using pd.concat(axis=1) instead. To get a de-fragmented frame, use `newframe = frame.copy()`\n",
      "  data_prepared[f\"avg_component_{i+1}\"] = average_components_array[:, i]\n",
      "/var/folders/ns/2fdd2j7x5p3dcwpx64zbmjlm0000gn/T/ipykernel_89409/4048641647.py:6: PerformanceWarning: DataFrame is highly fragmented.  This is usually the result of calling `frame.insert` many times, which has poor performance.  Consider joining all columns at once using pd.concat(axis=1) instead. To get a de-fragmented frame, use `newframe = frame.copy()`\n",
      "  data_prepared[f\"avg_component_{i+1}\"] = average_components_array[:, i]\n",
      "/var/folders/ns/2fdd2j7x5p3dcwpx64zbmjlm0000gn/T/ipykernel_89409/4048641647.py:6: PerformanceWarning: DataFrame is highly fragmented.  This is usually the result of calling `frame.insert` many times, which has poor performance.  Consider joining all columns at once using pd.concat(axis=1) instead. To get a de-fragmented frame, use `newframe = frame.copy()`\n",
      "  data_prepared[f\"avg_component_{i+1}\"] = average_components_array[:, i]\n",
      "/var/folders/ns/2fdd2j7x5p3dcwpx64zbmjlm0000gn/T/ipykernel_89409/4048641647.py:6: PerformanceWarning: DataFrame is highly fragmented.  This is usually the result of calling `frame.insert` many times, which has poor performance.  Consider joining all columns at once using pd.concat(axis=1) instead. To get a de-fragmented frame, use `newframe = frame.copy()`\n",
      "  data_prepared[f\"avg_component_{i+1}\"] = average_components_array[:, i]\n",
      "/var/folders/ns/2fdd2j7x5p3dcwpx64zbmjlm0000gn/T/ipykernel_89409/4048641647.py:6: PerformanceWarning: DataFrame is highly fragmented.  This is usually the result of calling `frame.insert` many times, which has poor performance.  Consider joining all columns at once using pd.concat(axis=1) instead. To get a de-fragmented frame, use `newframe = frame.copy()`\n",
      "  data_prepared[f\"avg_component_{i+1}\"] = average_components_array[:, i]\n",
      "/var/folders/ns/2fdd2j7x5p3dcwpx64zbmjlm0000gn/T/ipykernel_89409/4048641647.py:6: PerformanceWarning: DataFrame is highly fragmented.  This is usually the result of calling `frame.insert` many times, which has poor performance.  Consider joining all columns at once using pd.concat(axis=1) instead. To get a de-fragmented frame, use `newframe = frame.copy()`\n",
      "  data_prepared[f\"avg_component_{i+1}\"] = average_components_array[:, i]\n",
      "/var/folders/ns/2fdd2j7x5p3dcwpx64zbmjlm0000gn/T/ipykernel_89409/4048641647.py:6: PerformanceWarning: DataFrame is highly fragmented.  This is usually the result of calling `frame.insert` many times, which has poor performance.  Consider joining all columns at once using pd.concat(axis=1) instead. To get a de-fragmented frame, use `newframe = frame.copy()`\n",
      "  data_prepared[f\"avg_component_{i+1}\"] = average_components_array[:, i]\n",
      "/var/folders/ns/2fdd2j7x5p3dcwpx64zbmjlm0000gn/T/ipykernel_89409/4048641647.py:6: PerformanceWarning: DataFrame is highly fragmented.  This is usually the result of calling `frame.insert` many times, which has poor performance.  Consider joining all columns at once using pd.concat(axis=1) instead. To get a de-fragmented frame, use `newframe = frame.copy()`\n",
      "  data_prepared[f\"avg_component_{i+1}\"] = average_components_array[:, i]\n",
      "/var/folders/ns/2fdd2j7x5p3dcwpx64zbmjlm0000gn/T/ipykernel_89409/4048641647.py:6: PerformanceWarning: DataFrame is highly fragmented.  This is usually the result of calling `frame.insert` many times, which has poor performance.  Consider joining all columns at once using pd.concat(axis=1) instead. To get a de-fragmented frame, use `newframe = frame.copy()`\n",
      "  data_prepared[f\"avg_component_{i+1}\"] = average_components_array[:, i]\n",
      "/var/folders/ns/2fdd2j7x5p3dcwpx64zbmjlm0000gn/T/ipykernel_89409/4048641647.py:6: PerformanceWarning: DataFrame is highly fragmented.  This is usually the result of calling `frame.insert` many times, which has poor performance.  Consider joining all columns at once using pd.concat(axis=1) instead. To get a de-fragmented frame, use `newframe = frame.copy()`\n",
      "  data_prepared[f\"avg_component_{i+1}\"] = average_components_array[:, i]\n",
      "/var/folders/ns/2fdd2j7x5p3dcwpx64zbmjlm0000gn/T/ipykernel_89409/4048641647.py:6: PerformanceWarning: DataFrame is highly fragmented.  This is usually the result of calling `frame.insert` many times, which has poor performance.  Consider joining all columns at once using pd.concat(axis=1) instead. To get a de-fragmented frame, use `newframe = frame.copy()`\n",
      "  data_prepared[f\"avg_component_{i+1}\"] = average_components_array[:, i]\n",
      "/var/folders/ns/2fdd2j7x5p3dcwpx64zbmjlm0000gn/T/ipykernel_89409/4048641647.py:6: PerformanceWarning: DataFrame is highly fragmented.  This is usually the result of calling `frame.insert` many times, which has poor performance.  Consider joining all columns at once using pd.concat(axis=1) instead. To get a de-fragmented frame, use `newframe = frame.copy()`\n",
      "  data_prepared[f\"avg_component_{i+1}\"] = average_components_array[:, i]\n",
      "/var/folders/ns/2fdd2j7x5p3dcwpx64zbmjlm0000gn/T/ipykernel_89409/4048641647.py:6: PerformanceWarning: DataFrame is highly fragmented.  This is usually the result of calling `frame.insert` many times, which has poor performance.  Consider joining all columns at once using pd.concat(axis=1) instead. To get a de-fragmented frame, use `newframe = frame.copy()`\n",
      "  data_prepared[f\"avg_component_{i+1}\"] = average_components_array[:, i]\n",
      "/var/folders/ns/2fdd2j7x5p3dcwpx64zbmjlm0000gn/T/ipykernel_89409/4048641647.py:6: PerformanceWarning: DataFrame is highly fragmented.  This is usually the result of calling `frame.insert` many times, which has poor performance.  Consider joining all columns at once using pd.concat(axis=1) instead. To get a de-fragmented frame, use `newframe = frame.copy()`\n",
      "  data_prepared[f\"avg_component_{i+1}\"] = average_components_array[:, i]\n",
      "/var/folders/ns/2fdd2j7x5p3dcwpx64zbmjlm0000gn/T/ipykernel_89409/4048641647.py:6: PerformanceWarning: DataFrame is highly fragmented.  This is usually the result of calling `frame.insert` many times, which has poor performance.  Consider joining all columns at once using pd.concat(axis=1) instead. To get a de-fragmented frame, use `newframe = frame.copy()`\n",
      "  data_prepared[f\"avg_component_{i+1}\"] = average_components_array[:, i]\n",
      "/var/folders/ns/2fdd2j7x5p3dcwpx64zbmjlm0000gn/T/ipykernel_89409/4048641647.py:6: PerformanceWarning: DataFrame is highly fragmented.  This is usually the result of calling `frame.insert` many times, which has poor performance.  Consider joining all columns at once using pd.concat(axis=1) instead. To get a de-fragmented frame, use `newframe = frame.copy()`\n",
      "  data_prepared[f\"avg_component_{i+1}\"] = average_components_array[:, i]\n",
      "/var/folders/ns/2fdd2j7x5p3dcwpx64zbmjlm0000gn/T/ipykernel_89409/4048641647.py:6: PerformanceWarning: DataFrame is highly fragmented.  This is usually the result of calling `frame.insert` many times, which has poor performance.  Consider joining all columns at once using pd.concat(axis=1) instead. To get a de-fragmented frame, use `newframe = frame.copy()`\n",
      "  data_prepared[f\"avg_component_{i+1}\"] = average_components_array[:, i]\n",
      "/var/folders/ns/2fdd2j7x5p3dcwpx64zbmjlm0000gn/T/ipykernel_89409/4048641647.py:6: PerformanceWarning: DataFrame is highly fragmented.  This is usually the result of calling `frame.insert` many times, which has poor performance.  Consider joining all columns at once using pd.concat(axis=1) instead. To get a de-fragmented frame, use `newframe = frame.copy()`\n",
      "  data_prepared[f\"avg_component_{i+1}\"] = average_components_array[:, i]\n",
      "/var/folders/ns/2fdd2j7x5p3dcwpx64zbmjlm0000gn/T/ipykernel_89409/4048641647.py:6: PerformanceWarning: DataFrame is highly fragmented.  This is usually the result of calling `frame.insert` many times, which has poor performance.  Consider joining all columns at once using pd.concat(axis=1) instead. To get a de-fragmented frame, use `newframe = frame.copy()`\n",
      "  data_prepared[f\"avg_component_{i+1}\"] = average_components_array[:, i]\n",
      "/var/folders/ns/2fdd2j7x5p3dcwpx64zbmjlm0000gn/T/ipykernel_89409/4048641647.py:6: PerformanceWarning: DataFrame is highly fragmented.  This is usually the result of calling `frame.insert` many times, which has poor performance.  Consider joining all columns at once using pd.concat(axis=1) instead. To get a de-fragmented frame, use `newframe = frame.copy()`\n",
      "  data_prepared[f\"avg_component_{i+1}\"] = average_components_array[:, i]\n",
      "/var/folders/ns/2fdd2j7x5p3dcwpx64zbmjlm0000gn/T/ipykernel_89409/4048641647.py:6: PerformanceWarning: DataFrame is highly fragmented.  This is usually the result of calling `frame.insert` many times, which has poor performance.  Consider joining all columns at once using pd.concat(axis=1) instead. To get a de-fragmented frame, use `newframe = frame.copy()`\n",
      "  data_prepared[f\"avg_component_{i+1}\"] = average_components_array[:, i]\n",
      "/var/folders/ns/2fdd2j7x5p3dcwpx64zbmjlm0000gn/T/ipykernel_89409/4048641647.py:6: PerformanceWarning: DataFrame is highly fragmented.  This is usually the result of calling `frame.insert` many times, which has poor performance.  Consider joining all columns at once using pd.concat(axis=1) instead. To get a de-fragmented frame, use `newframe = frame.copy()`\n",
      "  data_prepared[f\"avg_component_{i+1}\"] = average_components_array[:, i]\n",
      "/var/folders/ns/2fdd2j7x5p3dcwpx64zbmjlm0000gn/T/ipykernel_89409/4048641647.py:6: PerformanceWarning: DataFrame is highly fragmented.  This is usually the result of calling `frame.insert` many times, which has poor performance.  Consider joining all columns at once using pd.concat(axis=1) instead. To get a de-fragmented frame, use `newframe = frame.copy()`\n",
      "  data_prepared[f\"avg_component_{i+1}\"] = average_components_array[:, i]\n",
      "/var/folders/ns/2fdd2j7x5p3dcwpx64zbmjlm0000gn/T/ipykernel_89409/4048641647.py:6: PerformanceWarning: DataFrame is highly fragmented.  This is usually the result of calling `frame.insert` many times, which has poor performance.  Consider joining all columns at once using pd.concat(axis=1) instead. To get a de-fragmented frame, use `newframe = frame.copy()`\n",
      "  data_prepared[f\"avg_component_{i+1}\"] = average_components_array[:, i]\n",
      "/var/folders/ns/2fdd2j7x5p3dcwpx64zbmjlm0000gn/T/ipykernel_89409/4048641647.py:6: PerformanceWarning: DataFrame is highly fragmented.  This is usually the result of calling `frame.insert` many times, which has poor performance.  Consider joining all columns at once using pd.concat(axis=1) instead. To get a de-fragmented frame, use `newframe = frame.copy()`\n",
      "  data_prepared[f\"avg_component_{i+1}\"] = average_components_array[:, i]\n",
      "/var/folders/ns/2fdd2j7x5p3dcwpx64zbmjlm0000gn/T/ipykernel_89409/4048641647.py:6: PerformanceWarning: DataFrame is highly fragmented.  This is usually the result of calling `frame.insert` many times, which has poor performance.  Consider joining all columns at once using pd.concat(axis=1) instead. To get a de-fragmented frame, use `newframe = frame.copy()`\n",
      "  data_prepared[f\"avg_component_{i+1}\"] = average_components_array[:, i]\n",
      "/var/folders/ns/2fdd2j7x5p3dcwpx64zbmjlm0000gn/T/ipykernel_89409/4048641647.py:6: PerformanceWarning: DataFrame is highly fragmented.  This is usually the result of calling `frame.insert` many times, which has poor performance.  Consider joining all columns at once using pd.concat(axis=1) instead. To get a de-fragmented frame, use `newframe = frame.copy()`\n",
      "  data_prepared[f\"avg_component_{i+1}\"] = average_components_array[:, i]\n",
      "/var/folders/ns/2fdd2j7x5p3dcwpx64zbmjlm0000gn/T/ipykernel_89409/4048641647.py:6: PerformanceWarning: DataFrame is highly fragmented.  This is usually the result of calling `frame.insert` many times, which has poor performance.  Consider joining all columns at once using pd.concat(axis=1) instead. To get a de-fragmented frame, use `newframe = frame.copy()`\n",
      "  data_prepared[f\"avg_component_{i+1}\"] = average_components_array[:, i]\n",
      "/var/folders/ns/2fdd2j7x5p3dcwpx64zbmjlm0000gn/T/ipykernel_89409/4048641647.py:6: PerformanceWarning: DataFrame is highly fragmented.  This is usually the result of calling `frame.insert` many times, which has poor performance.  Consider joining all columns at once using pd.concat(axis=1) instead. To get a de-fragmented frame, use `newframe = frame.copy()`\n",
      "  data_prepared[f\"avg_component_{i+1}\"] = average_components_array[:, i]\n",
      "/var/folders/ns/2fdd2j7x5p3dcwpx64zbmjlm0000gn/T/ipykernel_89409/4048641647.py:6: PerformanceWarning: DataFrame is highly fragmented.  This is usually the result of calling `frame.insert` many times, which has poor performance.  Consider joining all columns at once using pd.concat(axis=1) instead. To get a de-fragmented frame, use `newframe = frame.copy()`\n",
      "  data_prepared[f\"avg_component_{i+1}\"] = average_components_array[:, i]\n",
      "/var/folders/ns/2fdd2j7x5p3dcwpx64zbmjlm0000gn/T/ipykernel_89409/4048641647.py:6: PerformanceWarning: DataFrame is highly fragmented.  This is usually the result of calling `frame.insert` many times, which has poor performance.  Consider joining all columns at once using pd.concat(axis=1) instead. To get a de-fragmented frame, use `newframe = frame.copy()`\n",
      "  data_prepared[f\"avg_component_{i+1}\"] = average_components_array[:, i]\n",
      "/var/folders/ns/2fdd2j7x5p3dcwpx64zbmjlm0000gn/T/ipykernel_89409/4048641647.py:6: PerformanceWarning: DataFrame is highly fragmented.  This is usually the result of calling `frame.insert` many times, which has poor performance.  Consider joining all columns at once using pd.concat(axis=1) instead. To get a de-fragmented frame, use `newframe = frame.copy()`\n",
      "  data_prepared[f\"avg_component_{i+1}\"] = average_components_array[:, i]\n",
      "/var/folders/ns/2fdd2j7x5p3dcwpx64zbmjlm0000gn/T/ipykernel_89409/4048641647.py:6: PerformanceWarning: DataFrame is highly fragmented.  This is usually the result of calling `frame.insert` many times, which has poor performance.  Consider joining all columns at once using pd.concat(axis=1) instead. To get a de-fragmented frame, use `newframe = frame.copy()`\n",
      "  data_prepared[f\"avg_component_{i+1}\"] = average_components_array[:, i]\n",
      "/var/folders/ns/2fdd2j7x5p3dcwpx64zbmjlm0000gn/T/ipykernel_89409/4048641647.py:6: PerformanceWarning: DataFrame is highly fragmented.  This is usually the result of calling `frame.insert` many times, which has poor performance.  Consider joining all columns at once using pd.concat(axis=1) instead. To get a de-fragmented frame, use `newframe = frame.copy()`\n",
      "  data_prepared[f\"avg_component_{i+1}\"] = average_components_array[:, i]\n",
      "/var/folders/ns/2fdd2j7x5p3dcwpx64zbmjlm0000gn/T/ipykernel_89409/4048641647.py:6: PerformanceWarning: DataFrame is highly fragmented.  This is usually the result of calling `frame.insert` many times, which has poor performance.  Consider joining all columns at once using pd.concat(axis=1) instead. To get a de-fragmented frame, use `newframe = frame.copy()`\n",
      "  data_prepared[f\"avg_component_{i+1}\"] = average_components_array[:, i]\n",
      "/var/folders/ns/2fdd2j7x5p3dcwpx64zbmjlm0000gn/T/ipykernel_89409/4048641647.py:6: PerformanceWarning: DataFrame is highly fragmented.  This is usually the result of calling `frame.insert` many times, which has poor performance.  Consider joining all columns at once using pd.concat(axis=1) instead. To get a de-fragmented frame, use `newframe = frame.copy()`\n",
      "  data_prepared[f\"avg_component_{i+1}\"] = average_components_array[:, i]\n",
      "/var/folders/ns/2fdd2j7x5p3dcwpx64zbmjlm0000gn/T/ipykernel_89409/4048641647.py:6: PerformanceWarning: DataFrame is highly fragmented.  This is usually the result of calling `frame.insert` many times, which has poor performance.  Consider joining all columns at once using pd.concat(axis=1) instead. To get a de-fragmented frame, use `newframe = frame.copy()`\n",
      "  data_prepared[f\"avg_component_{i+1}\"] = average_components_array[:, i]\n",
      "/var/folders/ns/2fdd2j7x5p3dcwpx64zbmjlm0000gn/T/ipykernel_89409/4048641647.py:6: PerformanceWarning: DataFrame is highly fragmented.  This is usually the result of calling `frame.insert` many times, which has poor performance.  Consider joining all columns at once using pd.concat(axis=1) instead. To get a de-fragmented frame, use `newframe = frame.copy()`\n",
      "  data_prepared[f\"avg_component_{i+1}\"] = average_components_array[:, i]\n",
      "/var/folders/ns/2fdd2j7x5p3dcwpx64zbmjlm0000gn/T/ipykernel_89409/4048641647.py:6: PerformanceWarning: DataFrame is highly fragmented.  This is usually the result of calling `frame.insert` many times, which has poor performance.  Consider joining all columns at once using pd.concat(axis=1) instead. To get a de-fragmented frame, use `newframe = frame.copy()`\n",
      "  data_prepared[f\"avg_component_{i+1}\"] = average_components_array[:, i]\n",
      "/var/folders/ns/2fdd2j7x5p3dcwpx64zbmjlm0000gn/T/ipykernel_89409/4048641647.py:6: PerformanceWarning: DataFrame is highly fragmented.  This is usually the result of calling `frame.insert` many times, which has poor performance.  Consider joining all columns at once using pd.concat(axis=1) instead. To get a de-fragmented frame, use `newframe = frame.copy()`\n",
      "  data_prepared[f\"avg_component_{i+1}\"] = average_components_array[:, i]\n",
      "/var/folders/ns/2fdd2j7x5p3dcwpx64zbmjlm0000gn/T/ipykernel_89409/4048641647.py:6: PerformanceWarning: DataFrame is highly fragmented.  This is usually the result of calling `frame.insert` many times, which has poor performance.  Consider joining all columns at once using pd.concat(axis=1) instead. To get a de-fragmented frame, use `newframe = frame.copy()`\n",
      "  data_prepared[f\"avg_component_{i+1}\"] = average_components_array[:, i]\n",
      "/var/folders/ns/2fdd2j7x5p3dcwpx64zbmjlm0000gn/T/ipykernel_89409/4048641647.py:6: PerformanceWarning: DataFrame is highly fragmented.  This is usually the result of calling `frame.insert` many times, which has poor performance.  Consider joining all columns at once using pd.concat(axis=1) instead. To get a de-fragmented frame, use `newframe = frame.copy()`\n",
      "  data_prepared[f\"avg_component_{i+1}\"] = average_components_array[:, i]\n",
      "/var/folders/ns/2fdd2j7x5p3dcwpx64zbmjlm0000gn/T/ipykernel_89409/4048641647.py:6: PerformanceWarning: DataFrame is highly fragmented.  This is usually the result of calling `frame.insert` many times, which has poor performance.  Consider joining all columns at once using pd.concat(axis=1) instead. To get a de-fragmented frame, use `newframe = frame.copy()`\n",
      "  data_prepared[f\"avg_component_{i+1}\"] = average_components_array[:, i]\n",
      "/var/folders/ns/2fdd2j7x5p3dcwpx64zbmjlm0000gn/T/ipykernel_89409/4048641647.py:6: PerformanceWarning: DataFrame is highly fragmented.  This is usually the result of calling `frame.insert` many times, which has poor performance.  Consider joining all columns at once using pd.concat(axis=1) instead. To get a de-fragmented frame, use `newframe = frame.copy()`\n",
      "  data_prepared[f\"avg_component_{i+1}\"] = average_components_array[:, i]\n",
      "/var/folders/ns/2fdd2j7x5p3dcwpx64zbmjlm0000gn/T/ipykernel_89409/4048641647.py:6: PerformanceWarning: DataFrame is highly fragmented.  This is usually the result of calling `frame.insert` many times, which has poor performance.  Consider joining all columns at once using pd.concat(axis=1) instead. To get a de-fragmented frame, use `newframe = frame.copy()`\n",
      "  data_prepared[f\"avg_component_{i+1}\"] = average_components_array[:, i]\n",
      "/var/folders/ns/2fdd2j7x5p3dcwpx64zbmjlm0000gn/T/ipykernel_89409/4048641647.py:6: PerformanceWarning: DataFrame is highly fragmented.  This is usually the result of calling `frame.insert` many times, which has poor performance.  Consider joining all columns at once using pd.concat(axis=1) instead. To get a de-fragmented frame, use `newframe = frame.copy()`\n",
      "  data_prepared[f\"avg_component_{i+1}\"] = average_components_array[:, i]\n",
      "/var/folders/ns/2fdd2j7x5p3dcwpx64zbmjlm0000gn/T/ipykernel_89409/4048641647.py:6: PerformanceWarning: DataFrame is highly fragmented.  This is usually the result of calling `frame.insert` many times, which has poor performance.  Consider joining all columns at once using pd.concat(axis=1) instead. To get a de-fragmented frame, use `newframe = frame.copy()`\n",
      "  data_prepared[f\"avg_component_{i+1}\"] = average_components_array[:, i]\n",
      "/var/folders/ns/2fdd2j7x5p3dcwpx64zbmjlm0000gn/T/ipykernel_89409/4048641647.py:6: PerformanceWarning: DataFrame is highly fragmented.  This is usually the result of calling `frame.insert` many times, which has poor performance.  Consider joining all columns at once using pd.concat(axis=1) instead. To get a de-fragmented frame, use `newframe = frame.copy()`\n",
      "  data_prepared[f\"avg_component_{i+1}\"] = average_components_array[:, i]\n",
      "/var/folders/ns/2fdd2j7x5p3dcwpx64zbmjlm0000gn/T/ipykernel_89409/4048641647.py:6: PerformanceWarning: DataFrame is highly fragmented.  This is usually the result of calling `frame.insert` many times, which has poor performance.  Consider joining all columns at once using pd.concat(axis=1) instead. To get a de-fragmented frame, use `newframe = frame.copy()`\n",
      "  data_prepared[f\"avg_component_{i+1}\"] = average_components_array[:, i]\n",
      "/var/folders/ns/2fdd2j7x5p3dcwpx64zbmjlm0000gn/T/ipykernel_89409/4048641647.py:6: PerformanceWarning: DataFrame is highly fragmented.  This is usually the result of calling `frame.insert` many times, which has poor performance.  Consider joining all columns at once using pd.concat(axis=1) instead. To get a de-fragmented frame, use `newframe = frame.copy()`\n",
      "  data_prepared[f\"avg_component_{i+1}\"] = average_components_array[:, i]\n",
      "/var/folders/ns/2fdd2j7x5p3dcwpx64zbmjlm0000gn/T/ipykernel_89409/4048641647.py:6: PerformanceWarning: DataFrame is highly fragmented.  This is usually the result of calling `frame.insert` many times, which has poor performance.  Consider joining all columns at once using pd.concat(axis=1) instead. To get a de-fragmented frame, use `newframe = frame.copy()`\n",
      "  data_prepared[f\"avg_component_{i+1}\"] = average_components_array[:, i]\n",
      "/var/folders/ns/2fdd2j7x5p3dcwpx64zbmjlm0000gn/T/ipykernel_89409/4048641647.py:6: PerformanceWarning: DataFrame is highly fragmented.  This is usually the result of calling `frame.insert` many times, which has poor performance.  Consider joining all columns at once using pd.concat(axis=1) instead. To get a de-fragmented frame, use `newframe = frame.copy()`\n",
      "  data_prepared[f\"avg_component_{i+1}\"] = average_components_array[:, i]\n",
      "/var/folders/ns/2fdd2j7x5p3dcwpx64zbmjlm0000gn/T/ipykernel_89409/4048641647.py:6: PerformanceWarning: DataFrame is highly fragmented.  This is usually the result of calling `frame.insert` many times, which has poor performance.  Consider joining all columns at once using pd.concat(axis=1) instead. To get a de-fragmented frame, use `newframe = frame.copy()`\n",
      "  data_prepared[f\"avg_component_{i+1}\"] = average_components_array[:, i]\n",
      "/var/folders/ns/2fdd2j7x5p3dcwpx64zbmjlm0000gn/T/ipykernel_89409/4048641647.py:6: PerformanceWarning: DataFrame is highly fragmented.  This is usually the result of calling `frame.insert` many times, which has poor performance.  Consider joining all columns at once using pd.concat(axis=1) instead. To get a de-fragmented frame, use `newframe = frame.copy()`\n",
      "  data_prepared[f\"avg_component_{i+1}\"] = average_components_array[:, i]\n",
      "/var/folders/ns/2fdd2j7x5p3dcwpx64zbmjlm0000gn/T/ipykernel_89409/4048641647.py:6: PerformanceWarning: DataFrame is highly fragmented.  This is usually the result of calling `frame.insert` many times, which has poor performance.  Consider joining all columns at once using pd.concat(axis=1) instead. To get a de-fragmented frame, use `newframe = frame.copy()`\n",
      "  data_prepared[f\"avg_component_{i+1}\"] = average_components_array[:, i]\n",
      "/var/folders/ns/2fdd2j7x5p3dcwpx64zbmjlm0000gn/T/ipykernel_89409/4048641647.py:6: PerformanceWarning: DataFrame is highly fragmented.  This is usually the result of calling `frame.insert` many times, which has poor performance.  Consider joining all columns at once using pd.concat(axis=1) instead. To get a de-fragmented frame, use `newframe = frame.copy()`\n",
      "  data_prepared[f\"avg_component_{i+1}\"] = average_components_array[:, i]\n",
      "/var/folders/ns/2fdd2j7x5p3dcwpx64zbmjlm0000gn/T/ipykernel_89409/4048641647.py:6: PerformanceWarning: DataFrame is highly fragmented.  This is usually the result of calling `frame.insert` many times, which has poor performance.  Consider joining all columns at once using pd.concat(axis=1) instead. To get a de-fragmented frame, use `newframe = frame.copy()`\n",
      "  data_prepared[f\"avg_component_{i+1}\"] = average_components_array[:, i]\n",
      "/var/folders/ns/2fdd2j7x5p3dcwpx64zbmjlm0000gn/T/ipykernel_89409/4048641647.py:6: PerformanceWarning: DataFrame is highly fragmented.  This is usually the result of calling `frame.insert` many times, which has poor performance.  Consider joining all columns at once using pd.concat(axis=1) instead. To get a de-fragmented frame, use `newframe = frame.copy()`\n",
      "  data_prepared[f\"avg_component_{i+1}\"] = average_components_array[:, i]\n",
      "/var/folders/ns/2fdd2j7x5p3dcwpx64zbmjlm0000gn/T/ipykernel_89409/4048641647.py:6: PerformanceWarning: DataFrame is highly fragmented.  This is usually the result of calling `frame.insert` many times, which has poor performance.  Consider joining all columns at once using pd.concat(axis=1) instead. To get a de-fragmented frame, use `newframe = frame.copy()`\n",
      "  data_prepared[f\"avg_component_{i+1}\"] = average_components_array[:, i]\n",
      "/var/folders/ns/2fdd2j7x5p3dcwpx64zbmjlm0000gn/T/ipykernel_89409/4048641647.py:6: PerformanceWarning: DataFrame is highly fragmented.  This is usually the result of calling `frame.insert` many times, which has poor performance.  Consider joining all columns at once using pd.concat(axis=1) instead. To get a de-fragmented frame, use `newframe = frame.copy()`\n",
      "  data_prepared[f\"avg_component_{i+1}\"] = average_components_array[:, i]\n",
      "/var/folders/ns/2fdd2j7x5p3dcwpx64zbmjlm0000gn/T/ipykernel_89409/4048641647.py:6: PerformanceWarning: DataFrame is highly fragmented.  This is usually the result of calling `frame.insert` many times, which has poor performance.  Consider joining all columns at once using pd.concat(axis=1) instead. To get a de-fragmented frame, use `newframe = frame.copy()`\n",
      "  data_prepared[f\"avg_component_{i+1}\"] = average_components_array[:, i]\n",
      "/var/folders/ns/2fdd2j7x5p3dcwpx64zbmjlm0000gn/T/ipykernel_89409/4048641647.py:6: PerformanceWarning: DataFrame is highly fragmented.  This is usually the result of calling `frame.insert` many times, which has poor performance.  Consider joining all columns at once using pd.concat(axis=1) instead. To get a de-fragmented frame, use `newframe = frame.copy()`\n",
      "  data_prepared[f\"avg_component_{i+1}\"] = average_components_array[:, i]\n",
      "/var/folders/ns/2fdd2j7x5p3dcwpx64zbmjlm0000gn/T/ipykernel_89409/4048641647.py:6: PerformanceWarning: DataFrame is highly fragmented.  This is usually the result of calling `frame.insert` many times, which has poor performance.  Consider joining all columns at once using pd.concat(axis=1) instead. To get a de-fragmented frame, use `newframe = frame.copy()`\n",
      "  data_prepared[f\"avg_component_{i+1}\"] = average_components_array[:, i]\n",
      "/var/folders/ns/2fdd2j7x5p3dcwpx64zbmjlm0000gn/T/ipykernel_89409/4048641647.py:6: PerformanceWarning: DataFrame is highly fragmented.  This is usually the result of calling `frame.insert` many times, which has poor performance.  Consider joining all columns at once using pd.concat(axis=1) instead. To get a de-fragmented frame, use `newframe = frame.copy()`\n",
      "  data_prepared[f\"avg_component_{i+1}\"] = average_components_array[:, i]\n",
      "/var/folders/ns/2fdd2j7x5p3dcwpx64zbmjlm0000gn/T/ipykernel_89409/4048641647.py:6: PerformanceWarning: DataFrame is highly fragmented.  This is usually the result of calling `frame.insert` many times, which has poor performance.  Consider joining all columns at once using pd.concat(axis=1) instead. To get a de-fragmented frame, use `newframe = frame.copy()`\n",
      "  data_prepared[f\"avg_component_{i+1}\"] = average_components_array[:, i]\n",
      "/var/folders/ns/2fdd2j7x5p3dcwpx64zbmjlm0000gn/T/ipykernel_89409/4048641647.py:6: PerformanceWarning: DataFrame is highly fragmented.  This is usually the result of calling `frame.insert` many times, which has poor performance.  Consider joining all columns at once using pd.concat(axis=1) instead. To get a de-fragmented frame, use `newframe = frame.copy()`\n",
      "  data_prepared[f\"avg_component_{i+1}\"] = average_components_array[:, i]\n",
      "/var/folders/ns/2fdd2j7x5p3dcwpx64zbmjlm0000gn/T/ipykernel_89409/4048641647.py:6: PerformanceWarning: DataFrame is highly fragmented.  This is usually the result of calling `frame.insert` many times, which has poor performance.  Consider joining all columns at once using pd.concat(axis=1) instead. To get a de-fragmented frame, use `newframe = frame.copy()`\n",
      "  data_prepared[f\"avg_component_{i+1}\"] = average_components_array[:, i]\n",
      "/var/folders/ns/2fdd2j7x5p3dcwpx64zbmjlm0000gn/T/ipykernel_89409/4048641647.py:6: PerformanceWarning: DataFrame is highly fragmented.  This is usually the result of calling `frame.insert` many times, which has poor performance.  Consider joining all columns at once using pd.concat(axis=1) instead. To get a de-fragmented frame, use `newframe = frame.copy()`\n",
      "  data_prepared[f\"avg_component_{i+1}\"] = average_components_array[:, i]\n",
      "/var/folders/ns/2fdd2j7x5p3dcwpx64zbmjlm0000gn/T/ipykernel_89409/4048641647.py:6: PerformanceWarning: DataFrame is highly fragmented.  This is usually the result of calling `frame.insert` many times, which has poor performance.  Consider joining all columns at once using pd.concat(axis=1) instead. To get a de-fragmented frame, use `newframe = frame.copy()`\n",
      "  data_prepared[f\"avg_component_{i+1}\"] = average_components_array[:, i]\n",
      "/var/folders/ns/2fdd2j7x5p3dcwpx64zbmjlm0000gn/T/ipykernel_89409/4048641647.py:6: PerformanceWarning: DataFrame is highly fragmented.  This is usually the result of calling `frame.insert` many times, which has poor performance.  Consider joining all columns at once using pd.concat(axis=1) instead. To get a de-fragmented frame, use `newframe = frame.copy()`\n",
      "  data_prepared[f\"avg_component_{i+1}\"] = average_components_array[:, i]\n",
      "/var/folders/ns/2fdd2j7x5p3dcwpx64zbmjlm0000gn/T/ipykernel_89409/4048641647.py:6: PerformanceWarning: DataFrame is highly fragmented.  This is usually the result of calling `frame.insert` many times, which has poor performance.  Consider joining all columns at once using pd.concat(axis=1) instead. To get a de-fragmented frame, use `newframe = frame.copy()`\n",
      "  data_prepared[f\"avg_component_{i+1}\"] = average_components_array[:, i]\n",
      "/var/folders/ns/2fdd2j7x5p3dcwpx64zbmjlm0000gn/T/ipykernel_89409/4048641647.py:6: PerformanceWarning: DataFrame is highly fragmented.  This is usually the result of calling `frame.insert` many times, which has poor performance.  Consider joining all columns at once using pd.concat(axis=1) instead. To get a de-fragmented frame, use `newframe = frame.copy()`\n",
      "  data_prepared[f\"avg_component_{i+1}\"] = average_components_array[:, i]\n",
      "/var/folders/ns/2fdd2j7x5p3dcwpx64zbmjlm0000gn/T/ipykernel_89409/4048641647.py:6: PerformanceWarning: DataFrame is highly fragmented.  This is usually the result of calling `frame.insert` many times, which has poor performance.  Consider joining all columns at once using pd.concat(axis=1) instead. To get a de-fragmented frame, use `newframe = frame.copy()`\n",
      "  data_prepared[f\"avg_component_{i+1}\"] = average_components_array[:, i]\n",
      "/var/folders/ns/2fdd2j7x5p3dcwpx64zbmjlm0000gn/T/ipykernel_89409/4048641647.py:6: PerformanceWarning: DataFrame is highly fragmented.  This is usually the result of calling `frame.insert` many times, which has poor performance.  Consider joining all columns at once using pd.concat(axis=1) instead. To get a de-fragmented frame, use `newframe = frame.copy()`\n",
      "  data_prepared[f\"avg_component_{i+1}\"] = average_components_array[:, i]\n",
      "/var/folders/ns/2fdd2j7x5p3dcwpx64zbmjlm0000gn/T/ipykernel_89409/4048641647.py:6: PerformanceWarning: DataFrame is highly fragmented.  This is usually the result of calling `frame.insert` many times, which has poor performance.  Consider joining all columns at once using pd.concat(axis=1) instead. To get a de-fragmented frame, use `newframe = frame.copy()`\n",
      "  data_prepared[f\"avg_component_{i+1}\"] = average_components_array[:, i]\n",
      "/var/folders/ns/2fdd2j7x5p3dcwpx64zbmjlm0000gn/T/ipykernel_89409/4048641647.py:6: PerformanceWarning: DataFrame is highly fragmented.  This is usually the result of calling `frame.insert` many times, which has poor performance.  Consider joining all columns at once using pd.concat(axis=1) instead. To get a de-fragmented frame, use `newframe = frame.copy()`\n",
      "  data_prepared[f\"avg_component_{i+1}\"] = average_components_array[:, i]\n",
      "/var/folders/ns/2fdd2j7x5p3dcwpx64zbmjlm0000gn/T/ipykernel_89409/4048641647.py:6: PerformanceWarning: DataFrame is highly fragmented.  This is usually the result of calling `frame.insert` many times, which has poor performance.  Consider joining all columns at once using pd.concat(axis=1) instead. To get a de-fragmented frame, use `newframe = frame.copy()`\n",
      "  data_prepared[f\"avg_component_{i+1}\"] = average_components_array[:, i]\n",
      "/var/folders/ns/2fdd2j7x5p3dcwpx64zbmjlm0000gn/T/ipykernel_89409/4048641647.py:6: PerformanceWarning: DataFrame is highly fragmented.  This is usually the result of calling `frame.insert` many times, which has poor performance.  Consider joining all columns at once using pd.concat(axis=1) instead. To get a de-fragmented frame, use `newframe = frame.copy()`\n",
      "  data_prepared[f\"avg_component_{i+1}\"] = average_components_array[:, i]\n",
      "/var/folders/ns/2fdd2j7x5p3dcwpx64zbmjlm0000gn/T/ipykernel_89409/4048641647.py:6: PerformanceWarning: DataFrame is highly fragmented.  This is usually the result of calling `frame.insert` many times, which has poor performance.  Consider joining all columns at once using pd.concat(axis=1) instead. To get a de-fragmented frame, use `newframe = frame.copy()`\n",
      "  data_prepared[f\"avg_component_{i+1}\"] = average_components_array[:, i]\n",
      "/var/folders/ns/2fdd2j7x5p3dcwpx64zbmjlm0000gn/T/ipykernel_89409/4048641647.py:6: PerformanceWarning: DataFrame is highly fragmented.  This is usually the result of calling `frame.insert` many times, which has poor performance.  Consider joining all columns at once using pd.concat(axis=1) instead. To get a de-fragmented frame, use `newframe = frame.copy()`\n",
      "  data_prepared[f\"avg_component_{i+1}\"] = average_components_array[:, i]\n",
      "/var/folders/ns/2fdd2j7x5p3dcwpx64zbmjlm0000gn/T/ipykernel_89409/4048641647.py:6: PerformanceWarning: DataFrame is highly fragmented.  This is usually the result of calling `frame.insert` many times, which has poor performance.  Consider joining all columns at once using pd.concat(axis=1) instead. To get a de-fragmented frame, use `newframe = frame.copy()`\n",
      "  data_prepared[f\"avg_component_{i+1}\"] = average_components_array[:, i]\n",
      "/var/folders/ns/2fdd2j7x5p3dcwpx64zbmjlm0000gn/T/ipykernel_89409/4048641647.py:6: PerformanceWarning: DataFrame is highly fragmented.  This is usually the result of calling `frame.insert` many times, which has poor performance.  Consider joining all columns at once using pd.concat(axis=1) instead. To get a de-fragmented frame, use `newframe = frame.copy()`\n",
      "  data_prepared[f\"avg_component_{i+1}\"] = average_components_array[:, i]\n",
      "/var/folders/ns/2fdd2j7x5p3dcwpx64zbmjlm0000gn/T/ipykernel_89409/4048641647.py:6: PerformanceWarning: DataFrame is highly fragmented.  This is usually the result of calling `frame.insert` many times, which has poor performance.  Consider joining all columns at once using pd.concat(axis=1) instead. To get a de-fragmented frame, use `newframe = frame.copy()`\n",
      "  data_prepared[f\"avg_component_{i+1}\"] = average_components_array[:, i]\n",
      "/var/folders/ns/2fdd2j7x5p3dcwpx64zbmjlm0000gn/T/ipykernel_89409/4048641647.py:6: PerformanceWarning: DataFrame is highly fragmented.  This is usually the result of calling `frame.insert` many times, which has poor performance.  Consider joining all columns at once using pd.concat(axis=1) instead. To get a de-fragmented frame, use `newframe = frame.copy()`\n",
      "  data_prepared[f\"avg_component_{i+1}\"] = average_components_array[:, i]\n",
      "/var/folders/ns/2fdd2j7x5p3dcwpx64zbmjlm0000gn/T/ipykernel_89409/4048641647.py:6: PerformanceWarning: DataFrame is highly fragmented.  This is usually the result of calling `frame.insert` many times, which has poor performance.  Consider joining all columns at once using pd.concat(axis=1) instead. To get a de-fragmented frame, use `newframe = frame.copy()`\n",
      "  data_prepared[f\"avg_component_{i+1}\"] = average_components_array[:, i]\n",
      "/var/folders/ns/2fdd2j7x5p3dcwpx64zbmjlm0000gn/T/ipykernel_89409/4048641647.py:6: PerformanceWarning: DataFrame is highly fragmented.  This is usually the result of calling `frame.insert` many times, which has poor performance.  Consider joining all columns at once using pd.concat(axis=1) instead. To get a de-fragmented frame, use `newframe = frame.copy()`\n",
      "  data_prepared[f\"avg_component_{i+1}\"] = average_components_array[:, i]\n",
      "/var/folders/ns/2fdd2j7x5p3dcwpx64zbmjlm0000gn/T/ipykernel_89409/4048641647.py:6: PerformanceWarning: DataFrame is highly fragmented.  This is usually the result of calling `frame.insert` many times, which has poor performance.  Consider joining all columns at once using pd.concat(axis=1) instead. To get a de-fragmented frame, use `newframe = frame.copy()`\n",
      "  data_prepared[f\"avg_component_{i+1}\"] = average_components_array[:, i]\n",
      "/var/folders/ns/2fdd2j7x5p3dcwpx64zbmjlm0000gn/T/ipykernel_89409/4048641647.py:6: PerformanceWarning: DataFrame is highly fragmented.  This is usually the result of calling `frame.insert` many times, which has poor performance.  Consider joining all columns at once using pd.concat(axis=1) instead. To get a de-fragmented frame, use `newframe = frame.copy()`\n",
      "  data_prepared[f\"avg_component_{i+1}\"] = average_components_array[:, i]\n",
      "/var/folders/ns/2fdd2j7x5p3dcwpx64zbmjlm0000gn/T/ipykernel_89409/4048641647.py:6: PerformanceWarning: DataFrame is highly fragmented.  This is usually the result of calling `frame.insert` many times, which has poor performance.  Consider joining all columns at once using pd.concat(axis=1) instead. To get a de-fragmented frame, use `newframe = frame.copy()`\n",
      "  data_prepared[f\"avg_component_{i+1}\"] = average_components_array[:, i]\n",
      "/var/folders/ns/2fdd2j7x5p3dcwpx64zbmjlm0000gn/T/ipykernel_89409/4048641647.py:6: PerformanceWarning: DataFrame is highly fragmented.  This is usually the result of calling `frame.insert` many times, which has poor performance.  Consider joining all columns at once using pd.concat(axis=1) instead. To get a de-fragmented frame, use `newframe = frame.copy()`\n",
      "  data_prepared[f\"avg_component_{i+1}\"] = average_components_array[:, i]\n",
      "/var/folders/ns/2fdd2j7x5p3dcwpx64zbmjlm0000gn/T/ipykernel_89409/4048641647.py:6: PerformanceWarning: DataFrame is highly fragmented.  This is usually the result of calling `frame.insert` many times, which has poor performance.  Consider joining all columns at once using pd.concat(axis=1) instead. To get a de-fragmented frame, use `newframe = frame.copy()`\n",
      "  data_prepared[f\"avg_component_{i+1}\"] = average_components_array[:, i]\n",
      "/var/folders/ns/2fdd2j7x5p3dcwpx64zbmjlm0000gn/T/ipykernel_89409/4048641647.py:6: PerformanceWarning: DataFrame is highly fragmented.  This is usually the result of calling `frame.insert` many times, which has poor performance.  Consider joining all columns at once using pd.concat(axis=1) instead. To get a de-fragmented frame, use `newframe = frame.copy()`\n",
      "  data_prepared[f\"avg_component_{i+1}\"] = average_components_array[:, i]\n",
      "/var/folders/ns/2fdd2j7x5p3dcwpx64zbmjlm0000gn/T/ipykernel_89409/4048641647.py:6: PerformanceWarning: DataFrame is highly fragmented.  This is usually the result of calling `frame.insert` many times, which has poor performance.  Consider joining all columns at once using pd.concat(axis=1) instead. To get a de-fragmented frame, use `newframe = frame.copy()`\n",
      "  data_prepared[f\"avg_component_{i+1}\"] = average_components_array[:, i]\n",
      "/var/folders/ns/2fdd2j7x5p3dcwpx64zbmjlm0000gn/T/ipykernel_89409/4048641647.py:6: PerformanceWarning: DataFrame is highly fragmented.  This is usually the result of calling `frame.insert` many times, which has poor performance.  Consider joining all columns at once using pd.concat(axis=1) instead. To get a de-fragmented frame, use `newframe = frame.copy()`\n",
      "  data_prepared[f\"avg_component_{i+1}\"] = average_components_array[:, i]\n",
      "/var/folders/ns/2fdd2j7x5p3dcwpx64zbmjlm0000gn/T/ipykernel_89409/4048641647.py:6: PerformanceWarning: DataFrame is highly fragmented.  This is usually the result of calling `frame.insert` many times, which has poor performance.  Consider joining all columns at once using pd.concat(axis=1) instead. To get a de-fragmented frame, use `newframe = frame.copy()`\n",
      "  data_prepared[f\"avg_component_{i+1}\"] = average_components_array[:, i]\n",
      "/var/folders/ns/2fdd2j7x5p3dcwpx64zbmjlm0000gn/T/ipykernel_89409/4048641647.py:6: PerformanceWarning: DataFrame is highly fragmented.  This is usually the result of calling `frame.insert` many times, which has poor performance.  Consider joining all columns at once using pd.concat(axis=1) instead. To get a de-fragmented frame, use `newframe = frame.copy()`\n",
      "  data_prepared[f\"avg_component_{i+1}\"] = average_components_array[:, i]\n",
      "/var/folders/ns/2fdd2j7x5p3dcwpx64zbmjlm0000gn/T/ipykernel_89409/4048641647.py:6: PerformanceWarning: DataFrame is highly fragmented.  This is usually the result of calling `frame.insert` many times, which has poor performance.  Consider joining all columns at once using pd.concat(axis=1) instead. To get a de-fragmented frame, use `newframe = frame.copy()`\n",
      "  data_prepared[f\"avg_component_{i+1}\"] = average_components_array[:, i]\n",
      "/var/folders/ns/2fdd2j7x5p3dcwpx64zbmjlm0000gn/T/ipykernel_89409/4048641647.py:6: PerformanceWarning: DataFrame is highly fragmented.  This is usually the result of calling `frame.insert` many times, which has poor performance.  Consider joining all columns at once using pd.concat(axis=1) instead. To get a de-fragmented frame, use `newframe = frame.copy()`\n",
      "  data_prepared[f\"avg_component_{i+1}\"] = average_components_array[:, i]\n",
      "/var/folders/ns/2fdd2j7x5p3dcwpx64zbmjlm0000gn/T/ipykernel_89409/4048641647.py:6: PerformanceWarning: DataFrame is highly fragmented.  This is usually the result of calling `frame.insert` many times, which has poor performance.  Consider joining all columns at once using pd.concat(axis=1) instead. To get a de-fragmented frame, use `newframe = frame.copy()`\n",
      "  data_prepared[f\"avg_component_{i+1}\"] = average_components_array[:, i]\n",
      "/var/folders/ns/2fdd2j7x5p3dcwpx64zbmjlm0000gn/T/ipykernel_89409/4048641647.py:6: PerformanceWarning: DataFrame is highly fragmented.  This is usually the result of calling `frame.insert` many times, which has poor performance.  Consider joining all columns at once using pd.concat(axis=1) instead. To get a de-fragmented frame, use `newframe = frame.copy()`\n",
      "  data_prepared[f\"avg_component_{i+1}\"] = average_components_array[:, i]\n",
      "/var/folders/ns/2fdd2j7x5p3dcwpx64zbmjlm0000gn/T/ipykernel_89409/4048641647.py:6: PerformanceWarning: DataFrame is highly fragmented.  This is usually the result of calling `frame.insert` many times, which has poor performance.  Consider joining all columns at once using pd.concat(axis=1) instead. To get a de-fragmented frame, use `newframe = frame.copy()`\n",
      "  data_prepared[f\"avg_component_{i+1}\"] = average_components_array[:, i]\n",
      "/var/folders/ns/2fdd2j7x5p3dcwpx64zbmjlm0000gn/T/ipykernel_89409/4048641647.py:6: PerformanceWarning: DataFrame is highly fragmented.  This is usually the result of calling `frame.insert` many times, which has poor performance.  Consider joining all columns at once using pd.concat(axis=1) instead. To get a de-fragmented frame, use `newframe = frame.copy()`\n",
      "  data_prepared[f\"avg_component_{i+1}\"] = average_components_array[:, i]\n",
      "/var/folders/ns/2fdd2j7x5p3dcwpx64zbmjlm0000gn/T/ipykernel_89409/4048641647.py:6: PerformanceWarning: DataFrame is highly fragmented.  This is usually the result of calling `frame.insert` many times, which has poor performance.  Consider joining all columns at once using pd.concat(axis=1) instead. To get a de-fragmented frame, use `newframe = frame.copy()`\n",
      "  data_prepared[f\"avg_component_{i+1}\"] = average_components_array[:, i]\n",
      "/var/folders/ns/2fdd2j7x5p3dcwpx64zbmjlm0000gn/T/ipykernel_89409/4048641647.py:6: PerformanceWarning: DataFrame is highly fragmented.  This is usually the result of calling `frame.insert` many times, which has poor performance.  Consider joining all columns at once using pd.concat(axis=1) instead. To get a de-fragmented frame, use `newframe = frame.copy()`\n",
      "  data_prepared[f\"avg_component_{i+1}\"] = average_components_array[:, i]\n",
      "/var/folders/ns/2fdd2j7x5p3dcwpx64zbmjlm0000gn/T/ipykernel_89409/4048641647.py:6: PerformanceWarning: DataFrame is highly fragmented.  This is usually the result of calling `frame.insert` many times, which has poor performance.  Consider joining all columns at once using pd.concat(axis=1) instead. To get a de-fragmented frame, use `newframe = frame.copy()`\n",
      "  data_prepared[f\"avg_component_{i+1}\"] = average_components_array[:, i]\n",
      "/var/folders/ns/2fdd2j7x5p3dcwpx64zbmjlm0000gn/T/ipykernel_89409/4048641647.py:6: PerformanceWarning: DataFrame is highly fragmented.  This is usually the result of calling `frame.insert` many times, which has poor performance.  Consider joining all columns at once using pd.concat(axis=1) instead. To get a de-fragmented frame, use `newframe = frame.copy()`\n",
      "  data_prepared[f\"avg_component_{i+1}\"] = average_components_array[:, i]\n"
     ]
    }
   ],
   "source": [
    "# Convert the list of average components into a NumPy array\n",
    "average_components_array = np.array(average_components_list)\n",
    "\n",
    "# Create new columns for the average components in the original DataFrame\n",
    "for i in range(average_components_array.shape[1]):\n",
    "    data_prepared[f\"avg_component_{i+1}\"] = average_components_array[:, i]"
   ]
  },
  {
   "cell_type": "markdown",
   "id": "89db3b8c",
   "metadata": {},
   "source": [
    "##### 2.5.2 Boolean features"
   ]
  },
  {
   "cell_type": "markdown",
   "id": "c2b08afe",
   "metadata": {},
   "source": [
    "Changing binary columns gender, change and diabetesMed to integers so the model accepts it"
   ]
  },
  {
   "cell_type": "code",
   "execution_count": 60,
   "id": "ff82c9c5",
   "metadata": {},
   "outputs": [],
   "source": [
    "data_prepared['gender'] = data_prepared['gender'].replace({'Male': 1, 'Female': 0})\n",
    "data_prepared['change'] = data_prepared['change'].replace({'Ch': 1, 'No': 0})\n",
    "data_prepared['diabetesMed'] = data_prepared['diabetesMed'].replace({'Yes': 1, 'No': 0})"
   ]
  },
  {
   "cell_type": "markdown",
   "id": "f066d215",
   "metadata": {},
   "source": [
    "### 2.6 Dropping columns"
   ]
  },
  {
   "cell_type": "markdown",
   "id": "153974f4",
   "metadata": {},
   "source": [
    "Usually, we would wait for the last step to drop columns. However, we will be running multiple algorithms and they require different things. One of them is sensible to scaling and the other are not, therefore we changed the order to avoid repeating code."
   ]
  },
  {
   "cell_type": "markdown",
   "id": "57496a01",
   "metadata": {},
   "source": [
    "Dropping admission source id due to high overlap with admission type"
   ]
  },
  {
   "cell_type": "code",
   "execution_count": 61,
   "id": "4b9538cf",
   "metadata": {},
   "outputs": [],
   "source": [
    "data_prepared = data_prepared.drop(columns=\"admission_source_id\")"
   ]
  },
  {
   "cell_type": "markdown",
   "id": "27f3014d",
   "metadata": {},
   "source": [
    "Dropping encounter_id and patient_id since they aren't relevant"
   ]
  },
  {
   "cell_type": "code",
   "execution_count": 62,
   "id": "c844ac62",
   "metadata": {},
   "outputs": [],
   "source": [
    "data_prepared = data_prepared.drop(columns=[\"encounter_id\", \"patient_nbr\"])"
   ]
  },
  {
   "cell_type": "markdown",
   "id": "aead3785",
   "metadata": {},
   "source": [
    "Dropping diag_1, diag_2 and diag_3 since we've encoded it into the co_occurence matrix and won't be using the original columns"
   ]
  },
  {
   "cell_type": "code",
   "execution_count": 63,
   "id": "bad0c934",
   "metadata": {},
   "outputs": [],
   "source": [
    "data_prepared = data_prepared.drop(columns=[\"diag_1\", \"diag_2\", \"diag_3\"])"
   ]
  },
  {
   "cell_type": "markdown",
   "id": "d4e36c07",
   "metadata": {},
   "source": [
    "## 3. EDA"
   ]
  },
  {
   "cell_type": "markdown",
   "id": "53d42987",
   "metadata": {},
   "source": [
    "### 3.1 General"
   ]
  },
  {
   "cell_type": "markdown",
   "id": "77489742",
   "metadata": {},
   "source": [
    "Get summary statistics of the numerical columns after all the cleaning"
   ]
  },
  {
   "cell_type": "code",
   "execution_count": 64,
   "id": "6cdd6f44",
   "metadata": {},
   "outputs": [
    {
     "data": {
      "text/html": [
       "<div>\n",
       "<style scoped>\n",
       "    .dataframe tbody tr th:only-of-type {\n",
       "        vertical-align: middle;\n",
       "    }\n",
       "\n",
       "    .dataframe tbody tr th {\n",
       "        vertical-align: top;\n",
       "    }\n",
       "\n",
       "    .dataframe thead th {\n",
       "        text-align: right;\n",
       "    }\n",
       "</style>\n",
       "<table border=\"1\" class=\"dataframe\">\n",
       "  <thead>\n",
       "    <tr style=\"text-align: right;\">\n",
       "      <th></th>\n",
       "      <th>time_in_hospital</th>\n",
       "      <th>num_lab_procedures</th>\n",
       "      <th>num_procedures</th>\n",
       "      <th>num_medications</th>\n",
       "      <th>number_outpatient</th>\n",
       "      <th>number_emergency</th>\n",
       "      <th>number_inpatient</th>\n",
       "      <th>number_diagnoses</th>\n",
       "    </tr>\n",
       "  </thead>\n",
       "  <tbody>\n",
       "    <tr>\n",
       "      <th>count</th>\n",
       "      <td>101763.000000</td>\n",
       "      <td>101763.000000</td>\n",
       "      <td>101763.000000</td>\n",
       "      <td>101763.000000</td>\n",
       "      <td>101763.000000</td>\n",
       "      <td>101763.000000</td>\n",
       "      <td>101763.000000</td>\n",
       "      <td>101763.000000</td>\n",
       "    </tr>\n",
       "    <tr>\n",
       "      <th>mean</th>\n",
       "      <td>3.729489</td>\n",
       "      <td>45.143687</td>\n",
       "      <td>0.975335</td>\n",
       "      <td>14.841180</td>\n",
       "      <td>0.154624</td>\n",
       "      <td>0.075440</td>\n",
       "      <td>0.340527</td>\n",
       "      <td>7.944253</td>\n",
       "    </tr>\n",
       "    <tr>\n",
       "      <th>std</th>\n",
       "      <td>2.110104</td>\n",
       "      <td>13.613317</td>\n",
       "      <td>1.150503</td>\n",
       "      <td>5.712318</td>\n",
       "      <td>0.448723</td>\n",
       "      <td>0.264101</td>\n",
       "      <td>0.610959</td>\n",
       "      <td>1.445065</td>\n",
       "    </tr>\n",
       "    <tr>\n",
       "      <th>min</th>\n",
       "      <td>1.000000</td>\n",
       "      <td>12.000000</td>\n",
       "      <td>0.000000</td>\n",
       "      <td>4.000000</td>\n",
       "      <td>0.000000</td>\n",
       "      <td>0.000000</td>\n",
       "      <td>0.000000</td>\n",
       "      <td>5.000000</td>\n",
       "    </tr>\n",
       "    <tr>\n",
       "      <th>25%</th>\n",
       "      <td>2.000000</td>\n",
       "      <td>37.000000</td>\n",
       "      <td>0.000000</td>\n",
       "      <td>11.000000</td>\n",
       "      <td>0.000000</td>\n",
       "      <td>0.000000</td>\n",
       "      <td>0.000000</td>\n",
       "      <td>7.000000</td>\n",
       "    </tr>\n",
       "    <tr>\n",
       "      <th>50%</th>\n",
       "      <td>3.000000</td>\n",
       "      <td>45.000000</td>\n",
       "      <td>1.000000</td>\n",
       "      <td>14.000000</td>\n",
       "      <td>0.000000</td>\n",
       "      <td>0.000000</td>\n",
       "      <td>0.000000</td>\n",
       "      <td>9.000000</td>\n",
       "    </tr>\n",
       "    <tr>\n",
       "      <th>75%</th>\n",
       "      <td>5.000000</td>\n",
       "      <td>55.000000</td>\n",
       "      <td>2.000000</td>\n",
       "      <td>19.000000</td>\n",
       "      <td>0.000000</td>\n",
       "      <td>0.000000</td>\n",
       "      <td>1.000000</td>\n",
       "      <td>9.000000</td>\n",
       "    </tr>\n",
       "    <tr>\n",
       "      <th>max</th>\n",
       "      <td>9.000000</td>\n",
       "      <td>74.000000</td>\n",
       "      <td>4.000000</td>\n",
       "      <td>29.000000</td>\n",
       "      <td>2.000000</td>\n",
       "      <td>1.000000</td>\n",
       "      <td>2.000000</td>\n",
       "      <td>10.000000</td>\n",
       "    </tr>\n",
       "  </tbody>\n",
       "</table>\n",
       "</div>"
      ],
      "text/plain": [
       "       time_in_hospital  num_lab_procedures  num_procedures  num_medications  \\\n",
       "count     101763.000000       101763.000000   101763.000000    101763.000000   \n",
       "mean           3.729489           45.143687        0.975335        14.841180   \n",
       "std            2.110104           13.613317        1.150503         5.712318   \n",
       "min            1.000000           12.000000        0.000000         4.000000   \n",
       "25%            2.000000           37.000000        0.000000        11.000000   \n",
       "50%            3.000000           45.000000        1.000000        14.000000   \n",
       "75%            5.000000           55.000000        2.000000        19.000000   \n",
       "max            9.000000           74.000000        4.000000        29.000000   \n",
       "\n",
       "       number_outpatient  number_emergency  number_inpatient  number_diagnoses  \n",
       "count      101763.000000     101763.000000     101763.000000     101763.000000  \n",
       "mean            0.154624          0.075440          0.340527          7.944253  \n",
       "std             0.448723          0.264101          0.610959          1.445065  \n",
       "min             0.000000          0.000000          0.000000          5.000000  \n",
       "25%             0.000000          0.000000          0.000000          7.000000  \n",
       "50%             0.000000          0.000000          0.000000          9.000000  \n",
       "75%             0.000000          0.000000          1.000000          9.000000  \n",
       "max             2.000000          1.000000          2.000000         10.000000  "
      ]
     },
     "execution_count": 64,
     "metadata": {},
     "output_type": "execute_result"
    }
   ],
   "source": [
    "data_prepared[['time_in_hospital', 'num_lab_procedures', 'num_procedures', 'num_medications', 'number_outpatient', 'number_emergency', 'number_inpatient', 'number_diagnoses']].describe()"
   ]
  },
  {
   "cell_type": "code",
   "execution_count": 65,
   "id": "eb8dbcec",
   "metadata": {},
   "outputs": [
    {
     "name": "stdout",
     "output_type": "stream",
     "text": [
      "The ratio of lab procedures to diagnosis is 5.682559179447597\n"
     ]
    }
   ],
   "source": [
    "lab_proc_mean = data_prepared['num_lab_procedures'].mean()\n",
    "diag_mean = data_prepared['number_diagnoses'].mean()\n",
    "\n",
    "print(f\"The ratio of lab procedures to diagnosis is {lab_proc_mean/diag_mean}\")"
   ]
  },
  {
   "cell_type": "markdown",
   "id": "05dced44",
   "metadata": {},
   "source": [
    "Interesting. The mean number of diagnoses is 7.4 and the number of lab work is 43. So it takes about ~6 lab procedures to get one diagnosis."
   ]
  },
  {
   "cell_type": "markdown",
   "id": "d9bf1b44",
   "metadata": {},
   "source": [
    "Analyze distribution of target variable "
   ]
  },
  {
   "cell_type": "code",
   "execution_count": 66,
   "id": "3e431364",
   "metadata": {},
   "outputs": [
    {
     "data": {
      "text/plain": [
       "readmitted\n",
       "0    0.539106\n",
       "2    0.349292\n",
       "1    0.111602\n",
       "Name: proportion, dtype: float64"
      ]
     },
     "execution_count": 66,
     "metadata": {},
     "output_type": "execute_result"
    }
   ],
   "source": [
    "data_prepared['readmitted'].value_counts(normalize=True)"
   ]
  },
  {
   "cell_type": "markdown",
   "id": "0161fefa",
   "metadata": {},
   "source": [
    "Almost half of the patients in the data set are readmitted. Specifically, ~35% are readmitted after more than 30 days, and ~11% are readmitted after less than 30 days. We have a class rarity on the latest and we will have to later try applying an oversamplying technique."
   ]
  },
  {
   "cell_type": "markdown",
   "id": "afa22003",
   "metadata": {},
   "source": [
    "Plotting the histograms of numerical variables"
   ]
  },
  {
   "cell_type": "code",
   "execution_count": 67,
   "id": "461bb690",
   "metadata": {},
   "outputs": [
    {
     "data": {
      "image/png": "[encoded data removed]",
      "text/plain": [
       "<Figure size 800x600 with 9 Axes>"
      ]
     },
     "metadata": {},
     "output_type": "display_data"
    }
   ],
   "source": [
    "histograms_columns = data_prepared[[\"time_in_hospital\", \"num_lab_procedures\", \"num_procedures\", \"num_medications\", \"number_outpatient\", \"number_emergency\", \"number_inpatient\", \"number_diagnoses\"]]\n",
    "\n",
    "histograms_columns.hist(figsize=(8, 6), layout=(3, 3), edgecolor='black', grid=False)\n",
    "\n",
    "plt.tight_layout()\n",
    "plt.show()"
   ]
  },
  {
   "cell_type": "markdown",
   "id": "0637479e",
   "metadata": {},
   "source": [
    "Comparison of readmission rates across patient-related categories"
   ]
  },
  {
   "cell_type": "code",
   "execution_count": 68,
   "id": "4ebfe4b3",
   "metadata": {},
   "outputs": [
    {
     "data": {
      "image/png": "[encoded data removed]",
      "text/plain": [
       "<Figure size 1000x600 with 6 Axes>"
      ]
     },
     "metadata": {},
     "output_type": "display_data"
    }
   ],
   "source": [
    "fig, axes = plt.subplots(2, 3, figsize=(10, 6)) \n",
    "axes = axes.flatten()\n",
    "\n",
    "race_columns = ['race_AfricanAmerican', 'race_Asian', 'race_Caucasian', 'race_Hispanic', 'race_Other']\n",
    "\n",
    "for ax, column in zip(axes, race_columns):\n",
    "    # For each race, calculate the count of readmitted values\n",
    "    readmitted_counts = data_prepared[data_prepared[column] == 1]['readmitted'].value_counts()\n",
    "    ax.bar(readmitted_counts.index, readmitted_counts.values, color=['blue', 'orange'])\n",
    "    ax.set_title(f'Readmitted Counts: {column}')\n",
    "    ax.set_xlabel('Readmitted')\n",
    "    ax.set_ylabel('Count')\n",
    "\n",
    "plt.tight_layout()\n",
    "plt.show()"
   ]
  },
  {
   "cell_type": "code",
   "execution_count": 69,
   "id": "18455ad0",
   "metadata": {},
   "outputs": [
    {
     "data": {
      "image/png": "[encoded data removed]",
      "text/plain": [
       "<Figure size 640x480 with 1 Axes>"
      ]
     },
     "metadata": {},
     "output_type": "display_data"
    }
   ],
   "source": [
    "#Comparison of readmission vs no readmission for different categories of gender\n",
    "summary_table = data_prepared.groupby(['gender', 'readmitted']).size().unstack(fill_value=0)\n",
    "\n",
    "summary_table.plot(kind='bar', stacked=False)\n",
    "plt.title('Comparison of Readmission by gender')\n",
    "plt.xlabel('gender')\n",
    "plt.ylabel('Count')\n",
    "plt.xticks(rotation=45)\n",
    "plt.legend(title='Readmitted')\n",
    "\n",
    "plt.show()"
   ]
  },
  {
   "cell_type": "code",
   "execution_count": 70,
   "id": "96dddb63",
   "metadata": {},
   "outputs": [
    {
     "data": {
      "image/png": "[encoded data removed]",
      "text/plain": [
       "<Figure size 640x480 with 1 Axes>"
      ]
     },
     "metadata": {},
     "output_type": "display_data"
    }
   ],
   "source": [
    "#Comparison of readmission vs no readmission for different categories of age\n",
    "summary_table = data_prepared.groupby(['age', 'readmitted']).size().unstack(fill_value=0)\n",
    "\n",
    "summary_table.plot(kind='bar', stacked=False)\n",
    "plt.title('Comparison of Readmission by age')\n",
    "plt.xlabel('age')\n",
    "plt.ylabel('Count')\n",
    "plt.xticks(rotation=45)\n",
    "plt.legend(title='Readmitted')\n",
    "\n",
    "plt.show()"
   ]
  },
  {
   "cell_type": "markdown",
   "id": "e15c98af",
   "metadata": {},
   "source": [
    "Race: The majority of the patients are Caucasian, followed by African American. There is no obvious trend regarding readmission across race.\n",
    "\n",
    "Gender: The data seems to be more or less balanced across gender, with a slightly higher proportion of females. The readmission rate is similar across both.\n",
    "\n",
    "Age: The data is clearly skewed towards older patients as expected in this context. The readmission rate behaves similarly, with a slightly higher rate of readmission for older people."
   ]
  },
  {
   "cell_type": "markdown",
   "id": "c83beaa8",
   "metadata": {},
   "source": [
    "Plotting the resultant most important features from the model versus the readmission"
   ]
  },
  {
   "cell_type": "markdown",
   "id": "89f8616f",
   "metadata": {},
   "source": [
    "### 3.2 Post modelling"
   ]
  },
  {
   "cell_type": "markdown",
   "id": "08213dde",
   "metadata": {},
   "source": [
    "Plotting the most important features versus readmission"
   ]
  },
  {
   "cell_type": "markdown",
   "id": "a58745cd",
   "metadata": {},
   "source": [
    "Number of procedures"
   ]
  },
  {
   "cell_type": "code",
   "execution_count": 76,
   "id": "4d42f143",
   "metadata": {},
   "outputs": [
    {
     "data": {
      "image/png": "[encoded data removed]",
      "text/plain": [
       "<Figure size 1000x600 with 1 Axes>"
      ]
     },
     "metadata": {},
     "output_type": "display_data"
    }
   ],
   "source": [
    "# Plot a count plot of 'num_procedures' against 'readmitted'\n",
    "plt.figure(figsize=(10, 6))\n",
    "sns.countplot(x='num_procedures', hue='readmitted', data=data_prepared)\n",
    "plt.title('Number of Procedures vs. Readmitted')\n",
    "plt.xlabel('Number of Procedures')\n",
    "plt.ylabel('Count')\n",
    "plt.legend(title='Readmitted', loc='upper right')\n",
    "plt.show()"
   ]
  },
  {
   "cell_type": "code",
   "execution_count": 82,
   "id": "fc3b96d5",
   "metadata": {},
   "outputs": [],
   "source": [
    "# get csv for the presentation\n",
    "# Select 'num_procedures' and 'readmitted' columns\n",
    "selected_data = data_prepared[['num_procedures', 'readmitted']]\n",
    "\n",
    "# Save selected data to CSV\n",
    "selected_data.to_csv('num_procedures_vs_readmitted.csv', index=False)"
   ]
  },
  {
   "cell_type": "markdown",
   "id": "fee8476e",
   "metadata": {},
   "source": [
    "Age (once more)"
   ]
  },
  {
   "cell_type": "code",
   "execution_count": 77,
   "id": "a23cfc8d",
   "metadata": {},
   "outputs": [
    {
     "data": {
      "image/png": "[encoded data removed]",
      "text/plain": [
       "<Figure size 1000x600 with 1 Axes>"
      ]
     },
     "metadata": {},
     "output_type": "display_data"
    }
   ],
   "source": [
    "# Plot a count plot of 'num_procedures' against 'readmitted'\n",
    "plt.figure(figsize=(10, 6))\n",
    "sns.countplot(x='age', hue='readmitted', data=data_prepared)\n",
    "plt.title('Age vs. Readmitted')\n",
    "plt.xlabel('Age')\n",
    "plt.ylabel('Count')\n",
    "plt.legend(title='Readmitted', loc='upper right')\n",
    "plt.show()"
   ]
  },
  {
   "cell_type": "markdown",
   "id": "67b037cf",
   "metadata": {},
   "source": [
    "Discharged home"
   ]
  },
  {
   "cell_type": "code",
   "execution_count": 78,
   "id": "733083e2",
   "metadata": {},
   "outputs": [
    {
     "data": {
      "image/png": "[encoded data removed]",
      "text/plain": [
       "<Figure size 1000x600 with 1 Axes>"
      ]
     },
     "metadata": {},
     "output_type": "display_data"
    }
   ],
   "source": [
    "# Plot a count plot of 'num_procedures' against 'readmitted'\n",
    "plt.figure(figsize=(10, 6))\n",
    "sns.countplot(x='discharged_home', hue='readmitted', data=data_prepared)\n",
    "plt.title('Number of people discharged to home vs. Readmitted')\n",
    "plt.xlabel('Number of people discharged to home')\n",
    "plt.ylabel('Count')\n",
    "plt.legend(title='Readmitted', loc='upper right')\n",
    "plt.show()"
   ]
  },
  {
   "cell_type": "markdown",
   "id": "93283b02",
   "metadata": {},
   "source": [
    "Time in hospital"
   ]
  },
  {
   "cell_type": "code",
   "execution_count": 79,
   "id": "6ebd0edb",
   "metadata": {},
   "outputs": [
    {
     "data": {
      "image/png": "[encoded data removed]",
      "text/plain": [
       "<Figure size 1000x600 with 1 Axes>"
      ]
     },
     "metadata": {},
     "output_type": "display_data"
    }
   ],
   "source": [
    "# Plot a count plot of 'num_procedures' against 'readmitted'\n",
    "plt.figure(figsize=(10, 6))\n",
    "sns.countplot(x='time_in_hospital', hue='readmitted', data=data_prepared)\n",
    "plt.title('Time spent in hospital vs. Readmitted')\n",
    "plt.xlabel('Time spent in hospital')\n",
    "plt.ylabel('Count')\n",
    "plt.legend(title='Readmitted', loc='upper right')\n",
    "plt.show()"
   ]
  },
  {
   "cell_type": "markdown",
   "id": "7d9a75fa",
   "metadata": {},
   "source": [
    "Number of emergencies"
   ]
  },
  {
   "cell_type": "code",
   "execution_count": 80,
   "id": "fc06131c",
   "metadata": {},
   "outputs": [
    {
     "data": {
      "image/png": "[encoded data removed]",
      "text/plain": [
       "<Figure size 1000x600 with 1 Axes>"
      ]
     },
     "metadata": {},
     "output_type": "display_data"
    }
   ],
   "source": [
    "# Plot a count plot of 'num_procedures' against 'readmitted'\n",
    "plt.figure(figsize=(10, 6))\n",
    "sns.countplot(x='number_emergency', hue='readmitted', data=data_prepared)\n",
    "plt.title('Number of emergencies vs. Readmitted')\n",
    "plt.xlabel('Number of emergencies')\n",
    "plt.ylabel('Count')\n",
    "plt.legend(title='Readmitted', loc='upper right')\n",
    "plt.show()"
   ]
  },
  {
   "cell_type": "markdown",
   "id": "9b1e014b",
   "metadata": {},
   "source": [
    "Number of diagnoses"
   ]
  },
  {
   "cell_type": "code",
   "execution_count": 81,
   "id": "0048bb31",
   "metadata": {},
   "outputs": [
    {
     "data": {
      "image/png": "[encoded data removed]",
      "text/plain": [
       "<Figure size 1000x600 with 1 Axes>"
      ]
     },
     "metadata": {},
     "output_type": "display_data"
    }
   ],
   "source": [
    "# Plot a count plot of 'num_procedures' against 'readmitted'\n",
    "plt.figure(figsize=(10, 6))\n",
    "sns.countplot(x='number_diagnoses', hue='readmitted', data=data_prepared)\n",
    "plt.title('Number of diagnoses vs. Readmitted')\n",
    "plt.xlabel('Number of diagnoses')\n",
    "plt.ylabel('Count')\n",
    "plt.legend(title='Readmitted', loc='upper right')\n",
    "plt.show()"
   ]
  },
  {
   "cell_type": "code",
   "execution_count": 85,
   "id": "476ee228",
   "metadata": {},
   "outputs": [],
   "source": [
    "\n",
    "# Select 'num_procedures' and 'readmitted' columns\n",
    "selected_data = data_prepared[['number_diagnoses', 'readmitted']]\n",
    "\n",
    "# Save selected data to CSV\n",
    "selected_data.to_csv('number_diagnoses_vs_readmitted.csv', index=False)"
   ]
  },
  {
   "cell_type": "markdown",
   "id": "d631cd52",
   "metadata": {},
   "source": [
    "## 4. Prepare for modelling"
   ]
  },
  {
   "cell_type": "markdown",
   "id": "2b49155cef9a4fd",
   "metadata": {
    "collapsed": false
   },
   "source": [
    "### 4.1 Checks of prepared data"
   ]
  },
  {
   "cell_type": "markdown",
   "id": "cbf3de88",
   "metadata": {},
   "source": [
    "Checking if all data types are integers or floats"
   ]
  },
  {
   "cell_type": "code",
   "execution_count": null,
   "id": "75b8e025",
   "metadata": {},
   "outputs": [],
   "source": [
    "pd.set_option('display.max_rows', None)\n",
    "data_prepared.dtypes"
   ]
  },
  {
   "cell_type": "markdown",
   "id": "33bed732",
   "metadata": {},
   "source": [
    "Yes, all of them are numerical, therefore the data is ready in terms of datatypes"
   ]
  },
  {
   "cell_type": "markdown",
   "id": "f2e5e724",
   "metadata": {},
   "source": [
    "Checking if we have missing values or not"
   ]
  },
  {
   "cell_type": "code",
   "execution_count": null,
   "id": "c730ea0b",
   "metadata": {},
   "outputs": [],
   "source": [
    "missing = data_prepared.isna().sum().sum()\n",
    "missing"
   ]
  },
  {
   "cell_type": "markdown",
   "id": "c4658100",
   "metadata": {},
   "source": [
    "We don't have any missing values"
   ]
  },
  {
   "cell_type": "markdown",
   "id": "18568e32",
   "metadata": {},
   "source": [
    "### 4.2 Scaling"
   ]
  },
  {
   "cell_type": "markdown",
   "id": "8cff9fc3",
   "metadata": {},
   "source": [
    "Lets look at the current scenario of features"
   ]
  },
  {
   "cell_type": "code",
   "execution_count": null,
   "id": "2aaa526c",
   "metadata": {},
   "outputs": [],
   "source": [
    "data_prepared.describe()"
   ]
  },
  {
   "cell_type": "markdown",
   "id": "bf652ded",
   "metadata": {},
   "source": [
    "We will be running Random Forest, Logistic Regression and XGBoost since we'll be dealing with a multiclass output. \n",
    "\n",
    "For Logistic Regression, it is important that the variables are scaled. So we'll scale the dataset. "
   ]
  },
  {
   "cell_type": "markdown",
   "id": "d70fb1a7",
   "metadata": {},
   "source": [
    "Apply standard scaling since we've already dealt with outliers"
   ]
  },
  {
   "cell_type": "code",
   "execution_count": null,
   "id": "45534088",
   "metadata": {},
   "outputs": [],
   "source": [
    "# Calculate the minimum and maximum values for each column\n",
    "min_max_values = data_prepared.min()\n",
    "max_min_values = data_prepared.max()\n",
    "\n",
    "# Identify columns with values outside the interval [-1, 1]\n",
    "non_binary_columns = [col for col in data_prepared.columns if min_max_values[col] < -1 or max_min_values[col] > 1]\n",
    "\n",
    "# Remove the 'readmitted' column if it's in the list\n",
    "non_binary_columns = [col for col in non_binary_columns if col != 'readmitted']\n",
    "\n",
    "# Create a DataFrame containing only non-binary columns\n",
    "data_to_scale = data_prepared[non_binary_columns]\n",
    "\n",
    "# Initialize MinMaxScaler\n",
    "scaler = StandardScaler()\n",
    "\n",
    "# Fit and transform the scaler on the data\n",
    "scaled_data = scaler.fit_transform(data_to_scale)\n",
    "\n",
    "# Create a DataFrame from the scaled data\n",
    "scaled_df = pd.DataFrame(scaled_data, columns=non_binary_columns)\n",
    "\n",
    "# Replace the non-binary columns in the original DataFrame with the scaled values\n",
    "data_prepared[non_binary_columns] = scaled_df"
   ]
  },
  {
   "cell_type": "markdown",
   "id": "d7b806e3",
   "metadata": {},
   "source": [
    "The standard scaling is generating NaNs"
   ]
  },
  {
   "cell_type": "code",
   "execution_count": null,
   "id": "5d885db2",
   "metadata": {},
   "outputs": [],
   "source": [
    "data_prepared.isna().sum(axis=1).sum()"
   ]
  },
  {
   "cell_type": "markdown",
   "id": "5df18ea3",
   "metadata": {},
   "source": [
    "Since it's not a lot, we'll drop these rows"
   ]
  },
  {
   "cell_type": "code",
   "execution_count": null,
   "id": "1007dade",
   "metadata": {},
   "outputs": [],
   "source": [
    "data_prepared = data_prepared.dropna()"
   ]
  },
  {
   "cell_type": "markdown",
   "id": "a0fdcf0c",
   "metadata": {},
   "source": [
    "### 4.3 Splitting dataset"
   ]
  },
  {
   "cell_type": "markdown",
   "id": "465bbac3",
   "metadata": {},
   "source": [
    "Reserving a random 15% test set for the end"
   ]
  },
  {
   "cell_type": "code",
   "execution_count": null,
   "id": "81b75b37",
   "metadata": {},
   "outputs": [],
   "source": [
    "X = data_prepared.drop('readmitted', axis=1)\n",
    "y = data_prepared['readmitted']\n",
    "\n",
    "X_train, X_test_burn, y_train, y_test_burn = train_test_split(X, y, test_size=0.15, random_state=50)"
   ]
  },
  {
   "cell_type": "markdown",
   "id": "3d3d8ad0",
   "metadata": {},
   "source": [
    "Splitting again for the train and val (that we commonly use the word \"test\" as well)"
   ]
  },
  {
   "cell_type": "code",
   "execution_count": null,
   "id": "58db71a5",
   "metadata": {},
   "outputs": [],
   "source": [
    "X_train, X_test, y_train, y_test = train_test_split(X_train, y_train, test_size=0.2, random_state=50)"
   ]
  },
  {
   "cell_type": "markdown",
   "id": "ac31bc77",
   "metadata": {},
   "source": [
    "### 4.4 Balancing the dataset"
   ]
  },
  {
   "cell_type": "markdown",
   "id": "4112cdc5",
   "metadata": {},
   "source": [
    "We previously had used a 0.85 for rebalancing and the results were really bad because the minority class became the majority by 20 p.p."
   ]
  },
  {
   "cell_type": "markdown",
   "id": "499e9163",
   "metadata": {},
   "source": [
    "Let's check the current distribution of the target variable"
   ]
  },
  {
   "cell_type": "code",
   "execution_count": null,
   "id": "bb46c6b5",
   "metadata": {},
   "outputs": [],
   "source": [
    "# Calculate the count of each unique value in the 'readmitted' column\n",
    "unique_counts = y_train.value_counts()\n",
    "\n",
    "# Calculate the percentage of each unique value\n",
    "percentages = (unique_counts / unique_counts.sum()) * 100\n",
    "\n",
    "percentages"
   ]
  },
  {
   "cell_type": "markdown",
   "id": "93de1ecd",
   "metadata": {},
   "source": [
    "Applying SMOTE technique to the train set"
   ]
  },
  {
   "cell_type": "code",
   "execution_count": null,
   "id": "58fa3f24",
   "metadata": {},
   "outputs": [],
   "source": [
    "# Original distribution of classes\n",
    "print(\"Original distribution:\", Counter(y_train))\n",
    "\n",
    "# Applying SMOTE to oversample the minority class\n",
    "# Adjust 'sampling_strategy' as needed for your balance target\n",
    "smote = SMOTE(sampling_strategy={1: int(Counter(y)[0] * 0.45)}, random_state=42)\n",
    "X_train, y_train = smote.fit_resample(X_train, y_train)\n",
    "\n",
    "# New distribution of classes\n",
    "print(\"New distribution:\", Counter(y_train))"
   ]
  },
  {
   "cell_type": "markdown",
   "id": "8955db33",
   "metadata": {},
   "source": [
    "Let's check again"
   ]
  },
  {
   "cell_type": "code",
   "execution_count": null,
   "id": "0ffb95b1",
   "metadata": {},
   "outputs": [],
   "source": [
    "# Calculate the count of each unique value in the 'readmitted' column\n",
    "unique_counts = y_train.value_counts()\n",
    "\n",
    "# Calculate the percentage of each unique value\n",
    "percentages = (unique_counts / unique_counts.sum()) * 100\n",
    "\n",
    "percentages"
   ]
  },
  {
   "cell_type": "markdown",
   "id": "6d9a9d60",
   "metadata": {},
   "source": [
    "# 5. Modelling"
   ]
  },
  {
   "cell_type": "markdown",
   "id": "8991eb34",
   "metadata": {},
   "source": [
    "We will be running Random Forest, Logistic Regression and XGBoost since we'll be dealing with a multiclass output. We have considered Naive Bayes, but Logistic Regression sounds more suitable when dealing with many instances.\n",
    "\n",
    "We will also try to drop columns based on correlation matrices in the end."
   ]
  },
  {
   "cell_type": "markdown",
   "id": "05a158fb",
   "metadata": {},
   "source": [
    "### 5.1 Running models considering diag columns"
   ]
  },
  {
   "cell_type": "markdown",
   "id": "cad95300",
   "metadata": {},
   "source": [
    "#### Random Forest Classifier"
   ]
  },
  {
   "cell_type": "code",
   "execution_count": null,
   "id": "1be31e6f",
   "metadata": {},
   "outputs": [],
   "source": [
    "# Initialize the model\n",
    "model = RandomForestClassifier()\n",
    "\n",
    "# Train the model\n",
    "model.fit(X_train, y_train)\n",
    "\n",
    "# Predictions\n",
    "train_pred = model.predict(X_train)\n",
    "y_pred = model.predict(X_test)\n",
    "\n",
    "# Evaluate the model\n",
    "print(f\"Training accuracy: {accuracy_score(y_train, train_pred)}\")\n",
    "print(f\"Testing accuracy: {accuracy_score(y_test, y_pred)}\")\n",
    "\n",
    "# Evaluate the model\n",
    "print(f\"Training report: {classification_report(y_train, train_pred)}\")\n",
    "print(f\"Testing report: {classification_report(y_test, y_pred)}\")"
   ]
  },
  {
   "cell_type": "markdown",
   "id": "56b19ec8",
   "metadata": {},
   "source": [
    "Since this is a clear overfit, lets try to implement some boundaries"
   ]
  },
  {
   "cell_type": "code",
   "execution_count": null,
   "id": "eab32df9",
   "metadata": {},
   "outputs": [],
   "source": [
    "# Initialize the model\n",
    "model = RandomForestClassifier(max_depth=35, max_leaf_nodes=70)\n",
    "\n",
    "# Train the model\n",
    "model.fit(X_train, y_train)\n",
    "\n",
    "# Predictions\n",
    "train_pred = model.predict(X_train)\n",
    "y_pred = model.predict(X_test)\n",
    "\n",
    "# Evaluate the model\n",
    "print(f\"Training accuracy: {accuracy_score(y_train, train_pred)}\")\n",
    "print(f\"Testing accuracy: {accuracy_score(y_test, y_pred)}\")\n",
    "\n",
    "# Evaluate the model\n",
    "print(f\"Training report: {classification_report(y_train, train_pred)}\")\n",
    "print(f\"Testing report: {classification_report(y_test, y_pred)}\")"
   ]
  },
  {
   "cell_type": "markdown",
   "id": "2a2a21bf",
   "metadata": {},
   "source": [
    "#### Multiclass Logistic Regression"
   ]
  },
  {
   "cell_type": "markdown",
   "id": "3e94f64e",
   "metadata": {},
   "source": [
    "We're running logistic regression with the OVR technique so we can consider multiple classes as an output"
   ]
  },
  {
   "cell_type": "code",
   "execution_count": null,
   "id": "79161b04",
   "metadata": {},
   "outputs": [],
   "source": [
    "# It reached the max number of iterations and was running for 2 minutes.. so I deleted this parameter\n",
    "\n",
    "model = LogisticRegression(multi_class='ovr', solver='lbfgs', max_iter=1000)\n",
    "model.fit(X_train, y_train)\n",
    "\n",
    "# Predictions\n",
    "train_pred = model.predict(X_train)\n",
    "y_pred = model.predict(X_test)\n",
    "\n",
    "# Evaluate the model\n",
    "print(f\"Training accuracy: {accuracy_score(y_train, train_pred)}\")\n",
    "print(f\"Testing accuracy: {accuracy_score(y_test, y_pred)}\")\n",
    "\n",
    "# Evaluate the model\n",
    "print(f\"Training report: {classification_report(y_train, train_pred)}\")\n",
    "print(f\"Testing report: {classification_report(y_test, y_pred)}\")"
   ]
  },
  {
   "cell_type": "markdown",
   "id": "d36f6c9c",
   "metadata": {},
   "source": [
    "#### XGBoost"
   ]
  },
  {
   "cell_type": "code",
   "execution_count": null,
   "id": "6f76ac21",
   "metadata": {},
   "outputs": [],
   "source": [
    "from xgboost import XGBClassifier\n",
    "\n",
    "# Initialize the XGBClassifier\n",
    "xgb_model = XGBClassifier(use_label_encoder=False, eval_metric='mlogloss')\n",
    "\n",
    "# Fit the model\n",
    "xgb_model.fit(X_train, y_train)\n",
    "\n",
    "# Predictions\n",
    "train_pred = xgb_model.predict(X_train)\n",
    "y_pred = xgb_model.predict(X_test)\n",
    "\n",
    "# Evaluate the model\n",
    "print(f\"Training accuracy: {accuracy_score(y_train, train_pred)}\")\n",
    "print(f\"Testing accuracy: {accuracy_score(y_test, y_pred)}\")\n",
    "\n",
    "# Evaluate the model\n",
    "print(f\"Training report: {classification_report(y_train, train_pred)}\")\n",
    "print(f\"Testing report: {classification_report(y_test, y_pred)}\")"
   ]
  },
  {
   "cell_type": "markdown",
   "id": "a9cd79b5",
   "metadata": {},
   "source": [
    "### 5.2 Running models without the diag columns\n",
    "Better predictions than 2.1"
   ]
  },
  {
   "cell_type": "markdown",
   "id": "d2736010",
   "metadata": {},
   "source": [
    "#### Random Forest Classifier"
   ]
  },
  {
   "cell_type": "markdown",
   "id": "ff4298db",
   "metadata": {},
   "source": [
    "Dropping the component columns"
   ]
  },
  {
   "cell_type": "code",
   "execution_count": null,
   "id": "d897015a",
   "metadata": {},
   "outputs": [],
   "source": [
    "X_train_nodiag = X_train.copy()\n",
    "X_test_nodiag = X_test.copy()\n",
    "\n",
    "X_train_nodiag = X_train_nodiag.drop(columns=X_train_nodiag.columns[X_train_nodiag.columns.str.startswith(\"avg_component\")])\n",
    "X_test_nodiag = X_test_nodiag.drop(columns=X_test_nodiag.columns[X_test_nodiag.columns.str.startswith(\"avg_component\")])"
   ]
  },
  {
   "cell_type": "code",
   "execution_count": null,
   "id": "9e241f79",
   "metadata": {},
   "outputs": [],
   "source": [
    "# Initialize the model\n",
    "model = RandomForestClassifier()\n",
    "\n",
    "# Train the model\n",
    "model.fit(X_train_nodiag, y_train)\n",
    "\n",
    "# Predictions\n",
    "train_pred = model.predict(X_train_nodiag)\n",
    "y_pred = model.predict(X_test_nodiag)\n",
    "\n",
    "# Evaluate the model\n",
    "print(f\"Training accuracy: {accuracy_score(y_train, train_pred)}\")\n",
    "print(f\"Testing accuracy: {accuracy_score(y_test, y_pred)}\")\n",
    "\n",
    "# Evaluate the model\n",
    "print(f\"Training report: {classification_report(y_train, train_pred)}\")\n",
    "print(f\"Testing report: {classification_report(y_test, y_pred)}\")"
   ]
  },
  {
   "cell_type": "markdown",
   "id": "c27049c5",
   "metadata": {},
   "source": [
    "The tree is overfitting a lot. Lets use a grid to train it and try to find good parameters."
   ]
  },
  {
   "cell_type": "code",
   "execution_count": null,
   "id": "8221c565",
   "metadata": {},
   "outputs": [],
   "source": [
    "# Initialize the model\n",
    "rfc = RandomForestClassifier()\n",
    "\n",
    "params = {'max_depth': list(range(5, 21, 1))}\n",
    "\n",
    "grid = GridSearchCV(rfc, param_grid=params, scoring='accuracy')\n",
    "\n",
    "grid.fit(X_train_nodiag, y_train)"
   ]
  },
  {
   "cell_type": "code",
   "execution_count": null,
   "id": "146f12d5",
   "metadata": {},
   "outputs": [],
   "source": [
    "grid.best_params_"
   ]
  },
  {
   "cell_type": "code",
   "execution_count": null,
   "id": "d2aa6ee1",
   "metadata": {},
   "outputs": [],
   "source": [
    "results=pd.DataFrame(grid.cv_results_)\n",
    "results"
   ]
  },
  {
   "cell_type": "code",
   "execution_count": null,
   "id": "06019fd1",
   "metadata": {},
   "outputs": [],
   "source": [
    "# Predictions\n",
    "train_pred = grid.predict(X_train_nodiag)\n",
    "y_pred = grid.predict(X_test_nodiag)\n",
    "\n",
    "# Evaluate the model\n",
    "print(f\"Training accuracy: {accuracy_score(y_train, train_pred)}\")\n",
    "print(f\"Testing accuracy: {accuracy_score(y_test, y_pred)}\")\n",
    "\n",
    "# Evaluate the model\n",
    "print(f\"Training report: {classification_report(y_train, train_pred)}\")\n",
    "print(f\"Testing report: {classification_report(y_test, y_pred)}\")"
   ]
  },
  {
   "cell_type": "markdown",
   "id": "f638af86",
   "metadata": {},
   "source": [
    "The overfitting got better.. but not enough. Lets try to limit the leaf nodes. We won't use grid again due to computational efficienty."
   ]
  },
  {
   "cell_type": "code",
   "execution_count": null,
   "id": "90f1dde5",
   "metadata": {},
   "outputs": [],
   "source": [
    "# Initialize the model\n",
    "model = RandomForestClassifier(max_depth=20, max_leaf_nodes=40)\n",
    "\n",
    "model.fit(X_train_nodiag, y_train)\n",
    "\n",
    "# Predictions\n",
    "train_pred = model.predict(X_train_nodiag)\n",
    "y_pred = model.predict(X_test_nodiag)\n",
    "\n",
    "# Evaluate the model\n",
    "print(f\"Training accuracy: {accuracy_score(y_train, train_pred)}\")\n",
    "print(f\"Testing accuracy: {accuracy_score(y_test, y_pred)}\")\n",
    "\n",
    "# Evaluate the model\n",
    "print(f\"Training report: {classification_report(y_train, train_pred)}\")\n",
    "print(f\"Testing report: {classification_report(y_test, y_pred)}\")"
   ]
  },
  {
   "cell_type": "markdown",
   "id": "0d116c73",
   "metadata": {},
   "source": [
    "Limiting the leaf nodes actually helped with the overfitting! We'll explore that further."
   ]
  },
  {
   "cell_type": "code",
   "execution_count": null,
   "id": "5f6466b6",
   "metadata": {},
   "outputs": [],
   "source": [
    "# Initialize the model\n",
    "rfc = RandomForestClassifier(max_depth=20)\n",
    "\n",
    "params = {'max_leaf_nodes': list(range(40, 50, 1))}\n",
    "\n",
    "grid = GridSearchCV(rfc, param_grid=params)\n",
    "\n",
    "grid.fit(X_train_nodiag, y_train)"
   ]
  },
  {
   "cell_type": "code",
   "execution_count": null,
   "id": "4d1b8005",
   "metadata": {},
   "outputs": [],
   "source": [
    "grid.best_params_"
   ]
  },
  {
   "cell_type": "code",
   "execution_count": null,
   "id": "5ffc2806",
   "metadata": {},
   "outputs": [],
   "source": [
    "# Predictions\n",
    "train_pred = grid.predict(X_train_nodiag)\n",
    "y_pred = grid.predict(X_test_nodiag)\n",
    "\n",
    "# Evaluate the model\n",
    "print(f\"Training accuracy: {accuracy_score(y_train, train_pred)}\")\n",
    "print(f\"Testing accuracy: {accuracy_score(y_test, y_pred)}\")\n",
    "\n",
    "# Evaluate the model\n",
    "print(f\"Training report: {classification_report(y_train, train_pred)}\")\n",
    "print(f\"Testing report: {classification_report(y_test, y_pred)}\")"
   ]
  },
  {
   "cell_type": "markdown",
   "id": "bf04046c",
   "metadata": {},
   "source": [
    "Testing other depths"
   ]
  },
  {
   "cell_type": "code",
   "execution_count": null,
   "id": "56e85f36",
   "metadata": {},
   "outputs": [],
   "source": [
    "# Initialize the model\n",
    "model = RandomForestClassifier(max_depth=30, max_leaf_nodes=45)\n",
    "\n",
    "model.fit(X_train_nodiag, y_train)\n",
    "\n",
    "# Predictions\n",
    "train_pred = model.predict(X_train_nodiag)\n",
    "y_pred = model.predict(X_test_nodiag)\n",
    "\n",
    "# Evaluate the model\n",
    "print(f\"Training accuracy: {accuracy_score(y_train, train_pred)}\")\n",
    "print(f\"Testing accuracy: {accuracy_score(y_test, y_pred)}\")\n",
    "\n",
    "# Evaluate the model\n",
    "print(f\"Training report: {classification_report(y_train, train_pred)}\")\n",
    "print(f\"Testing report: {classification_report(y_test, y_pred)}\")"
   ]
  },
  {
   "cell_type": "markdown",
   "id": "e294df73",
   "metadata": {},
   "source": [
    "It didn't help much. Lets try another algorithm."
   ]
  },
  {
   "cell_type": "markdown",
   "id": "7a42a0b2",
   "metadata": {},
   "source": [
    "#### XGBoost"
   ]
  },
  {
   "cell_type": "code",
   "execution_count": null,
   "id": "50966231",
   "metadata": {},
   "outputs": [],
   "source": [
    "# Initialize the XGBClassifier\n",
    "xgb_model = XGBClassifier(use_label_encoder=False, eval_metric='mlogloss')\n",
    "\n",
    "# Fit the model\n",
    "xgb_model.fit(X_train_nodiag, y_train)\n",
    "\n",
    "# Predictions\n",
    "train_pred = xgb_model.predict(X_train_nodiag)\n",
    "y_pred = xgb_model.predict(X_test_nodiag)\n",
    "\n",
    "# Evaluate the model\n",
    "print(f\"Training accuracy: {accuracy_score(y_train, train_pred)}\")\n",
    "print(f\"Testing accuracy: {accuracy_score(y_test, y_pred)}\")\n",
    "\n",
    "# Evaluate the model\n",
    "print(f\"Training report: {classification_report(y_train, train_pred)}\")\n",
    "print(f\"Testing report: {classification_report(y_test, y_pred)}\")"
   ]
  },
  {
   "cell_type": "markdown",
   "id": "07849261",
   "metadata": {},
   "source": [
    "This is the best result so far."
   ]
  },
  {
   "cell_type": "markdown",
   "id": "c982b1ed",
   "metadata": {},
   "source": [
    "Let's try with different number of estimators"
   ]
  },
  {
   "cell_type": "code",
   "execution_count": null,
   "id": "452cdf67",
   "metadata": {},
   "outputs": [],
   "source": [
    "# Initialize the model\n",
    "xgb = XGBClassifier()\n",
    "\n",
    "params = {'max_depth': [5, 6, 10, 14, 18], 'n_estimators': [2, 5, 17, 19]}\n",
    "\n",
    "grid = GridSearchCV(xgb, param_grid=params)\n",
    "\n",
    "grid.fit(X_train_nodiag, y_train)"
   ]
  },
  {
   "cell_type": "code",
   "execution_count": null,
   "id": "491dd4bb",
   "metadata": {},
   "outputs": [],
   "source": [
    "grid.best_params_"
   ]
  },
  {
   "cell_type": "code",
   "execution_count": null,
   "id": "255e21cf",
   "metadata": {},
   "outputs": [],
   "source": [
    "# Predictions\n",
    "train_pred = grid.predict(X_train_nodiag)\n",
    "y_pred = grid.predict(X_test_nodiag)\n",
    "\n",
    "# Evaluate the model\n",
    "print(f\"Training accuracy: {accuracy_score(y_train, train_pred)}\")\n",
    "print(f\"Testing accuracy: {accuracy_score(y_test, y_pred)}\")\n",
    "\n",
    "# Evaluate the model\n",
    "print(f\"Training report: {classification_report(y_train, train_pred)}\")\n",
    "print(f\"Testing report: {classification_report(y_test, y_pred)}\")"
   ]
  },
  {
   "cell_type": "markdown",
   "id": "90fd34e0",
   "metadata": {},
   "source": [
    "#### Logistic Regression"
   ]
  },
  {
   "cell_type": "code",
   "execution_count": null,
   "id": "e79a4e13",
   "metadata": {},
   "outputs": [],
   "source": [
    "# Initialize the model\n",
    "model = LogisticRegression(multi_class='ovr', solver='lbfgs', max_iter=1000)\n",
    "\n",
    "# Train the model\n",
    "model.fit(X_train_nodiag, y_train)\n",
    "\n",
    "# Predictions\n",
    "train_pred = model.predict(X_train_nodiag)\n",
    "y_pred = model.predict(X_test_nodiag)\n",
    "\n",
    "# Evaluate the model\n",
    "print(f\"Training accuracy: {accuracy_score(y_train, train_pred)}\")\n",
    "print(f\"Testing accuracy: {accuracy_score(y_test, y_pred)}\")\n",
    "\n",
    "# Evaluate the model\n",
    "print(f\"Training report: {classification_report(y_train, train_pred)}\")\n",
    "print(f\"Testing report: {classification_report(y_test, y_pred)}\")"
   ]
  },
  {
   "cell_type": "markdown",
   "id": "7336087b",
   "metadata": {},
   "source": [
    "### 5.3 Running models considering feature selection based on correlation matrices and diag columns"
   ]
  },
  {
   "cell_type": "code",
   "execution_count": null,
   "id": "1ef01213",
   "metadata": {},
   "outputs": [],
   "source": [
    "X_train_cor = X_train.copy()\n",
    "X_test_cor = X_test.copy()\n",
    "\n",
    "# Calculating the matrix\n",
    "correlation_matrix = X_train_cor .corr()\n",
    "\n",
    "# Threshold for dropping features\n",
    "threshold = 0.5\n",
    "\n",
    "# Find and store pairs of highly correlated features\n",
    "corr_pairs = correlation_matrix.unstack()\n",
    "high_corr = corr_pairs[(abs(corr_pairs) > threshold) & (corr_pairs != 1.0)]\n",
    "\n",
    "# Identify unique features to drop\n",
    "to_drop = set()\n",
    "for i, j in high_corr.index:\n",
    "    if i not in to_drop and j not in to_drop:\n",
    "        to_drop.add(j)  # Choose one of the features to drop\n",
    "\n",
    "# Drop the features from the DataFrame\n",
    "X_train_cor = X_train_cor.drop(columns=to_drop)\n",
    "X_test_cor = X_test_cor.drop(columns=to_drop)\n",
    "\n",
    "print(f\"Dropped Columns: {to_drop}\")\n",
    "print(f\"Remaining Columns: {X_train_cor.columns}\")\n",
    "X_train_cor.shape"
   ]
  },
  {
   "cell_type": "markdown",
   "id": "f685b460",
   "metadata": {},
   "source": [
    "Lets try the model with the best result previously trained, which is XGBoost"
   ]
  },
  {
   "cell_type": "code",
   "execution_count": null,
   "id": "17a8d1cf",
   "metadata": {},
   "outputs": [],
   "source": [
    "# Initialize the XGBClassifier\n",
    "xgb_model = XGBClassifier(use_label_encoder=False, eval_metric='mlogloss')\n",
    "\n",
    "# Fit the model\n",
    "xgb_model.fit(X_train_cor, y_train)\n",
    "\n",
    "# Predictions\n",
    "train_pred = xgb_model.predict(X_train_cor)\n",
    "y_pred = xgb_model.predict(X_test_cor)\n",
    "\n",
    "# Evaluate the model\n",
    "print(f\"Training accuracy: {accuracy_score(y_train, train_pred)}\")\n",
    "print(f\"Testing accuracy: {accuracy_score(y_test, y_pred)}\")\n",
    "\n",
    "# Evaluate the model\n",
    "print(f\"Training report: {classification_report(y_train, train_pred)}\")\n",
    "print(f\"Testing report: {classification_report(y_test, y_pred)}\")"
   ]
  },
  {
   "cell_type": "markdown",
   "id": "b6fb557f",
   "metadata": {},
   "source": [
    "It is overfit but changing the parameters didn't seem to help with it."
   ]
  },
  {
   "cell_type": "markdown",
   "id": "22c4820c",
   "metadata": {},
   "source": [
    "### 5.4 Running models considering feature selection based on correlation matrices without diag columns"
   ]
  },
  {
   "cell_type": "markdown",
   "id": "e6697737",
   "metadata": {},
   "source": [
    "Let's see if we can improve the results by finding highly correlated features and dropping them, since we have many features."
   ]
  },
  {
   "cell_type": "code",
   "execution_count": null,
   "id": "f821e4ea",
   "metadata": {},
   "outputs": [],
   "source": [
    "X_train_cor_nodiag = X_train_nodiag.copy()\n",
    "X_test_cor_nodiag = X_test_nodiag.copy()\n",
    "\n",
    "# Calculating the matrix\n",
    "correlation_matrix = X_train_cor_nodiag.corr()\n",
    "\n",
    "# Threshold for dropping features\n",
    "threshold = 0.5\n",
    "\n",
    "# Find and store pairs of highly correlated features\n",
    "corr_pairs = correlation_matrix.unstack()\n",
    "high_corr = corr_pairs[(abs(corr_pairs) > threshold) & (corr_pairs != 1.0)]\n",
    "\n",
    "# Identify unique features to drop\n",
    "to_drop = set()\n",
    "for i, j in high_corr.index:\n",
    "    if i not in to_drop and j not in to_drop:\n",
    "        to_drop.add(j)  # Choose one of the features to drop\n",
    "\n",
    "# Drop the features from the DataFrame\n",
    "X_train_cor_nodiag = X_train_cor_nodiag.drop(columns=to_drop)\n",
    "X_test_cor_nodiag = X_test_cor_nodiag.drop(columns=to_drop)\n",
    "\n",
    "print(f\"Dropped Columns: {to_drop}\")\n",
    "print(f\"Remaining Columns: {X_train_cor_nodiag.columns}\")\n",
    "X_train_cor_nodiag.shape"
   ]
  },
  {
   "cell_type": "code",
   "execution_count": null,
   "id": "f08a3bc2",
   "metadata": {},
   "outputs": [],
   "source": [
    "# Initialize the XGBClassifier\n",
    "xgb_model = XGBClassifier(use_label_encoder=False, eval_metric='mlogloss')\n",
    "\n",
    "# Fit the model\n",
    "xgb_model.fit(X_train_cor_nodiag, y_train)\n",
    "\n",
    "# Predictions\n",
    "train_pred = xgb_model.predict(X_train_cor_nodiag)\n",
    "y_pred = xgb_model.predict(X_test_cor_nodiag)\n",
    "\n",
    "# Evaluate the model\n",
    "print(f\"Training accuracy: {accuracy_score(y_train, train_pred)}\")\n",
    "print(f\"Testing accuracy: {accuracy_score(y_test, y_pred)}\")\n",
    "\n",
    "# Evaluate the model\n",
    "print(f\"Training report: {classification_report(y_train, train_pred)}\")\n",
    "print(f\"Testing report: {classification_report(y_test, y_pred)}\")"
   ]
  },
  {
   "cell_type": "markdown",
   "id": "5b4e0752",
   "metadata": {},
   "source": [
    "On this case, the diag columns seem important. But what if we try to fit a logistic regression model?"
   ]
  },
  {
   "cell_type": "code",
   "execution_count": null,
   "id": "a0611202",
   "metadata": {},
   "outputs": [],
   "source": [
    "lr_model = LogisticRegression(multi_class='ovr', solver='lbfgs', max_iter=1000)\n",
    "\n",
    "# Fit the model\n",
    "lr_model.fit(X_train_cor_nodiag, y_train)\n",
    "\n",
    "# Predictions\n",
    "train_pred = lr_model.predict(X_train_cor_nodiag)\n",
    "y_pred = lr_model.predict(X_test_cor_nodiag)\n",
    "\n",
    "# Evaluate the model\n",
    "print(f\"Training accuracy: {accuracy_score(y_train, train_pred)}\")\n",
    "print(f\"Testing accuracy: {accuracy_score(y_test, y_pred)}\")\n",
    "\n",
    "# Evaluate the model\n",
    "print(f\"Training report: {classification_report(y_train, train_pred)}\")\n",
    "print(f\"Testing report: {classification_report(y_test, y_pred)}\")"
   ]
  },
  {
   "cell_type": "markdown",
   "id": "f4f1a0e6",
   "metadata": {},
   "source": [
    "It didn't give us a good result."
   ]
  },
  {
   "cell_type": "markdown",
   "id": "b7395936",
   "metadata": {},
   "source": [
    "## 6. Final considerations"
   ]
  },
  {
   "cell_type": "markdown",
   "id": "6540b8c8",
   "metadata": {},
   "source": [
    "Let's recall the best result and predict on the burn test set"
   ]
  },
  {
   "cell_type": "code",
   "execution_count": null,
   "id": "067acca0",
   "metadata": {},
   "outputs": [],
   "source": [
    "# Initialize the XGBClassifier\n",
    "xgb_model = XGBClassifier(use_label_encoder=False, eval_metric='mlogloss')\n",
    "\n",
    "# Fit the model\n",
    "xgb_model.fit(X_train_cor, y_train)\n",
    "\n",
    "# Predictions\n",
    "train_pred = xgb_model.predict(X_train_cor)\n",
    "y_pred = xgb_model.predict(X_test_cor)\n",
    "\n",
    "# Evaluate the model\n",
    "print(f\"Training accuracy: {accuracy_score(y_train, train_pred)}\")\n",
    "print(f\"Testing accuracy: {accuracy_score(y_test, y_pred)}\")"
   ]
  },
  {
   "cell_type": "code",
   "execution_count": null,
   "id": "160ca2da",
   "metadata": {},
   "outputs": [],
   "source": [
    "X_test_burn.head(5)"
   ]
  },
  {
   "cell_type": "code",
   "execution_count": null,
   "id": "1ee4d5aa",
   "metadata": {},
   "outputs": [],
   "source": [
    "X_test_burn = X_test_burn.drop(columns=['avg_component_15', 'avg_component_18', 'avg_component_16', 'avg_component_59', 'avg_component_25', 'race_Caucasian', 'avg_component_24', 'avg_component_21', 'avg_component_89', 'avg_component_54'])\n",
    "y_pred_burn = xgb_model.predict(X_test_burn)\n",
    "\n",
    "print(f\"True testing accuracy: {accuracy_score(y_test_burn, y_pred_burn)}\")"
   ]
  },
  {
   "cell_type": "markdown",
   "id": "fb7d9361",
   "metadata": {},
   "source": [
    "Now lets look at the parameters that provide interpretation of the results"
   ]
  },
  {
   "cell_type": "code",
   "execution_count": null,
   "id": "a98e4c41",
   "metadata": {},
   "outputs": [],
   "source": [
    "# Feature importance\n",
    "feature_importance = xgb_model.feature_importances_\n",
    "\n",
    "# Create a list of tuples containing feature names and their importances\n",
    "feature_importance_list = [(feature_name, importance) for feature_name, importance in zip(X_train.columns, feature_importance)]\n",
    "\n",
    "# Sort the list of tuples based on feature importances (in descending order)\n",
    "sorted_feature_importance_list = sorted(feature_importance_list, key=lambda x: x[1], reverse=True)\n",
    "\n",
    "print(\"Feature Importance (Most to Least):\")\n",
    "for feature_name, importance in sorted_feature_importance_list:\n",
    "    print(f\"{feature_name}: {importance}\")"
   ]
  },
  {
   "cell_type": "code",
   "execution_count": null,
   "id": "007a30b5",
   "metadata": {},
   "outputs": [],
   "source": [
    "# Model evaluation\n",
    "print(\"Classification Report:\")\n",
    "print(classification_report(y_test_burn, y_pred_burn))\n",
    "\n",
    "print(\"Confusion Matrix:\")\n",
    "print(confusion_matrix(y_test_burn, y_pred_burn))"
   ]
  },
  {
   "cell_type": "markdown",
   "id": "6ae3a313817de051",
   "metadata": {
    "collapsed": false
   },
   "source": [
    "## 7. Sources "
   ]
  },
  {
   "cell_type": "markdown",
   "id": "be96dfeb2236e6b0",
   "metadata": {
    "collapsed": false
   },
   "source": [
    "Source 1: https://med.noridianmedicare.com/web/jfa/topics/claim-submission/patient-discharge-status-codes"
   ]
  }
 ],
 "metadata": {
  "kernelspec": {
   "display_name": "Python 3",
   "language": "python",
   "name": "python3"
  },
  "language_info": {
   "codemirror_mode": {
    "name": "ipython",
    "version": 3
   },
   "file_extension": ".py",
   "mimetype": "text/x-python",
   "name": "python",
   "nbconvert_exporter": "python",
   "pygments_lexer": "ipython3",
   "version": "3.9.6"
  }
 },
 "nbformat": 4,
 "nbformat_minor": 5
}
